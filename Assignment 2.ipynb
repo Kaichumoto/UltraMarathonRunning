{
 "cells": [
  {
   "cell_type": "markdown",
   "source": [
    "# Importing the data"
   ],
   "metadata": {
    "collapsed": false
   },
   "id": "d21570ce039e6c30"
  },
  {
   "cell_type": "markdown",
   "source": [
    "The dataset I used is https://www.kaggle.com/datasets/aiaiaidavid/the-big-dataset-of-ultra-marathon-running/data?select=TWO_CENTURIES_OF_UM_RACES.csv \n",
    "\n",
    "Github link: https://github.com/Kaichumoto/UltraMarathonRunning"
   ],
   "metadata": {
    "collapsed": false
   },
   "id": "79ddf013cb0f667"
  },
  {
   "cell_type": "code",
   "source": [
    "# Importing libraries\n",
    "\n",
    "import pandas as pd\n",
    "import numpy as np\n",
    "from scipy.stats import gmean\n",
    "from scipy.stats import zscore\n",
    "import seaborn as sns\n",
    "import matplotlib.pyplot as plt\n",
    "import datetime\n",
    "\n",
    "import warnings\n",
    "warnings.filterwarnings('ignore')"
   ],
   "metadata": {
    "collapsed": false,
    "ExecuteTime": {
     "end_time": "2024-04-10T07:12:38.667922Z",
     "start_time": "2024-04-10T07:12:38.654875Z"
    }
   },
   "id": "ea77a9f5a2205b2c",
   "outputs": [],
   "execution_count": 1
  },
  {
   "cell_type": "code",
   "source": [
    "# Creating data frame\n",
    "\n",
    "df = pd.read_csv(\"C:/Users/pangk/OneDrive - University of Johannesburg/University/Year 4/Learning from data/Assignment 2/The big dataset of ultra-marathon running/TWO_CENTURIES_OF_UM_RACES.csv\", low_memory=False)"
   ],
   "metadata": {
    "collapsed": false,
    "ExecuteTime": {
     "end_time": "2024-04-10T07:12:52.150487Z",
     "start_time": "2024-04-10T07:12:38.668925Z"
    }
   },
   "id": "47c01ecf651f3908",
   "outputs": [],
   "execution_count": 2
  },
  {
   "cell_type": "markdown",
   "source": [
    "## Checking that data is loaded correctly"
   ],
   "metadata": {
    "collapsed": false
   },
   "id": "96551a0e645bef67"
  },
  {
   "cell_type": "code",
   "source": [
    "df.head()"
   ],
   "metadata": {
    "collapsed": false,
    "ExecuteTime": {
     "end_time": "2024-04-10T07:12:52.212142Z",
     "start_time": "2024-04-10T07:12:52.154506Z"
    }
   },
   "id": "6469820a96ebfdc6",
   "outputs": [
    {
     "data": {
      "text/plain": [
       "   Year of event Event dates           Event name Event distance/length  \\\n",
       "0           2018  06.01.2018  Selva Costera (CHI)                  50km   \n",
       "1           2018  06.01.2018  Selva Costera (CHI)                  50km   \n",
       "2           2018  06.01.2018  Selva Costera (CHI)                  50km   \n",
       "3           2018  06.01.2018  Selva Costera (CHI)                  50km   \n",
       "4           2018  06.01.2018  Selva Costera (CHI)                  50km   \n",
       "\n",
       "   Event number of finishers Athlete performance        Athlete club  \\\n",
       "0                         22           4:51:39 h               Tnfrc   \n",
       "1                         22           5:15:45 h  Roberto Echeverría   \n",
       "2                         22           5:16:44 h   Puro Trail Osorno   \n",
       "3                         22           5:34:13 h            Columbia   \n",
       "4                         22           5:54:14 h      Baguales Trail   \n",
       "\n",
       "  Athlete country  Athlete year of birth Athlete gender Athlete age category  \\\n",
       "0             CHI                 1978.0              M                  M35   \n",
       "1             CHI                 1981.0              M                  M35   \n",
       "2             CHI                 1987.0              M                  M23   \n",
       "3             ARG                 1976.0              M                  M40   \n",
       "4             CHI                 1992.0              M                  M23   \n",
       "\n",
       "  Athlete average speed  Athlete ID  \n",
       "0                10.286           0  \n",
       "1                 9.501           1  \n",
       "2                 9.472           2  \n",
       "3                 8.976           3  \n",
       "4                 8.469           4  "
      ],
      "text/html": [
       "<div>\n",
       "<style scoped>\n",
       "    .dataframe tbody tr th:only-of-type {\n",
       "        vertical-align: middle;\n",
       "    }\n",
       "\n",
       "    .dataframe tbody tr th {\n",
       "        vertical-align: top;\n",
       "    }\n",
       "\n",
       "    .dataframe thead th {\n",
       "        text-align: right;\n",
       "    }\n",
       "</style>\n",
       "<table border=\"1\" class=\"dataframe\">\n",
       "  <thead>\n",
       "    <tr style=\"text-align: right;\">\n",
       "      <th></th>\n",
       "      <th>Year of event</th>\n",
       "      <th>Event dates</th>\n",
       "      <th>Event name</th>\n",
       "      <th>Event distance/length</th>\n",
       "      <th>Event number of finishers</th>\n",
       "      <th>Athlete performance</th>\n",
       "      <th>Athlete club</th>\n",
       "      <th>Athlete country</th>\n",
       "      <th>Athlete year of birth</th>\n",
       "      <th>Athlete gender</th>\n",
       "      <th>Athlete age category</th>\n",
       "      <th>Athlete average speed</th>\n",
       "      <th>Athlete ID</th>\n",
       "    </tr>\n",
       "  </thead>\n",
       "  <tbody>\n",
       "    <tr>\n",
       "      <th>0</th>\n",
       "      <td>2018</td>\n",
       "      <td>06.01.2018</td>\n",
       "      <td>Selva Costera (CHI)</td>\n",
       "      <td>50km</td>\n",
       "      <td>22</td>\n",
       "      <td>4:51:39 h</td>\n",
       "      <td>Tnfrc</td>\n",
       "      <td>CHI</td>\n",
       "      <td>1978.0</td>\n",
       "      <td>M</td>\n",
       "      <td>M35</td>\n",
       "      <td>10.286</td>\n",
       "      <td>0</td>\n",
       "    </tr>\n",
       "    <tr>\n",
       "      <th>1</th>\n",
       "      <td>2018</td>\n",
       "      <td>06.01.2018</td>\n",
       "      <td>Selva Costera (CHI)</td>\n",
       "      <td>50km</td>\n",
       "      <td>22</td>\n",
       "      <td>5:15:45 h</td>\n",
       "      <td>Roberto Echeverría</td>\n",
       "      <td>CHI</td>\n",
       "      <td>1981.0</td>\n",
       "      <td>M</td>\n",
       "      <td>M35</td>\n",
       "      <td>9.501</td>\n",
       "      <td>1</td>\n",
       "    </tr>\n",
       "    <tr>\n",
       "      <th>2</th>\n",
       "      <td>2018</td>\n",
       "      <td>06.01.2018</td>\n",
       "      <td>Selva Costera (CHI)</td>\n",
       "      <td>50km</td>\n",
       "      <td>22</td>\n",
       "      <td>5:16:44 h</td>\n",
       "      <td>Puro Trail Osorno</td>\n",
       "      <td>CHI</td>\n",
       "      <td>1987.0</td>\n",
       "      <td>M</td>\n",
       "      <td>M23</td>\n",
       "      <td>9.472</td>\n",
       "      <td>2</td>\n",
       "    </tr>\n",
       "    <tr>\n",
       "      <th>3</th>\n",
       "      <td>2018</td>\n",
       "      <td>06.01.2018</td>\n",
       "      <td>Selva Costera (CHI)</td>\n",
       "      <td>50km</td>\n",
       "      <td>22</td>\n",
       "      <td>5:34:13 h</td>\n",
       "      <td>Columbia</td>\n",
       "      <td>ARG</td>\n",
       "      <td>1976.0</td>\n",
       "      <td>M</td>\n",
       "      <td>M40</td>\n",
       "      <td>8.976</td>\n",
       "      <td>3</td>\n",
       "    </tr>\n",
       "    <tr>\n",
       "      <th>4</th>\n",
       "      <td>2018</td>\n",
       "      <td>06.01.2018</td>\n",
       "      <td>Selva Costera (CHI)</td>\n",
       "      <td>50km</td>\n",
       "      <td>22</td>\n",
       "      <td>5:54:14 h</td>\n",
       "      <td>Baguales Trail</td>\n",
       "      <td>CHI</td>\n",
       "      <td>1992.0</td>\n",
       "      <td>M</td>\n",
       "      <td>M23</td>\n",
       "      <td>8.469</td>\n",
       "      <td>4</td>\n",
       "    </tr>\n",
       "  </tbody>\n",
       "</table>\n",
       "</div>"
      ]
     },
     "execution_count": 3,
     "metadata": {},
     "output_type": "execute_result"
    }
   ],
   "execution_count": 3
  },
  {
   "cell_type": "code",
   "source": [
    "# Check rows and column\n",
    "\n",
    "df.shape"
   ],
   "metadata": {
    "collapsed": false,
    "ExecuteTime": {
     "end_time": "2024-04-10T07:12:52.227160Z",
     "start_time": "2024-04-10T07:12:52.214151Z"
    }
   },
   "id": "f542256fd4ec5633",
   "outputs": [
    {
     "data": {
      "text/plain": [
       "(7461195, 13)"
      ]
     },
     "execution_count": 4,
     "metadata": {},
     "output_type": "execute_result"
    }
   ],
   "execution_count": 4
  },
  {
   "cell_type": "code",
   "source": [
    "# Check Data type\n",
    "\n",
    "df.dtypes"
   ],
   "metadata": {
    "collapsed": false,
    "ExecuteTime": {
     "end_time": "2024-04-10T07:12:52.242215Z",
     "start_time": "2024-04-10T07:12:52.229195Z"
    }
   },
   "id": "4734fec4a01abe3a",
   "outputs": [
    {
     "data": {
      "text/plain": [
       "Year of event                  int64\n",
       "Event dates                   object\n",
       "Event name                    object\n",
       "Event distance/length         object\n",
       "Event number of finishers      int64\n",
       "Athlete performance           object\n",
       "Athlete club                  object\n",
       "Athlete country               object\n",
       "Athlete year of birth        float64\n",
       "Athlete gender                object\n",
       "Athlete age category          object\n",
       "Athlete average speed         object\n",
       "Athlete ID                     int64\n",
       "dtype: object"
      ]
     },
     "execution_count": 5,
     "metadata": {},
     "output_type": "execute_result"
    }
   ],
   "execution_count": 5
  },
  {
   "cell_type": "code",
   "source": [
    "# Checking unique Events\n",
    "\n",
    "df.value_counts('Event name')"
   ],
   "metadata": {
    "collapsed": false,
    "ExecuteTime": {
     "end_time": "2024-04-10T07:12:53.197723Z",
     "start_time": "2024-04-10T07:12:52.245156Z"
    }
   },
   "id": "520d914a6c029d71",
   "outputs": [
    {
     "data": {
      "text/plain": [
       "Event name\n",
       "Two Oceans Marathon (RSA)                                263574\n",
       "Comrades Marathon - Down Run (RSA)                       224491\n",
       "Comrades Marathon - Up Run (RSA)                         221162\n",
       "100 km Lauf Biel (SUI)                                   100657\n",
       "Two Oceans Marathon - 50km Split (RSA)                    84737\n",
       "                                                          ...  \n",
       "24 ore Bogliasco (ITA)                                        1\n",
       "Marathon of Marathons 100km Belgrade - 6h Split (SRB)         1\n",
       "Marathon of Marathons 24h Belgrade - 12h Split (SRB)          1\n",
       "24 hours Nytva (RUS)                                          1\n",
       "Korea Tour Mar. - Imsil to Gongju (KOR)                       1\n",
       "Name: count, Length: 26907, dtype: int64"
      ]
     },
     "execution_count": 6,
     "metadata": {},
     "output_type": "execute_result"
    }
   ],
   "execution_count": 6
  },
  {
   "cell_type": "code",
   "source": [
    "# Checking unique Year of Events\n",
    "\n",
    "df.value_counts('Year of event')"
   ],
   "metadata": {
    "collapsed": false,
    "ExecuteTime": {
     "end_time": "2024-04-10T07:12:53.395859Z",
     "start_time": "2024-04-10T07:12:53.200736Z"
    }
   },
   "id": "fe64da53a0c40016",
   "outputs": [
    {
     "data": {
      "text/plain": [
       "Year of event\n",
       "2019    732207\n",
       "2018    661483\n",
       "2017    604638\n",
       "2016    540073\n",
       "2015    480722\n",
       "         ...  \n",
       "1893         1\n",
       "1943         1\n",
       "1944         1\n",
       "1945         1\n",
       "1798         1\n",
       "Name: count, Length: 146, dtype: int64"
      ]
     },
     "execution_count": 7,
     "metadata": {},
     "output_type": "execute_result"
    }
   ],
   "execution_count": 7
  },
  {
   "cell_type": "code",
   "source": [
    "# Checking unique Length of Events\n",
    "\n",
    "df.value_counts('Event distance/length')"
   ],
   "metadata": {
    "collapsed": false,
    "ExecuteTime": {
     "end_time": "2024-04-10T07:12:53.939751Z",
     "start_time": "2024-04-10T07:12:53.398870Z"
    }
   },
   "id": "aae6f9fa83935564",
   "outputs": [
    {
     "data": {
      "text/plain": [
       "Event distance/length\n",
       "50km                1522609\n",
       "100km                951742\n",
       "50mi                 352181\n",
       "56km                 333253\n",
       "87km                 212062\n",
       "                     ...   \n",
       "303mi                     1\n",
       "727km                     1\n",
       "316.5km/7Etappen          1\n",
       "550km/6stages             1\n",
       "186mi                     1\n",
       "Name: count, Length: 2159, dtype: int64"
      ]
     },
     "execution_count": 8,
     "metadata": {},
     "output_type": "execute_result"
    }
   ],
   "execution_count": 8
  },
  {
   "cell_type": "code",
   "source": [
    "# Checking unique Athlete Clubs\n",
    "\n",
    "df.value_counts('Athlete club')"
   ],
   "metadata": {
    "collapsed": false,
    "ExecuteTime": {
     "end_time": "2024-04-10T07:12:55.909525Z",
     "start_time": "2024-04-10T07:12:53.941751Z"
    }
   },
   "id": "59e5505fa1313389",
   "outputs": [
    {
     "data": {
      "text/plain": [
       "Athlete club\n",
       "*Tokyo                       26782\n",
       "*La Réunion                  16814\n",
       "*Kanagawa Pref.              15456\n",
       "Rand AC                      14598\n",
       "*Saitama Pref.               12030\n",
       "                             ...  \n",
       "Marathon Team TJ Klimk...        1\n",
       "A.S.D. Terzo Tempo Trail         1\n",
       "Marathon Team Schlieben          1\n",
       "A.S.D. Three Four Fun            1\n",
       "�ﾓﾝﾍﾞﾙ                           1\n",
       "Name: count, Length: 552188, dtype: int64"
      ]
     },
     "execution_count": 9,
     "metadata": {},
     "output_type": "execute_result"
    }
   ],
   "execution_count": 9
  },
  {
   "cell_type": "code",
   "source": [
    "# Checking unique Countries\n",
    "\n",
    "df.value_counts('Athlete country')"
   ],
   "metadata": {
    "collapsed": false,
    "ExecuteTime": {
     "end_time": "2024-04-10T07:12:56.453198Z",
     "start_time": "2024-04-10T07:12:55.912050Z"
    }
   },
   "id": "239533dbf1cddbc5",
   "outputs": [
    {
     "data": {
      "text/plain": [
       "Athlete country\n",
       "USA    1389960\n",
       "FRA    1170884\n",
       "RSA     877630\n",
       "JPN     603132\n",
       "GER     442056\n",
       "        ...   \n",
       "MDG          1\n",
       "TWN          1\n",
       "SLE          1\n",
       "SVE          1\n",
       "ACT          1\n",
       "Name: count, Length: 208, dtype: int64"
      ]
     },
     "execution_count": 10,
     "metadata": {},
     "output_type": "execute_result"
    }
   ],
   "execution_count": 10
  },
  {
   "cell_type": "code",
   "source": [
    "# Checking unique Age Categories\n",
    "\n",
    "df.value_counts('Athlete age category')"
   ],
   "metadata": {
    "collapsed": false,
    "ExecuteTime": {
     "end_time": "2024-04-10T07:12:56.974361Z",
     "start_time": "2024-04-10T07:12:56.456234Z"
    }
   },
   "id": "77e52e446de62422",
   "outputs": [
    {
     "data": {
      "text/plain": [
       "Athlete age category\n",
       "M23     1228209\n",
       "M40     1054195\n",
       "M35      989217\n",
       "M45      908337\n",
       "M50      626637\n",
       "M55      351116\n",
       "W23      314473\n",
       "W40      264967\n",
       "W35      245020\n",
       "W45      221291\n",
       "M60      168131\n",
       "W50      135437\n",
       "MU23     100183\n",
       "M65       66603\n",
       "W55       64656\n",
       "W60       25664\n",
       "M30       23493\n",
       "M70       21698\n",
       "WU23      19540\n",
       "M20       18836\n",
       "W65        8810\n",
       "M75        5502\n",
       "W30        4385\n",
       "W20        2890\n",
       "W70        2850\n",
       "MU20       1355\n",
       "M80        1225\n",
       "W75         873\n",
       "WU20        316\n",
       "M85         164\n",
       "W80         123\n",
       "M95          28\n",
       "M90          19\n",
       "W85           8\n",
       "W95           3\n",
       "W90           2\n",
       "F35           1\n",
       "Name: count, dtype: int64"
      ]
     },
     "execution_count": 11,
     "metadata": {},
     "output_type": "execute_result"
    }
   ],
   "execution_count": 11
  },
  {
   "cell_type": "markdown",
   "source": [
    "# Cleaning the data\n",
    "## <u> Event distance </u>"
   ],
   "metadata": {
    "collapsed": false
   },
   "id": "e9a3e002b9a3c4b9"
  },
  {
   "cell_type": "code",
   "source": [
    "# Need to convert the distance/length all into km\n",
    "# Drop rows with missing values\n",
    "\n",
    "df.dropna(subset=['Event distance/length'], inplace=True)"
   ],
   "metadata": {
    "collapsed": false,
    "ExecuteTime": {
     "end_time": "2024-04-10T07:12:58.158692Z",
     "start_time": "2024-04-10T07:12:56.980325Z"
    }
   },
   "id": "2e4e19f90e53b6a2",
   "outputs": [],
   "execution_count": 12
  },
  {
   "cell_type": "code",
   "source": [
    "# Check if rows were dropped\n",
    "\n",
    "df.shape"
   ],
   "metadata": {
    "collapsed": false,
    "ExecuteTime": {
     "end_time": "2024-04-10T07:12:58.173722Z",
     "start_time": "2024-04-10T07:12:58.160694Z"
    }
   },
   "id": "e4409799643e6b1e",
   "outputs": [
    {
     "data": {
      "text/plain": [
       "(7460142, 13)"
      ]
     },
     "execution_count": 13,
     "metadata": {},
     "output_type": "execute_result"
    }
   ],
   "execution_count": 13
  },
  {
   "cell_type": "code",
   "source": [
    "# Cleaning up anything that is after a space like ' split'\n",
    "\n",
    "df['Event distance/length'] = df['Event distance/length'].str.split(' ').str[0]"
   ],
   "metadata": {
    "collapsed": false,
    "ExecuteTime": {
     "end_time": "2024-04-10T07:13:06.131902Z",
     "start_time": "2024-04-10T07:12:58.175679Z"
    }
   },
   "id": "bbf355f34c0091a5",
   "outputs": [],
   "execution_count": 14
  },
  {
   "cell_type": "code",
   "source": [
    "# Cleaning up anything after '/' like '/11Etappen'\n",
    "\n",
    "df['Event distance/length'] = df['Event distance/length'].str.split('/').str[0]"
   ],
   "metadata": {
    "collapsed": false,
    "ExecuteTime": {
     "end_time": "2024-04-10T07:13:13.478394Z",
     "start_time": "2024-04-10T07:13:06.133900Z"
    }
   },
   "id": "7d9e8effcde8fb59",
   "outputs": [],
   "execution_count": 15
  },
  {
   "cell_type": "code",
   "source": [
    "# Some data have '229km,100mi,100km' I will be cleaning up the distances after the comma\n",
    "\n",
    "df['Event distance/length'] = df['Event distance/length'].str.split(',').str[0]"
   ],
   "metadata": {
    "collapsed": false,
    "ExecuteTime": {
     "end_time": "2024-04-10T07:13:21.235045Z",
     "start_time": "2024-04-10T07:13:13.480394Z"
    }
   },
   "id": "2400ce7d9be35e13",
   "outputs": [],
   "execution_count": 16
  },
  {
   "cell_type": "code",
   "source": [
    "# Transform miles and Miles to mi\n",
    "\n",
    "df['Event distance/length'] = df['Event distance/length'].str.replace(r'\\b(\\d+)\\s*miles?\\b', r'\\1mi', regex=True)\n",
    "df['Event distance/length'] = df['Event distance/length'].str.replace(r'\\b(\\d+)\\s*Miles?\\b', r'\\1mi', regex=True)"
   ],
   "metadata": {
    "collapsed": false,
    "ExecuteTime": {
     "end_time": "2024-04-10T07:13:57.643830Z",
     "start_time": "2024-04-10T07:13:21.237515Z"
    }
   },
   "id": "9f885981dda4fe8d",
   "outputs": [],
   "execution_count": 17
  },
  {
   "cell_type": "code",
   "source": [
    "# Cleaning up '+\"\n",
    "\n",
    "df['Event distance/length'] = df['Event distance/length'].str.replace(r'(\\d+)mi\\+', r'\\1mi', regex=True)"
   ],
   "metadata": {
    "collapsed": false,
    "ExecuteTime": {
     "end_time": "2024-04-10T07:14:10.010830Z",
     "start_time": "2024-04-10T07:13:57.645830Z"
    }
   },
   "id": "4862708dcd589fb2",
   "outputs": [],
   "execution_count": 18
  },
  {
   "cell_type": "code",
   "source": [
    "# Making sure data is not being lost unexpectedly\n",
    "\n",
    "df.shape"
   ],
   "metadata": {
    "collapsed": false,
    "ExecuteTime": {
     "end_time": "2024-04-10T07:14:10.026829Z",
     "start_time": "2024-04-10T07:14:10.011830Z"
    }
   },
   "id": "7b20de06b456bad4",
   "outputs": [
    {
     "data": {
      "text/plain": [
       "(7460142, 13)"
      ]
     },
     "execution_count": 19,
     "metadata": {},
     "output_type": "execute_result"
    }
   ],
   "execution_count": 19
  },
  {
   "cell_type": "code",
   "source": [
    "# Checking Distance units\n",
    "\n",
    "print(df['Event distance/length'].str.extract('([a-zA-Z]+)', expand=False).unique())"
   ],
   "metadata": {
    "collapsed": false,
    "ExecuteTime": {
     "end_time": "2024-04-10T07:14:13.344464Z",
     "start_time": "2024-04-10T07:14:10.027830Z"
    }
   },
   "id": "8b2f258cf3da1bf2",
   "outputs": [
    {
     "name": "stdout",
     "output_type": "stream",
     "text": [
      "['km' 'h' 'mi' 'd' 'k' 'Km' nan 'm' 'K' 'x']\n"
     ]
    }
   ],
   "execution_count": 20
  },
  {
   "cell_type": "code",
   "source": [
    "# Lowers all the cases for the next step in clean up\n",
    "\n",
    "df['Event distance/length'] = df['Event distance/length'].apply(lambda x: x.lower() if isinstance(x, str) else x)"
   ],
   "metadata": {
    "collapsed": false,
    "ExecuteTime": {
     "end_time": "2024-04-10T07:14:14.623003Z",
     "start_time": "2024-04-10T07:14:13.347465Z"
    }
   },
   "id": "8d2a087c4cb597ef",
   "outputs": [],
   "execution_count": 21
  },
  {
   "cell_type": "code",
   "source": [
    "# Replace k to km\n",
    "\n",
    "df['Event distance/length'] = df['Event distance/length'].str.replace(r'(\\d+)k\\Z', r'\\1km', regex=True)"
   ],
   "metadata": {
    "collapsed": false,
    "ExecuteTime": {
     "end_time": "2024-04-10T07:14:22.572019Z",
     "start_time": "2024-04-10T07:14:14.623956Z"
    }
   },
   "id": "3c6c8124b2056ec9",
   "outputs": [],
   "execution_count": 22
  },
  {
   "cell_type": "code",
   "source": [
    "# Replace the one '4x52km' with '208km'\n",
    "\n",
    "df['Event distance/length'] = df['Event distance/length'].str.replace('4x52km', '208km',)"
   ],
   "metadata": {
    "collapsed": false,
    "ExecuteTime": {
     "end_time": "2024-04-10T07:14:23.736254Z",
     "start_time": "2024-04-10T07:14:22.573020Z"
    }
   },
   "id": "b42513ff24f63b26",
   "outputs": [],
   "execution_count": 23
  },
  {
   "cell_type": "code",
   "source": [
    "# Remove any spaces between values for further cleanup\n",
    "\n",
    "df['Event distance/length'] = df['Event distance/length'].str.replace(' ', '')"
   ],
   "metadata": {
    "collapsed": false,
    "ExecuteTime": {
     "end_time": "2024-04-10T07:14:24.935687Z",
     "start_time": "2024-04-10T07:14:23.737255Z"
    }
   },
   "id": "4baa44cc2a198321",
   "outputs": [],
   "execution_count": 24
  },
  {
   "cell_type": "code",
   "source": [
    "# Checking units after cleanup\n",
    "\n",
    "print(df['Event distance/length'].str.extract('([a-zA-Z]+)', expand=False).unique())"
   ],
   "metadata": {
    "collapsed": false,
    "ExecuteTime": {
     "end_time": "2024-04-10T07:14:28.531417Z",
     "start_time": "2024-04-10T07:14:24.936688Z"
    }
   },
   "id": "63883a98d67266ba",
   "outputs": [
    {
     "name": "stdout",
     "output_type": "stream",
     "text": [
      "['km' 'h' 'mi' 'd' nan 'm']\n"
     ]
    }
   ],
   "execution_count": 25
  },
  {
   "cell_type": "code",
   "source": [
    "# Checking data\n",
    "\n",
    "df.value_counts('Event distance/length')"
   ],
   "metadata": {
    "collapsed": false,
    "ExecuteTime": {
     "end_time": "2024-04-10T07:14:28.883708Z",
     "start_time": "2024-04-10T07:14:28.532417Z"
    }
   },
   "id": "9afa4f3705dfa65",
   "outputs": [
    {
     "data": {
      "text/plain": [
       "Event distance/length\n",
       "50km       1523048\n",
       "100km       957877\n",
       "50mi        352445\n",
       "56km        333303\n",
       "87km        212139\n",
       "            ...   \n",
       "5061km           1\n",
       "162.6km          1\n",
       "105.8mi          1\n",
       "303mi            1\n",
       "61.15km          1\n",
       "Name: count, Length: 1683, dtype: int64"
      ]
     },
     "execution_count": 26,
     "metadata": {},
     "output_type": "execute_result"
    }
   ],
   "execution_count": 26
  },
  {
   "cell_type": "code",
   "source": [
    "# Making sure data is not being lost\n",
    "\n",
    "df.shape"
   ],
   "metadata": {
    "collapsed": false,
    "ExecuteTime": {
     "end_time": "2024-04-10T07:14:28.899216Z",
     "start_time": "2024-04-10T07:14:28.884708Z"
    }
   },
   "id": "a8c07b2540235b32",
   "outputs": [
    {
     "data": {
      "text/plain": [
       "(7460142, 13)"
      ]
     },
     "execution_count": 27,
     "metadata": {},
     "output_type": "execute_result"
    }
   ],
   "execution_count": 27
  },
  {
   "cell_type": "code",
   "source": [
    "# Setting the dataframe for distance analysis with km and mi only\n",
    "\n",
    "df = df[df['Event distance/length'].str.contains('km|mi')]"
   ],
   "metadata": {
    "collapsed": false,
    "ExecuteTime": {
     "end_time": "2024-04-10T07:14:31.643155Z",
     "start_time": "2024-04-10T07:14:28.901216Z"
    }
   },
   "id": "d47d8969e028ac96",
   "outputs": [],
   "execution_count": 28
  },
  {
   "cell_type": "code",
   "source": [
    "# Checking how many records with km and mi\n",
    "\n",
    "df.shape"
   ],
   "metadata": {
    "collapsed": false,
    "ExecuteTime": {
     "end_time": "2024-04-10T07:14:31.658176Z",
     "start_time": "2024-04-10T07:14:31.644155Z"
    }
   },
   "id": "ac795e68db7681b6",
   "outputs": [
    {
     "data": {
      "text/plain": [
       "(6933114, 13)"
      ]
     },
     "execution_count": 29,
     "metadata": {},
     "output_type": "execute_result"
    }
   ],
   "execution_count": 29
  },
  {
   "cell_type": "code",
   "source": [
    "# Converting Miles to Kilometers\n",
    "\n",
    "def convert_to_km(distance_str):\n",
    "    \"\"\"\n",
    "    This function converts a distance string (e.g., \"6km\", \"3mi\") to kilometers.\n",
    "  \n",
    "    Args:\n",
    "        distance_str: The string representation of the distance.\n",
    "  \n",
    "    Returns:\n",
    "        The distance in kilometers as a float.\n",
    "    \"\"\"\n",
    "    unit = distance_str[-2:]  # Get the last two characters (units)\n",
    "    value = float(distance_str[:-2])  # Extract the numerical value\n",
    "\n",
    "    if unit == \"km\":\n",
    "        return value\n",
    "    elif unit == \"mi\":\n",
    "        # 1 mile = 1.60934 kilometers\n",
    "        return value * 1.60934\n",
    "    else:\n",
    "        raise ValueError(f\"Unknown unit: {unit}\")\n",
    "\n",
    "df[\"distance_km\"] = df[\"Event distance/length\"].apply(convert_to_km)"
   ],
   "metadata": {
    "collapsed": false,
    "ExecuteTime": {
     "end_time": "2024-04-10T07:14:34.436785Z",
     "start_time": "2024-04-10T07:14:31.660155Z"
    }
   },
   "id": "60d60b5bd763ac05",
   "outputs": [],
   "execution_count": 30
  },
  {
   "cell_type": "code",
   "source": [
    "# Checking data\n",
    "\n",
    "df['distance_km'].head()"
   ],
   "metadata": {
    "collapsed": false,
    "ExecuteTime": {
     "end_time": "2024-04-10T07:14:34.451806Z",
     "start_time": "2024-04-10T07:14:34.437791Z"
    }
   },
   "id": "982926155a326e11",
   "outputs": [
    {
     "data": {
      "text/plain": [
       "0    50.0\n",
       "1    50.0\n",
       "2    50.0\n",
       "3    50.0\n",
       "4    50.0\n",
       "Name: distance_km, dtype: float64"
      ]
     },
     "execution_count": 31,
     "metadata": {},
     "output_type": "execute_result"
    }
   ],
   "execution_count": 31
  },
  {
   "cell_type": "code",
   "source": [
    "# Checking if distance is converted correctly\n",
    "\n",
    "df[['Event distance/length', 'distance_km']]"
   ],
   "metadata": {
    "collapsed": false,
    "ExecuteTime": {
     "end_time": "2024-04-10T07:14:34.562373Z",
     "start_time": "2024-04-10T07:14:34.452791Z"
    }
   },
   "id": "d6a3dbb7b3ed69fe",
   "outputs": [
    {
     "data": {
      "text/plain": [
       "        Event distance/length  distance_km\n",
       "0                        50km       50.000\n",
       "1                        50km       50.000\n",
       "2                        50km       50.000\n",
       "3                        50km       50.000\n",
       "4                        50km       50.000\n",
       "...                       ...          ...\n",
       "7461185                  50mi       80.467\n",
       "7461186                61.3km       61.300\n",
       "7461187                61.3km       61.300\n",
       "7461190                  65km       65.000\n",
       "7461191                  65km       65.000\n",
       "\n",
       "[6933114 rows x 2 columns]"
      ],
      "text/html": [
       "<div>\n",
       "<style scoped>\n",
       "    .dataframe tbody tr th:only-of-type {\n",
       "        vertical-align: middle;\n",
       "    }\n",
       "\n",
       "    .dataframe tbody tr th {\n",
       "        vertical-align: top;\n",
       "    }\n",
       "\n",
       "    .dataframe thead th {\n",
       "        text-align: right;\n",
       "    }\n",
       "</style>\n",
       "<table border=\"1\" class=\"dataframe\">\n",
       "  <thead>\n",
       "    <tr style=\"text-align: right;\">\n",
       "      <th></th>\n",
       "      <th>Event distance/length</th>\n",
       "      <th>distance_km</th>\n",
       "    </tr>\n",
       "  </thead>\n",
       "  <tbody>\n",
       "    <tr>\n",
       "      <th>0</th>\n",
       "      <td>50km</td>\n",
       "      <td>50.000</td>\n",
       "    </tr>\n",
       "    <tr>\n",
       "      <th>1</th>\n",
       "      <td>50km</td>\n",
       "      <td>50.000</td>\n",
       "    </tr>\n",
       "    <tr>\n",
       "      <th>2</th>\n",
       "      <td>50km</td>\n",
       "      <td>50.000</td>\n",
       "    </tr>\n",
       "    <tr>\n",
       "      <th>3</th>\n",
       "      <td>50km</td>\n",
       "      <td>50.000</td>\n",
       "    </tr>\n",
       "    <tr>\n",
       "      <th>4</th>\n",
       "      <td>50km</td>\n",
       "      <td>50.000</td>\n",
       "    </tr>\n",
       "    <tr>\n",
       "      <th>...</th>\n",
       "      <td>...</td>\n",
       "      <td>...</td>\n",
       "    </tr>\n",
       "    <tr>\n",
       "      <th>7461185</th>\n",
       "      <td>50mi</td>\n",
       "      <td>80.467</td>\n",
       "    </tr>\n",
       "    <tr>\n",
       "      <th>7461186</th>\n",
       "      <td>61.3km</td>\n",
       "      <td>61.300</td>\n",
       "    </tr>\n",
       "    <tr>\n",
       "      <th>7461187</th>\n",
       "      <td>61.3km</td>\n",
       "      <td>61.300</td>\n",
       "    </tr>\n",
       "    <tr>\n",
       "      <th>7461190</th>\n",
       "      <td>65km</td>\n",
       "      <td>65.000</td>\n",
       "    </tr>\n",
       "    <tr>\n",
       "      <th>7461191</th>\n",
       "      <td>65km</td>\n",
       "      <td>65.000</td>\n",
       "    </tr>\n",
       "  </tbody>\n",
       "</table>\n",
       "<p>6933114 rows × 2 columns</p>\n",
       "</div>"
      ]
     },
     "execution_count": 32,
     "metadata": {},
     "output_type": "execute_result"
    }
   ],
   "execution_count": 32
  },
  {
   "cell_type": "markdown",
   "source": [
    "## <u> Athlete year of birth </u>"
   ],
   "metadata": {
    "collapsed": false
   },
   "id": "977d95595483a299"
  },
  {
   "cell_type": "code",
   "source": [
    "# Checking for null values \n",
    "\n",
    "df['Athlete year of birth'].isnull().values.any()"
   ],
   "metadata": {
    "collapsed": false,
    "ExecuteTime": {
     "end_time": "2024-04-10T07:14:34.577458Z",
     "start_time": "2024-04-10T07:14:34.564358Z"
    }
   },
   "id": "d147a58442e58bd7",
   "outputs": [
    {
     "data": {
      "text/plain": [
       "True"
      ]
     },
     "execution_count": 33,
     "metadata": {},
     "output_type": "execute_result"
    }
   ],
   "execution_count": 33
  },
  {
   "cell_type": "code",
   "source": [
    "# Checking the number of null values\n",
    "\n",
    "df['Athlete year of birth'].isnull().sum()"
   ],
   "metadata": {
    "collapsed": false,
    "ExecuteTime": {
     "end_time": "2024-04-10T07:14:34.607998Z",
     "start_time": "2024-04-10T07:14:34.578533Z"
    }
   },
   "id": "a1a8e191a62d9b70",
   "outputs": [
    {
     "data": {
      "text/plain": [
       "549188"
      ]
     },
     "execution_count": 34,
     "metadata": {},
     "output_type": "execute_result"
    }
   ],
   "execution_count": 34
  },
  {
   "cell_type": "code",
   "source": [
    "# Checking all the years in the 'Athlete year of birth'\n",
    "\n",
    "df['Athlete year of birth'].unique()"
   ],
   "metadata": {
    "collapsed": false,
    "ExecuteTime": {
     "end_time": "2024-04-10T07:14:34.668006Z",
     "start_time": "2024-04-10T07:14:34.609974Z"
    }
   },
   "id": "be46be08a87756c3",
   "outputs": [
    {
     "data": {
      "text/plain": [
       "array([1978., 1981., 1987., 1976., 1992., 1974., 1979., 1967., 1985.,\n",
       "       1977.,   nan, 1990., 1971., 1956., 1980., 1966., 1982., 1989.,\n",
       "       1975., 1961., 1964., 1963., 1973., 1983., 1986., 1988., 1995.,\n",
       "       1991., 1965., 1970., 1984., 1996., 1968., 1972., 1960., 1969.,\n",
       "       1962., 1999., 2006., 1998., 1958., 1957., 1994., 1951., 1953.,\n",
       "       1959., 1952., 1954., 1955., 1943., 1950., 1993., 1997., 2000.,\n",
       "       2002., 2001., 1949., 1947., 1948., 1942., 1944., 1946., 1945.,\n",
       "       1941., 1938., 1937., 2007., 2003., 1940., 2005., 1936., 1939.,\n",
       "       2004., 2008., 1935., 1934., 2016., 1924., 2009., 2010., 2017.,\n",
       "       2012., 2011., 1933., 1932., 1931., 1904., 1927., 1922., 1930.,\n",
       "       1929., 1917., 2014., 2018., 1920., 1928., 1919., 2019., 1901.,\n",
       "       1193., 1926., 2021., 1923., 2020., 1910., 1921., 1925., 1911.,\n",
       "       1916., 1918., 1900., 1908., 1878., 1914., 1913., 1915., 1905.,\n",
       "       1791., 1839., 1831., 1846., 1841., 1845., 1847., 1853., 1840.,\n",
       "       1852., 1844., 1843., 1832., 1859., 1850., 1858., 1849., 1851.,\n",
       "       1863., 1816., 1868., 1869., 1862., 1871., 1867., 1864., 1872.,\n",
       "       1874., 1870., 1875., 1834., 1865., 1838., 1866., 1860., 1861.,\n",
       "       1873., 1876., 1856., 1855., 1857., 1877., 1817., 1882., 1883.,\n",
       "       1887., 1885., 1888., 1893., 1890., 1895., 1906., 1891., 1889.,\n",
       "       1884., 1902., 1892., 1903., 1896., 1898., 1907., 1894., 1886.,\n",
       "       1912., 1909., 1897., 1899.])"
      ]
     },
     "execution_count": 35,
     "metadata": {},
     "output_type": "execute_result"
    }
   ],
   "execution_count": 35
  },
  {
   "cell_type": "code",
   "source": [
    "df[(df['Athlete year of birth'].isna() == 1) & df['Athlete age category'].notna()]\n",
    "\n",
    "# Doing research to see if I can add back missing year data\n",
    "# M20 means 20-30 years old so all the categories represents a range of ages. \n",
    "# Meaning I can not add back the missing data.\n"
   ],
   "metadata": {
    "collapsed": false,
    "ExecuteTime": {
     "end_time": "2024-04-10T07:14:34.821068Z",
     "start_time": "2024-04-10T07:14:34.668974Z"
    }
   },
   "id": "477ca2c3f62ef7d3",
   "outputs": [
    {
     "data": {
      "text/plain": [
       "         Year of event     Event dates  \\\n",
       "4661              2018      18.03.2018   \n",
       "5897              2018      18.03.2018   \n",
       "7186              2018  17.-18.03.2018   \n",
       "8294              2018  17.-18.03.2018   \n",
       "21192             2018      11.03.2018   \n",
       "...                ...             ...   \n",
       "7427621           1995      29.07.1995   \n",
       "7438495           1995      20.05.1995   \n",
       "7442569           1995      20.05.1995   \n",
       "7453724           1995      15.04.1995   \n",
       "7455951           1995      15.04.1995   \n",
       "\n",
       "                                            Event name Event distance/length  \\\n",
       "4661                  Endurance Day Hamme 100 km (BEL)                 100km   \n",
       "5897                       Trail du Petit Ballon (FRA)                52.6km   \n",
       "7186         Monasterio De Tarlac Ultra Marathon (PHI)                  50km   \n",
       "8294     EcoTrail de Paris - Ile de France 80 km (FRA)                  80km   \n",
       "21192                       Fall Creek Falls 50K (USA)                  50km   \n",
       "...                                                ...                   ...   \n",
       "7427621                    Swiss Alpine Marathon (SUI)                  67km   \n",
       "7438495             Comrades Marathon - Down Run (RSA)                  89km   \n",
       "7442569             Comrades Marathon - Down Run (RSA)                  89km   \n",
       "7453724                      Two Oceans Marathon (RSA)                  56km   \n",
       "7455951                      Two Oceans Marathon (RSA)                  56km   \n",
       "\n",
       "         Event number of finishers Athlete performance    Athlete club  \\\n",
       "4661                             6          11:35:54 h             NaN   \n",
       "5897                           876           5:37:08 h             NaN   \n",
       "7186                           198           9:46:52 h             NaN   \n",
       "8294                          1695          10:14:04 h             NaN   \n",
       "21192                           49           5:46:59 h  *Knoxville, TN   \n",
       "...                            ...                 ...             ...   \n",
       "7427621                       1399           9:05:54 h             NaN   \n",
       "7438495                      10541           8:48:59 h             NaN   \n",
       "7442569                      10541          10:21:23 h             NaN   \n",
       "7453724                       6329           5:23:14 h             NaN   \n",
       "7455951                       6329           5:51:30 h             NaN   \n",
       "\n",
       "        Athlete country  Athlete year of birth Athlete gender  \\\n",
       "4661                XXX                    NaN              M   \n",
       "5897                FRA                    NaN              M   \n",
       "7186                XXX                    NaN              M   \n",
       "8294                FRA                    NaN              M   \n",
       "21192               XXX                    NaN              M   \n",
       "...                 ...                    ...            ...   \n",
       "7427621             XXX                    NaN              M   \n",
       "7438495             GER                    NaN              M   \n",
       "7442569             GER                    NaN              F   \n",
       "7453724             XXX                    NaN              M   \n",
       "7455951             XXX                    NaN              M   \n",
       "\n",
       "        Athlete age category Athlete average speed  Athlete ID  distance_km  \n",
       "4661                     M35                 8.622        4033        100.0  \n",
       "5897                     M23                 9.361        5265         52.6  \n",
       "7186                     M35                 5.112        4033         50.0  \n",
       "8294                     M35                 7.817        5265         80.0  \n",
       "21192                    M35                 8.646        4033         50.0  \n",
       "...                      ...                   ...         ...          ...  \n",
       "7427621                 MU23                7364.0        4033         67.0  \n",
       "7438495                  M45               10095.0        5265         89.0  \n",
       "7442569                  W45                8594.0        5265         89.0  \n",
       "7453724                 MU23               10395.0        4033         56.0  \n",
       "7455951                 MU23                9559.0        4033         56.0  \n",
       "\n",
       "[3155 rows x 14 columns]"
      ],
      "text/html": [
       "<div>\n",
       "<style scoped>\n",
       "    .dataframe tbody tr th:only-of-type {\n",
       "        vertical-align: middle;\n",
       "    }\n",
       "\n",
       "    .dataframe tbody tr th {\n",
       "        vertical-align: top;\n",
       "    }\n",
       "\n",
       "    .dataframe thead th {\n",
       "        text-align: right;\n",
       "    }\n",
       "</style>\n",
       "<table border=\"1\" class=\"dataframe\">\n",
       "  <thead>\n",
       "    <tr style=\"text-align: right;\">\n",
       "      <th></th>\n",
       "      <th>Year of event</th>\n",
       "      <th>Event dates</th>\n",
       "      <th>Event name</th>\n",
       "      <th>Event distance/length</th>\n",
       "      <th>Event number of finishers</th>\n",
       "      <th>Athlete performance</th>\n",
       "      <th>Athlete club</th>\n",
       "      <th>Athlete country</th>\n",
       "      <th>Athlete year of birth</th>\n",
       "      <th>Athlete gender</th>\n",
       "      <th>Athlete age category</th>\n",
       "      <th>Athlete average speed</th>\n",
       "      <th>Athlete ID</th>\n",
       "      <th>distance_km</th>\n",
       "    </tr>\n",
       "  </thead>\n",
       "  <tbody>\n",
       "    <tr>\n",
       "      <th>4661</th>\n",
       "      <td>2018</td>\n",
       "      <td>18.03.2018</td>\n",
       "      <td>Endurance Day Hamme 100 km (BEL)</td>\n",
       "      <td>100km</td>\n",
       "      <td>6</td>\n",
       "      <td>11:35:54 h</td>\n",
       "      <td>NaN</td>\n",
       "      <td>XXX</td>\n",
       "      <td>NaN</td>\n",
       "      <td>M</td>\n",
       "      <td>M35</td>\n",
       "      <td>8.622</td>\n",
       "      <td>4033</td>\n",
       "      <td>100.0</td>\n",
       "    </tr>\n",
       "    <tr>\n",
       "      <th>5897</th>\n",
       "      <td>2018</td>\n",
       "      <td>18.03.2018</td>\n",
       "      <td>Trail du Petit Ballon (FRA)</td>\n",
       "      <td>52.6km</td>\n",
       "      <td>876</td>\n",
       "      <td>5:37:08 h</td>\n",
       "      <td>NaN</td>\n",
       "      <td>FRA</td>\n",
       "      <td>NaN</td>\n",
       "      <td>M</td>\n",
       "      <td>M23</td>\n",
       "      <td>9.361</td>\n",
       "      <td>5265</td>\n",
       "      <td>52.6</td>\n",
       "    </tr>\n",
       "    <tr>\n",
       "      <th>7186</th>\n",
       "      <td>2018</td>\n",
       "      <td>17.-18.03.2018</td>\n",
       "      <td>Monasterio De Tarlac Ultra Marathon (PHI)</td>\n",
       "      <td>50km</td>\n",
       "      <td>198</td>\n",
       "      <td>9:46:52 h</td>\n",
       "      <td>NaN</td>\n",
       "      <td>XXX</td>\n",
       "      <td>NaN</td>\n",
       "      <td>M</td>\n",
       "      <td>M35</td>\n",
       "      <td>5.112</td>\n",
       "      <td>4033</td>\n",
       "      <td>50.0</td>\n",
       "    </tr>\n",
       "    <tr>\n",
       "      <th>8294</th>\n",
       "      <td>2018</td>\n",
       "      <td>17.-18.03.2018</td>\n",
       "      <td>EcoTrail de Paris - Ile de France 80 km (FRA)</td>\n",
       "      <td>80km</td>\n",
       "      <td>1695</td>\n",
       "      <td>10:14:04 h</td>\n",
       "      <td>NaN</td>\n",
       "      <td>FRA</td>\n",
       "      <td>NaN</td>\n",
       "      <td>M</td>\n",
       "      <td>M35</td>\n",
       "      <td>7.817</td>\n",
       "      <td>5265</td>\n",
       "      <td>80.0</td>\n",
       "    </tr>\n",
       "    <tr>\n",
       "      <th>21192</th>\n",
       "      <td>2018</td>\n",
       "      <td>11.03.2018</td>\n",
       "      <td>Fall Creek Falls 50K (USA)</td>\n",
       "      <td>50km</td>\n",
       "      <td>49</td>\n",
       "      <td>5:46:59 h</td>\n",
       "      <td>*Knoxville, TN</td>\n",
       "      <td>XXX</td>\n",
       "      <td>NaN</td>\n",
       "      <td>M</td>\n",
       "      <td>M35</td>\n",
       "      <td>8.646</td>\n",
       "      <td>4033</td>\n",
       "      <td>50.0</td>\n",
       "    </tr>\n",
       "    <tr>\n",
       "      <th>...</th>\n",
       "      <td>...</td>\n",
       "      <td>...</td>\n",
       "      <td>...</td>\n",
       "      <td>...</td>\n",
       "      <td>...</td>\n",
       "      <td>...</td>\n",
       "      <td>...</td>\n",
       "      <td>...</td>\n",
       "      <td>...</td>\n",
       "      <td>...</td>\n",
       "      <td>...</td>\n",
       "      <td>...</td>\n",
       "      <td>...</td>\n",
       "      <td>...</td>\n",
       "    </tr>\n",
       "    <tr>\n",
       "      <th>7427621</th>\n",
       "      <td>1995</td>\n",
       "      <td>29.07.1995</td>\n",
       "      <td>Swiss Alpine Marathon (SUI)</td>\n",
       "      <td>67km</td>\n",
       "      <td>1399</td>\n",
       "      <td>9:05:54 h</td>\n",
       "      <td>NaN</td>\n",
       "      <td>XXX</td>\n",
       "      <td>NaN</td>\n",
       "      <td>M</td>\n",
       "      <td>MU23</td>\n",
       "      <td>7364.0</td>\n",
       "      <td>4033</td>\n",
       "      <td>67.0</td>\n",
       "    </tr>\n",
       "    <tr>\n",
       "      <th>7438495</th>\n",
       "      <td>1995</td>\n",
       "      <td>20.05.1995</td>\n",
       "      <td>Comrades Marathon - Down Run (RSA)</td>\n",
       "      <td>89km</td>\n",
       "      <td>10541</td>\n",
       "      <td>8:48:59 h</td>\n",
       "      <td>NaN</td>\n",
       "      <td>GER</td>\n",
       "      <td>NaN</td>\n",
       "      <td>M</td>\n",
       "      <td>M45</td>\n",
       "      <td>10095.0</td>\n",
       "      <td>5265</td>\n",
       "      <td>89.0</td>\n",
       "    </tr>\n",
       "    <tr>\n",
       "      <th>7442569</th>\n",
       "      <td>1995</td>\n",
       "      <td>20.05.1995</td>\n",
       "      <td>Comrades Marathon - Down Run (RSA)</td>\n",
       "      <td>89km</td>\n",
       "      <td>10541</td>\n",
       "      <td>10:21:23 h</td>\n",
       "      <td>NaN</td>\n",
       "      <td>GER</td>\n",
       "      <td>NaN</td>\n",
       "      <td>F</td>\n",
       "      <td>W45</td>\n",
       "      <td>8594.0</td>\n",
       "      <td>5265</td>\n",
       "      <td>89.0</td>\n",
       "    </tr>\n",
       "    <tr>\n",
       "      <th>7453724</th>\n",
       "      <td>1995</td>\n",
       "      <td>15.04.1995</td>\n",
       "      <td>Two Oceans Marathon (RSA)</td>\n",
       "      <td>56km</td>\n",
       "      <td>6329</td>\n",
       "      <td>5:23:14 h</td>\n",
       "      <td>NaN</td>\n",
       "      <td>XXX</td>\n",
       "      <td>NaN</td>\n",
       "      <td>M</td>\n",
       "      <td>MU23</td>\n",
       "      <td>10395.0</td>\n",
       "      <td>4033</td>\n",
       "      <td>56.0</td>\n",
       "    </tr>\n",
       "    <tr>\n",
       "      <th>7455951</th>\n",
       "      <td>1995</td>\n",
       "      <td>15.04.1995</td>\n",
       "      <td>Two Oceans Marathon (RSA)</td>\n",
       "      <td>56km</td>\n",
       "      <td>6329</td>\n",
       "      <td>5:51:30 h</td>\n",
       "      <td>NaN</td>\n",
       "      <td>XXX</td>\n",
       "      <td>NaN</td>\n",
       "      <td>M</td>\n",
       "      <td>MU23</td>\n",
       "      <td>9559.0</td>\n",
       "      <td>4033</td>\n",
       "      <td>56.0</td>\n",
       "    </tr>\n",
       "  </tbody>\n",
       "</table>\n",
       "<p>3155 rows × 14 columns</p>\n",
       "</div>"
      ]
     },
     "execution_count": 36,
     "metadata": {},
     "output_type": "execute_result"
    }
   ],
   "execution_count": 36
  },
  {
   "cell_type": "code",
   "source": [
    "# Checking how many rows is NaN\n",
    "df[df['Athlete year of birth'].isna()]"
   ],
   "metadata": {
    "collapsed": false,
    "ExecuteTime": {
     "end_time": "2024-04-10T07:14:34.927564Z",
     "start_time": "2024-04-10T07:14:34.823066Z"
    }
   },
   "id": "ad1633cc50bba76b",
   "outputs": [
    {
     "data": {
      "text/plain": [
       "         Year of event Event dates  \\\n",
       "11                2018  06.01.2018   \n",
       "19                2018  06.01.2018   \n",
       "20                2018  06.01.2018   \n",
       "246               2018  02.01.2018   \n",
       "247               2018  02.01.2018   \n",
       "...                ...         ...   \n",
       "7461079           1995  07.01.1995   \n",
       "7461081           1995  07.01.1995   \n",
       "7461086           1995  07.01.1995   \n",
       "7461190           1995  00.00.1995   \n",
       "7461191           1995  00.00.1995   \n",
       "\n",
       "                                                Event name  \\\n",
       "11                                     Selva Costera (CHI)   \n",
       "19                                     Selva Costera (CHI)   \n",
       "20                                     Selva Costera (CHI)   \n",
       "246                                       Sandman 50 (AUS)   \n",
       "247                                       Sandman 50 (AUS)   \n",
       "...                                                    ...   \n",
       "7461079  Centenary Lakes 6 Hour Track Run - 50km Split ...   \n",
       "7461081  Centenary Lakes 6 Hour Track Run - 50km Split ...   \n",
       "7461086  Centenary Lakes 6 Hour Track Run - 50km Split ...   \n",
       "7461190                          La SainteLyon 65 km (FRA)   \n",
       "7461191                          La SainteLyon 65 km (FRA)   \n",
       "\n",
       "        Event distance/length  Event number of finishers Athlete performance  \\\n",
       "11                       50km                         22           7:09:58 h   \n",
       "19                       50km                         22           8:13:16 h   \n",
       "20                       50km                         22           8:13:28 h   \n",
       "246                      50km                         15           4:59:11 h   \n",
       "247                      50km                         15           5:03:10 h   \n",
       "...                       ...                        ...                 ...   \n",
       "7461079                  50km                         15           5:40:24 h   \n",
       "7461081                  50km                         15           5:42:46 h   \n",
       "7461086                  50km                         15           5:49:58 h   \n",
       "7461190                  65km                          2           4:33:20 h   \n",
       "7461191                  65km                          2           6:05:15 h   \n",
       "\n",
       "                      Athlete club Athlete country  Athlete year of birth  \\\n",
       "11                     Rocoto Team             CHI                    NaN   \n",
       "19       Santiago Mountain Runn...             CHI                    NaN   \n",
       "20                  MEF Ularunners             CHI                    NaN   \n",
       "246                            NaN             AUS                    NaN   \n",
       "247                            NaN             AUS                    NaN   \n",
       "...                            ...             ...                    ...   \n",
       "7461079                       *QLD             AUS                    NaN   \n",
       "7461081                       *QLD             AUS                    NaN   \n",
       "7461086                       *Old             AUS                    NaN   \n",
       "7461190                        NaN             FRA                    NaN   \n",
       "7461191                        NaN             FRA                    NaN   \n",
       "\n",
       "        Athlete gender Athlete age category Athlete average speed  Athlete ID  \\\n",
       "11                   M                  NaN                 6.977          11   \n",
       "19                   M                  NaN                 6.082          19   \n",
       "20                   M                  NaN                 6.079          20   \n",
       "246                  M                  NaN                10.027         246   \n",
       "247                  M                  NaN                 9.896         247   \n",
       "...                ...                  ...                   ...         ...   \n",
       "7461079              M                  NaN                8813.0     1641166   \n",
       "7461081              M                  NaN                8752.0     1093063   \n",
       "7461086              F                  NaN                8572.0     1641111   \n",
       "7461190              M                  NaN               14268.0     1151060   \n",
       "7461191              F                  NaN               10678.0     1073520   \n",
       "\n",
       "         distance_km  \n",
       "11              50.0  \n",
       "19              50.0  \n",
       "20              50.0  \n",
       "246             50.0  \n",
       "247             50.0  \n",
       "...              ...  \n",
       "7461079         50.0  \n",
       "7461081         50.0  \n",
       "7461086         50.0  \n",
       "7461190         65.0  \n",
       "7461191         65.0  \n",
       "\n",
       "[549188 rows x 14 columns]"
      ],
      "text/html": [
       "<div>\n",
       "<style scoped>\n",
       "    .dataframe tbody tr th:only-of-type {\n",
       "        vertical-align: middle;\n",
       "    }\n",
       "\n",
       "    .dataframe tbody tr th {\n",
       "        vertical-align: top;\n",
       "    }\n",
       "\n",
       "    .dataframe thead th {\n",
       "        text-align: right;\n",
       "    }\n",
       "</style>\n",
       "<table border=\"1\" class=\"dataframe\">\n",
       "  <thead>\n",
       "    <tr style=\"text-align: right;\">\n",
       "      <th></th>\n",
       "      <th>Year of event</th>\n",
       "      <th>Event dates</th>\n",
       "      <th>Event name</th>\n",
       "      <th>Event distance/length</th>\n",
       "      <th>Event number of finishers</th>\n",
       "      <th>Athlete performance</th>\n",
       "      <th>Athlete club</th>\n",
       "      <th>Athlete country</th>\n",
       "      <th>Athlete year of birth</th>\n",
       "      <th>Athlete gender</th>\n",
       "      <th>Athlete age category</th>\n",
       "      <th>Athlete average speed</th>\n",
       "      <th>Athlete ID</th>\n",
       "      <th>distance_km</th>\n",
       "    </tr>\n",
       "  </thead>\n",
       "  <tbody>\n",
       "    <tr>\n",
       "      <th>11</th>\n",
       "      <td>2018</td>\n",
       "      <td>06.01.2018</td>\n",
       "      <td>Selva Costera (CHI)</td>\n",
       "      <td>50km</td>\n",
       "      <td>22</td>\n",
       "      <td>7:09:58 h</td>\n",
       "      <td>Rocoto Team</td>\n",
       "      <td>CHI</td>\n",
       "      <td>NaN</td>\n",
       "      <td>M</td>\n",
       "      <td>NaN</td>\n",
       "      <td>6.977</td>\n",
       "      <td>11</td>\n",
       "      <td>50.0</td>\n",
       "    </tr>\n",
       "    <tr>\n",
       "      <th>19</th>\n",
       "      <td>2018</td>\n",
       "      <td>06.01.2018</td>\n",
       "      <td>Selva Costera (CHI)</td>\n",
       "      <td>50km</td>\n",
       "      <td>22</td>\n",
       "      <td>8:13:16 h</td>\n",
       "      <td>Santiago Mountain Runn...</td>\n",
       "      <td>CHI</td>\n",
       "      <td>NaN</td>\n",
       "      <td>M</td>\n",
       "      <td>NaN</td>\n",
       "      <td>6.082</td>\n",
       "      <td>19</td>\n",
       "      <td>50.0</td>\n",
       "    </tr>\n",
       "    <tr>\n",
       "      <th>20</th>\n",
       "      <td>2018</td>\n",
       "      <td>06.01.2018</td>\n",
       "      <td>Selva Costera (CHI)</td>\n",
       "      <td>50km</td>\n",
       "      <td>22</td>\n",
       "      <td>8:13:28 h</td>\n",
       "      <td>MEF Ularunners</td>\n",
       "      <td>CHI</td>\n",
       "      <td>NaN</td>\n",
       "      <td>M</td>\n",
       "      <td>NaN</td>\n",
       "      <td>6.079</td>\n",
       "      <td>20</td>\n",
       "      <td>50.0</td>\n",
       "    </tr>\n",
       "    <tr>\n",
       "      <th>246</th>\n",
       "      <td>2018</td>\n",
       "      <td>02.01.2018</td>\n",
       "      <td>Sandman 50 (AUS)</td>\n",
       "      <td>50km</td>\n",
       "      <td>15</td>\n",
       "      <td>4:59:11 h</td>\n",
       "      <td>NaN</td>\n",
       "      <td>AUS</td>\n",
       "      <td>NaN</td>\n",
       "      <td>M</td>\n",
       "      <td>NaN</td>\n",
       "      <td>10.027</td>\n",
       "      <td>246</td>\n",
       "      <td>50.0</td>\n",
       "    </tr>\n",
       "    <tr>\n",
       "      <th>247</th>\n",
       "      <td>2018</td>\n",
       "      <td>02.01.2018</td>\n",
       "      <td>Sandman 50 (AUS)</td>\n",
       "      <td>50km</td>\n",
       "      <td>15</td>\n",
       "      <td>5:03:10 h</td>\n",
       "      <td>NaN</td>\n",
       "      <td>AUS</td>\n",
       "      <td>NaN</td>\n",
       "      <td>M</td>\n",
       "      <td>NaN</td>\n",
       "      <td>9.896</td>\n",
       "      <td>247</td>\n",
       "      <td>50.0</td>\n",
       "    </tr>\n",
       "    <tr>\n",
       "      <th>...</th>\n",
       "      <td>...</td>\n",
       "      <td>...</td>\n",
       "      <td>...</td>\n",
       "      <td>...</td>\n",
       "      <td>...</td>\n",
       "      <td>...</td>\n",
       "      <td>...</td>\n",
       "      <td>...</td>\n",
       "      <td>...</td>\n",
       "      <td>...</td>\n",
       "      <td>...</td>\n",
       "      <td>...</td>\n",
       "      <td>...</td>\n",
       "      <td>...</td>\n",
       "    </tr>\n",
       "    <tr>\n",
       "      <th>7461079</th>\n",
       "      <td>1995</td>\n",
       "      <td>07.01.1995</td>\n",
       "      <td>Centenary Lakes 6 Hour Track Run - 50km Split ...</td>\n",
       "      <td>50km</td>\n",
       "      <td>15</td>\n",
       "      <td>5:40:24 h</td>\n",
       "      <td>*QLD</td>\n",
       "      <td>AUS</td>\n",
       "      <td>NaN</td>\n",
       "      <td>M</td>\n",
       "      <td>NaN</td>\n",
       "      <td>8813.0</td>\n",
       "      <td>1641166</td>\n",
       "      <td>50.0</td>\n",
       "    </tr>\n",
       "    <tr>\n",
       "      <th>7461081</th>\n",
       "      <td>1995</td>\n",
       "      <td>07.01.1995</td>\n",
       "      <td>Centenary Lakes 6 Hour Track Run - 50km Split ...</td>\n",
       "      <td>50km</td>\n",
       "      <td>15</td>\n",
       "      <td>5:42:46 h</td>\n",
       "      <td>*QLD</td>\n",
       "      <td>AUS</td>\n",
       "      <td>NaN</td>\n",
       "      <td>M</td>\n",
       "      <td>NaN</td>\n",
       "      <td>8752.0</td>\n",
       "      <td>1093063</td>\n",
       "      <td>50.0</td>\n",
       "    </tr>\n",
       "    <tr>\n",
       "      <th>7461086</th>\n",
       "      <td>1995</td>\n",
       "      <td>07.01.1995</td>\n",
       "      <td>Centenary Lakes 6 Hour Track Run - 50km Split ...</td>\n",
       "      <td>50km</td>\n",
       "      <td>15</td>\n",
       "      <td>5:49:58 h</td>\n",
       "      <td>*Old</td>\n",
       "      <td>AUS</td>\n",
       "      <td>NaN</td>\n",
       "      <td>F</td>\n",
       "      <td>NaN</td>\n",
       "      <td>8572.0</td>\n",
       "      <td>1641111</td>\n",
       "      <td>50.0</td>\n",
       "    </tr>\n",
       "    <tr>\n",
       "      <th>7461190</th>\n",
       "      <td>1995</td>\n",
       "      <td>00.00.1995</td>\n",
       "      <td>La SainteLyon 65 km (FRA)</td>\n",
       "      <td>65km</td>\n",
       "      <td>2</td>\n",
       "      <td>4:33:20 h</td>\n",
       "      <td>NaN</td>\n",
       "      <td>FRA</td>\n",
       "      <td>NaN</td>\n",
       "      <td>M</td>\n",
       "      <td>NaN</td>\n",
       "      <td>14268.0</td>\n",
       "      <td>1151060</td>\n",
       "      <td>65.0</td>\n",
       "    </tr>\n",
       "    <tr>\n",
       "      <th>7461191</th>\n",
       "      <td>1995</td>\n",
       "      <td>00.00.1995</td>\n",
       "      <td>La SainteLyon 65 km (FRA)</td>\n",
       "      <td>65km</td>\n",
       "      <td>2</td>\n",
       "      <td>6:05:15 h</td>\n",
       "      <td>NaN</td>\n",
       "      <td>FRA</td>\n",
       "      <td>NaN</td>\n",
       "      <td>F</td>\n",
       "      <td>NaN</td>\n",
       "      <td>10678.0</td>\n",
       "      <td>1073520</td>\n",
       "      <td>65.0</td>\n",
       "    </tr>\n",
       "  </tbody>\n",
       "</table>\n",
       "<p>549188 rows × 14 columns</p>\n",
       "</div>"
      ]
     },
     "execution_count": 37,
     "metadata": {},
     "output_type": "execute_result"
    }
   ],
   "execution_count": 37
  },
  {
   "cell_type": "code",
   "source": [
    "print(\"The percentage of zero values in 'Athlete year of birth' column:\", str(549188/7460142*100),\"%\")"
   ],
   "metadata": {
    "collapsed": false,
    "ExecuteTime": {
     "end_time": "2024-04-10T07:14:34.943057Z",
     "start_time": "2024-04-10T07:14:34.928585Z"
    }
   },
   "id": "dba006ad58ba75e7",
   "outputs": [
    {
     "name": "stdout",
     "output_type": "stream",
     "text": [
      "The percentage of zero values in 'Athlete year of birth' column: 7.361629309468909 %\n"
     ]
    }
   ],
   "execution_count": 38
  },
  {
   "cell_type": "code",
   "source": [
    "# 7.37% of the data is null, I feel it is okay to remove these rows\n",
    "df = df.dropna(subset=['Athlete year of birth'])"
   ],
   "metadata": {
    "collapsed": false,
    "ExecuteTime": {
     "end_time": "2024-04-10T07:14:35.724167Z",
     "start_time": "2024-04-10T07:14:34.951058Z"
    }
   },
   "id": "b75de3fe32dc03f9",
   "outputs": [],
   "execution_count": 39
  },
  {
   "cell_type": "code",
   "source": [
    "# Checking how many rows still left\n",
    "df.shape"
   ],
   "metadata": {
    "collapsed": false,
    "ExecuteTime": {
     "end_time": "2024-04-10T07:14:35.739167Z",
     "start_time": "2024-04-10T07:14:35.726168Z"
    }
   },
   "id": "119fb0e211b815aa",
   "outputs": [
    {
     "data": {
      "text/plain": [
       "(6383926, 14)"
      ]
     },
     "execution_count": 40,
     "metadata": {},
     "output_type": "execute_result"
    }
   ],
   "execution_count": 40
  },
  {
   "cell_type": "code",
   "source": [
    "# Double-checking that all the NaN rows from year of birth is removed\n",
    "\n",
    "df[df['Athlete year of birth'].isna()]"
   ],
   "metadata": {
    "collapsed": false,
    "ExecuteTime": {
     "end_time": "2024-04-10T07:14:35.770167Z",
     "start_time": "2024-04-10T07:14:35.741167Z"
    }
   },
   "id": "7a92b092f1445f00",
   "outputs": [
    {
     "data": {
      "text/plain": [
       "Empty DataFrame\n",
       "Columns: [Year of event, Event dates, Event name, Event distance/length, Event number of finishers, Athlete performance, Athlete club, Athlete country, Athlete year of birth, Athlete gender, Athlete age category, Athlete average speed, Athlete ID, distance_km]\n",
       "Index: []"
      ],
      "text/html": [
       "<div>\n",
       "<style scoped>\n",
       "    .dataframe tbody tr th:only-of-type {\n",
       "        vertical-align: middle;\n",
       "    }\n",
       "\n",
       "    .dataframe tbody tr th {\n",
       "        vertical-align: top;\n",
       "    }\n",
       "\n",
       "    .dataframe thead th {\n",
       "        text-align: right;\n",
       "    }\n",
       "</style>\n",
       "<table border=\"1\" class=\"dataframe\">\n",
       "  <thead>\n",
       "    <tr style=\"text-align: right;\">\n",
       "      <th></th>\n",
       "      <th>Year of event</th>\n",
       "      <th>Event dates</th>\n",
       "      <th>Event name</th>\n",
       "      <th>Event distance/length</th>\n",
       "      <th>Event number of finishers</th>\n",
       "      <th>Athlete performance</th>\n",
       "      <th>Athlete club</th>\n",
       "      <th>Athlete country</th>\n",
       "      <th>Athlete year of birth</th>\n",
       "      <th>Athlete gender</th>\n",
       "      <th>Athlete age category</th>\n",
       "      <th>Athlete average speed</th>\n",
       "      <th>Athlete ID</th>\n",
       "      <th>distance_km</th>\n",
       "    </tr>\n",
       "  </thead>\n",
       "  <tbody>\n",
       "  </tbody>\n",
       "</table>\n",
       "</div>"
      ]
     },
     "execution_count": 41,
     "metadata": {},
     "output_type": "execute_result"
    }
   ],
   "execution_count": 41
  },
  {
   "cell_type": "markdown",
   "source": [
    "### Calculating new columns for later use in analysis"
   ],
   "metadata": {
    "collapsed": false
   },
   "id": "196587f09f39ea6e"
  },
  {
   "cell_type": "code",
   "source": [
    "# Calculating Athlete age\n",
    "\n",
    "today = datetime.date.today()\n",
    "year = today.year\n",
    "\n",
    "df['Current Athlete age'] = year - df['Athlete year of birth']"
   ],
   "metadata": {
    "collapsed": false,
    "ExecuteTime": {
     "end_time": "2024-04-10T07:14:35.800710Z",
     "start_time": "2024-04-10T07:14:35.772167Z"
    }
   },
   "id": "2abcaf302d524ac7",
   "outputs": [],
   "execution_count": 42
  },
  {
   "cell_type": "code",
   "source": [
    "# Calculating Athlete age at the time of the event they attended\n",
    "df['Athlete age at event'] = df['Year of event'] - df['Athlete year of birth'] "
   ],
   "metadata": {
    "collapsed": false,
    "ExecuteTime": {
     "end_time": "2024-04-10T07:14:35.830684Z",
     "start_time": "2024-04-10T07:14:35.802686Z"
    }
   },
   "id": "1c5cd39919dd01dc",
   "outputs": [],
   "execution_count": 43
  },
  {
   "cell_type": "code",
   "source": [
    "df.head()"
   ],
   "metadata": {
    "collapsed": false,
    "ExecuteTime": {
     "end_time": "2024-04-10T07:14:35.845700Z",
     "start_time": "2024-04-10T07:14:35.831684Z"
    }
   },
   "id": "6692ccea4cbcaf61",
   "outputs": [
    {
     "data": {
      "text/plain": [
       "   Year of event Event dates           Event name Event distance/length  \\\n",
       "0           2018  06.01.2018  Selva Costera (CHI)                  50km   \n",
       "1           2018  06.01.2018  Selva Costera (CHI)                  50km   \n",
       "2           2018  06.01.2018  Selva Costera (CHI)                  50km   \n",
       "3           2018  06.01.2018  Selva Costera (CHI)                  50km   \n",
       "4           2018  06.01.2018  Selva Costera (CHI)                  50km   \n",
       "\n",
       "   Event number of finishers Athlete performance        Athlete club  \\\n",
       "0                         22           4:51:39 h               Tnfrc   \n",
       "1                         22           5:15:45 h  Roberto Echeverría   \n",
       "2                         22           5:16:44 h   Puro Trail Osorno   \n",
       "3                         22           5:34:13 h            Columbia   \n",
       "4                         22           5:54:14 h      Baguales Trail   \n",
       "\n",
       "  Athlete country  Athlete year of birth Athlete gender Athlete age category  \\\n",
       "0             CHI                 1978.0              M                  M35   \n",
       "1             CHI                 1981.0              M                  M35   \n",
       "2             CHI                 1987.0              M                  M23   \n",
       "3             ARG                 1976.0              M                  M40   \n",
       "4             CHI                 1992.0              M                  M23   \n",
       "\n",
       "  Athlete average speed  Athlete ID  distance_km  Current Athlete age  \\\n",
       "0                10.286           0         50.0                 46.0   \n",
       "1                 9.501           1         50.0                 43.0   \n",
       "2                 9.472           2         50.0                 37.0   \n",
       "3                 8.976           3         50.0                 48.0   \n",
       "4                 8.469           4         50.0                 32.0   \n",
       "\n",
       "   Athlete age at event  \n",
       "0                  40.0  \n",
       "1                  37.0  \n",
       "2                  31.0  \n",
       "3                  42.0  \n",
       "4                  26.0  "
      ],
      "text/html": [
       "<div>\n",
       "<style scoped>\n",
       "    .dataframe tbody tr th:only-of-type {\n",
       "        vertical-align: middle;\n",
       "    }\n",
       "\n",
       "    .dataframe tbody tr th {\n",
       "        vertical-align: top;\n",
       "    }\n",
       "\n",
       "    .dataframe thead th {\n",
       "        text-align: right;\n",
       "    }\n",
       "</style>\n",
       "<table border=\"1\" class=\"dataframe\">\n",
       "  <thead>\n",
       "    <tr style=\"text-align: right;\">\n",
       "      <th></th>\n",
       "      <th>Year of event</th>\n",
       "      <th>Event dates</th>\n",
       "      <th>Event name</th>\n",
       "      <th>Event distance/length</th>\n",
       "      <th>Event number of finishers</th>\n",
       "      <th>Athlete performance</th>\n",
       "      <th>Athlete club</th>\n",
       "      <th>Athlete country</th>\n",
       "      <th>Athlete year of birth</th>\n",
       "      <th>Athlete gender</th>\n",
       "      <th>Athlete age category</th>\n",
       "      <th>Athlete average speed</th>\n",
       "      <th>Athlete ID</th>\n",
       "      <th>distance_km</th>\n",
       "      <th>Current Athlete age</th>\n",
       "      <th>Athlete age at event</th>\n",
       "    </tr>\n",
       "  </thead>\n",
       "  <tbody>\n",
       "    <tr>\n",
       "      <th>0</th>\n",
       "      <td>2018</td>\n",
       "      <td>06.01.2018</td>\n",
       "      <td>Selva Costera (CHI)</td>\n",
       "      <td>50km</td>\n",
       "      <td>22</td>\n",
       "      <td>4:51:39 h</td>\n",
       "      <td>Tnfrc</td>\n",
       "      <td>CHI</td>\n",
       "      <td>1978.0</td>\n",
       "      <td>M</td>\n",
       "      <td>M35</td>\n",
       "      <td>10.286</td>\n",
       "      <td>0</td>\n",
       "      <td>50.0</td>\n",
       "      <td>46.0</td>\n",
       "      <td>40.0</td>\n",
       "    </tr>\n",
       "    <tr>\n",
       "      <th>1</th>\n",
       "      <td>2018</td>\n",
       "      <td>06.01.2018</td>\n",
       "      <td>Selva Costera (CHI)</td>\n",
       "      <td>50km</td>\n",
       "      <td>22</td>\n",
       "      <td>5:15:45 h</td>\n",
       "      <td>Roberto Echeverría</td>\n",
       "      <td>CHI</td>\n",
       "      <td>1981.0</td>\n",
       "      <td>M</td>\n",
       "      <td>M35</td>\n",
       "      <td>9.501</td>\n",
       "      <td>1</td>\n",
       "      <td>50.0</td>\n",
       "      <td>43.0</td>\n",
       "      <td>37.0</td>\n",
       "    </tr>\n",
       "    <tr>\n",
       "      <th>2</th>\n",
       "      <td>2018</td>\n",
       "      <td>06.01.2018</td>\n",
       "      <td>Selva Costera (CHI)</td>\n",
       "      <td>50km</td>\n",
       "      <td>22</td>\n",
       "      <td>5:16:44 h</td>\n",
       "      <td>Puro Trail Osorno</td>\n",
       "      <td>CHI</td>\n",
       "      <td>1987.0</td>\n",
       "      <td>M</td>\n",
       "      <td>M23</td>\n",
       "      <td>9.472</td>\n",
       "      <td>2</td>\n",
       "      <td>50.0</td>\n",
       "      <td>37.0</td>\n",
       "      <td>31.0</td>\n",
       "    </tr>\n",
       "    <tr>\n",
       "      <th>3</th>\n",
       "      <td>2018</td>\n",
       "      <td>06.01.2018</td>\n",
       "      <td>Selva Costera (CHI)</td>\n",
       "      <td>50km</td>\n",
       "      <td>22</td>\n",
       "      <td>5:34:13 h</td>\n",
       "      <td>Columbia</td>\n",
       "      <td>ARG</td>\n",
       "      <td>1976.0</td>\n",
       "      <td>M</td>\n",
       "      <td>M40</td>\n",
       "      <td>8.976</td>\n",
       "      <td>3</td>\n",
       "      <td>50.0</td>\n",
       "      <td>48.0</td>\n",
       "      <td>42.0</td>\n",
       "    </tr>\n",
       "    <tr>\n",
       "      <th>4</th>\n",
       "      <td>2018</td>\n",
       "      <td>06.01.2018</td>\n",
       "      <td>Selva Costera (CHI)</td>\n",
       "      <td>50km</td>\n",
       "      <td>22</td>\n",
       "      <td>5:54:14 h</td>\n",
       "      <td>Baguales Trail</td>\n",
       "      <td>CHI</td>\n",
       "      <td>1992.0</td>\n",
       "      <td>M</td>\n",
       "      <td>M23</td>\n",
       "      <td>8.469</td>\n",
       "      <td>4</td>\n",
       "      <td>50.0</td>\n",
       "      <td>32.0</td>\n",
       "      <td>26.0</td>\n",
       "    </tr>\n",
       "  </tbody>\n",
       "</table>\n",
       "</div>"
      ]
     },
     "execution_count": 44,
     "metadata": {},
     "output_type": "execute_result"
    }
   ],
   "execution_count": 44
  },
  {
   "cell_type": "markdown",
   "source": [
    "## Cleaning up new columns"
   ],
   "metadata": {
    "collapsed": false
   },
   "id": "4b1aa3c06fded117"
  },
  {
   "cell_type": "code",
   "source": [
    "# Checking for any Ages at or below 0\n",
    "\n",
    "df[df['Athlete age at event'] <= 0]['Athlete age at event'].count()"
   ],
   "metadata": {
    "collapsed": false,
    "ExecuteTime": {
     "end_time": "2024-04-10T07:14:35.860684Z",
     "start_time": "2024-04-10T07:14:35.846685Z"
    }
   },
   "id": "2957b61e8ec008aa",
   "outputs": [
    {
     "data": {
      "text/plain": [
       "36"
      ]
     },
     "execution_count": 45,
     "metadata": {},
     "output_type": "execute_result"
    }
   ],
   "execution_count": 45
  },
  {
   "cell_type": "code",
   "source": [
    "# Dropping any ages that is less than 0 as these data is most likely recorded incorrectly\n",
    "\n",
    "df.drop(df[df['Athlete age at event'] <= 0].index, inplace=True)"
   ],
   "metadata": {
    "collapsed": false,
    "ExecuteTime": {
     "end_time": "2024-04-10T07:14:36.719495Z",
     "start_time": "2024-04-10T07:14:35.861684Z"
    }
   },
   "id": "f8a5458899d6dfeb",
   "outputs": [],
   "execution_count": 46
  },
  {
   "cell_type": "code",
   "source": [
    "# Checking that the above code worked\n",
    "\n",
    "df[df['Athlete age at event'] <= 0]['Athlete age at event'].count()"
   ],
   "metadata": {
    "collapsed": false,
    "ExecuteTime": {
     "end_time": "2024-04-10T07:14:36.734513Z",
     "start_time": "2024-04-10T07:14:36.721496Z"
    }
   },
   "id": "8818f3b6bf966444",
   "outputs": [
    {
     "data": {
      "text/plain": [
       "0"
      ]
     },
     "execution_count": 47,
     "metadata": {},
     "output_type": "execute_result"
    }
   ],
   "execution_count": 47
  },
  {
   "cell_type": "code",
   "source": [
    "# Looking at the series to make sure no unexpected values\n",
    "\n",
    "df['Athlete age at event'].unique()"
   ],
   "metadata": {
    "collapsed": false,
    "ExecuteTime": {
     "end_time": "2024-04-10T07:14:36.797050Z",
     "start_time": "2024-04-10T07:14:36.737497Z"
    }
   },
   "id": "71767583433e155f",
   "outputs": [
    {
     "data": {
      "text/plain": [
       "array([ 40.,  37.,  31.,  42.,  26.,  44.,  39.,  51.,  33.,  41.,  28.,\n",
       "        47.,  62.,  38.,  52.,  36.,  29.,  43.,  57.,  54.,  55.,  45.,\n",
       "        35.,  32.,  30.,  23.,  27.,  53.,  48.,  34.,  22.,  50.,  46.,\n",
       "        58.,  49.,  56.,  19.,  12.,  20.,  60.,  61.,  24.,  67.,  65.,\n",
       "        59.,  66.,  64.,  63.,  75.,  68.,  25.,  21.,  18.,  16.,  17.,\n",
       "        69.,  71.,  70.,  76.,  74.,  72.,  73.,  77.,  80.,  81.,  11.,\n",
       "        15.,  78.,  13.,  82.,  79.,  14.,  10.,  83.,  84.,   2.,  94.,\n",
       "         9.,   8.,   1.,   6.,   5.,  85.,  92., 112.,  89.,  86.,  87.,\n",
       "        99.,   7.,  93., 100.,   3.,  90.,  91.,  88., 118., 827.,  95.,\n",
       "        98.,   4., 101., 102., 103., 105., 106., 107., 108., 132., 134.,\n",
       "       113., 136., 110.])"
      ]
     },
     "execution_count": 48,
     "metadata": {},
     "output_type": "execute_result"
    }
   ],
   "execution_count": 48
  },
  {
   "cell_type": "markdown",
   "source": [
    "## <u> Athlete average speed </u>"
   ],
   "metadata": {
    "collapsed": false
   },
   "id": "9079f609603c19d0"
  },
  {
   "cell_type": "code",
   "source": [
    "# Checking all the categories in the 'Athlete average speed'\n",
    "# There are some cells that has \":\" that needs to be cleaned up\n",
    "\n",
    "df['Athlete average speed'].unique()"
   ],
   "metadata": {
    "collapsed": false,
    "ExecuteTime": {
     "end_time": "2024-04-10T07:14:36.953153Z",
     "start_time": "2024-04-10T07:14:36.800051Z"
    }
   },
   "id": "1b380a38c71ff2da",
   "outputs": [
    {
     "data": {
      "text/plain": [
       "array(['10.286', '9.501', '9.472', ..., '2495.0', '2460.0', '15162.0'],\n",
       "      dtype=object)"
      ]
     },
     "execution_count": 49,
     "metadata": {},
     "output_type": "execute_result"
    }
   ],
   "execution_count": 49
  },
  {
   "cell_type": "code",
   "source": [
    "# Checking the number of null values\n",
    "\n",
    "df['Athlete average speed'].isnull().sum()"
   ],
   "metadata": {
    "collapsed": false,
    "ExecuteTime": {
     "end_time": "2024-04-10T07:14:37.061681Z",
     "start_time": "2024-04-10T07:14:36.954172Z"
    }
   },
   "id": "46d117afe1556692",
   "outputs": [
    {
     "data": {
      "text/plain": [
       "194"
      ]
     },
     "execution_count": 50,
     "metadata": {},
     "output_type": "execute_result"
    }
   ],
   "execution_count": 50
  },
  {
   "cell_type": "code",
   "source": [
    "df[df['Athlete average speed'].isna()]"
   ],
   "metadata": {
    "collapsed": false,
    "ExecuteTime": {
     "end_time": "2024-04-10T07:14:37.185256Z",
     "start_time": "2024-04-10T07:14:37.062687Z"
    }
   },
   "id": "f4a915793465dddb",
   "outputs": [
    {
     "data": {
      "text/plain": [
       "         Year of event        Event dates  \\\n",
       "404474            2018  17.06.-07.08.2018   \n",
       "404475            2018  17.06.-07.08.2018   \n",
       "404476            2018  17.06.-07.08.2018   \n",
       "404477            2018  17.06.-07.08.2018   \n",
       "404478            2018  17.06.-07.08.2018   \n",
       "...                ...                ...   \n",
       "6633522           2015  14.06.-04.08.2015   \n",
       "6633523           2015  14.06.-04.08.2015   \n",
       "6633524           2015  14.06.-04.08.2015   \n",
       "6633525           2015  14.06.-04.08.2015   \n",
       "6633526           2015  14.06.-04.08.2015   \n",
       "\n",
       "                                      Event name Event distance/length  \\\n",
       "404474   Self-Transcendence 3100 Mile Race (USA)                3100mi   \n",
       "404475   Self-Transcendence 3100 Mile Race (USA)                3100mi   \n",
       "404476   Self-Transcendence 3100 Mile Race (USA)                3100mi   \n",
       "404477   Self-Transcendence 3100 Mile Race (USA)                3100mi   \n",
       "404478   Self-Transcendence 3100 Mile Race (USA)                3100mi   \n",
       "...                                          ...                   ...   \n",
       "6633522  Self-Transcendence 3100 Mile Race (USA)                3100mi   \n",
       "6633523  Self-Transcendence 3100 Mile Race (USA)                3100mi   \n",
       "6633524  Self-Transcendence 3100 Mile Race (USA)                3100mi   \n",
       "6633525  Self-Transcendence 3100 Mile Race (USA)                3100mi   \n",
       "6633526  Self-Transcendence 3100 Mile Race (USA)                3100mi   \n",
       "\n",
       "         Event number of finishers Athlete performance  \\\n",
       "404474                           6           0:00:00 h   \n",
       "404475                           6           0:00:00 h   \n",
       "404476                           6           0:00:00 h   \n",
       "404477                           6           0:00:00 h   \n",
       "404478                           6           0:00:00 h   \n",
       "...                            ...                 ...   \n",
       "6633522                          8           0:00:00 h   \n",
       "6633523                          8           0:00:00 h   \n",
       "6633524                          8           0:00:00 h   \n",
       "6633525                          8           0:00:00 h   \n",
       "6633526                          8           0:00:00 h   \n",
       "\n",
       "                      Athlete club Athlete country  Athlete year of birth  \\\n",
       "404474   Performance: 1072:03:53 h             RUS                 1966.0   \n",
       "404475   Performance: 1107:24:48 h             ISR                 1972.0   \n",
       "404476   Performance: 1207:34:46 h             AUT                 1967.0   \n",
       "404477   Performance: 1236:47:37 h             AUT                 1959.0   \n",
       "404478   Performance: 1240:46:38 h             BUL                 1980.0   \n",
       "...                            ...             ...                    ...   \n",
       "6633522  Performance: 1096:45:21 h             UKR                 1964.0   \n",
       "6633523  Performance: 1159:13:56 h             CZE                 1978.0   \n",
       "6633524  Performance: 1183:52:01 h             AUT                 1959.0   \n",
       "6633525  Performance: 1212:52:49 h             UKR                 1970.0   \n",
       "6633526  Performance: 1236:12:13 h             IRL                 1980.0   \n",
       "\n",
       "        Athlete gender Athlete age category Athlete average speed  Athlete ID  \\\n",
       "404474               M                  M50                   NaN      262953   \n",
       "404475               M                  M45                   NaN      262954   \n",
       "404476               M                  M50                   NaN      206774   \n",
       "404477               F                  W55                   NaN       82231   \n",
       "404478               M                  M35                   NaN      262955   \n",
       "...                ...                  ...                   ...         ...   \n",
       "6633522              M                  M50                   NaN      111238   \n",
       "6633523              M                  M35                   NaN      441836   \n",
       "6633524              F                  W55                   NaN       82231   \n",
       "6633525              M                  M40                   NaN      441838   \n",
       "6633526              M                  M35                   NaN      595711   \n",
       "\n",
       "         distance_km  Current Athlete age  Athlete age at event  \n",
       "404474      4988.954                 58.0                  52.0  \n",
       "404475      4988.954                 52.0                  46.0  \n",
       "404476      4988.954                 57.0                  51.0  \n",
       "404477      4988.954                 65.0                  59.0  \n",
       "404478      4988.954                 44.0                  38.0  \n",
       "...              ...                  ...                   ...  \n",
       "6633522     4988.954                 60.0                  51.0  \n",
       "6633523     4988.954                 46.0                  37.0  \n",
       "6633524     4988.954                 65.0                  56.0  \n",
       "6633525     4988.954                 54.0                  45.0  \n",
       "6633526     4988.954                 44.0                  35.0  \n",
       "\n",
       "[194 rows x 16 columns]"
      ],
      "text/html": [
       "<div>\n",
       "<style scoped>\n",
       "    .dataframe tbody tr th:only-of-type {\n",
       "        vertical-align: middle;\n",
       "    }\n",
       "\n",
       "    .dataframe tbody tr th {\n",
       "        vertical-align: top;\n",
       "    }\n",
       "\n",
       "    .dataframe thead th {\n",
       "        text-align: right;\n",
       "    }\n",
       "</style>\n",
       "<table border=\"1\" class=\"dataframe\">\n",
       "  <thead>\n",
       "    <tr style=\"text-align: right;\">\n",
       "      <th></th>\n",
       "      <th>Year of event</th>\n",
       "      <th>Event dates</th>\n",
       "      <th>Event name</th>\n",
       "      <th>Event distance/length</th>\n",
       "      <th>Event number of finishers</th>\n",
       "      <th>Athlete performance</th>\n",
       "      <th>Athlete club</th>\n",
       "      <th>Athlete country</th>\n",
       "      <th>Athlete year of birth</th>\n",
       "      <th>Athlete gender</th>\n",
       "      <th>Athlete age category</th>\n",
       "      <th>Athlete average speed</th>\n",
       "      <th>Athlete ID</th>\n",
       "      <th>distance_km</th>\n",
       "      <th>Current Athlete age</th>\n",
       "      <th>Athlete age at event</th>\n",
       "    </tr>\n",
       "  </thead>\n",
       "  <tbody>\n",
       "    <tr>\n",
       "      <th>404474</th>\n",
       "      <td>2018</td>\n",
       "      <td>17.06.-07.08.2018</td>\n",
       "      <td>Self-Transcendence 3100 Mile Race (USA)</td>\n",
       "      <td>3100mi</td>\n",
       "      <td>6</td>\n",
       "      <td>0:00:00 h</td>\n",
       "      <td>Performance: 1072:03:53 h</td>\n",
       "      <td>RUS</td>\n",
       "      <td>1966.0</td>\n",
       "      <td>M</td>\n",
       "      <td>M50</td>\n",
       "      <td>NaN</td>\n",
       "      <td>262953</td>\n",
       "      <td>4988.954</td>\n",
       "      <td>58.0</td>\n",
       "      <td>52.0</td>\n",
       "    </tr>\n",
       "    <tr>\n",
       "      <th>404475</th>\n",
       "      <td>2018</td>\n",
       "      <td>17.06.-07.08.2018</td>\n",
       "      <td>Self-Transcendence 3100 Mile Race (USA)</td>\n",
       "      <td>3100mi</td>\n",
       "      <td>6</td>\n",
       "      <td>0:00:00 h</td>\n",
       "      <td>Performance: 1107:24:48 h</td>\n",
       "      <td>ISR</td>\n",
       "      <td>1972.0</td>\n",
       "      <td>M</td>\n",
       "      <td>M45</td>\n",
       "      <td>NaN</td>\n",
       "      <td>262954</td>\n",
       "      <td>4988.954</td>\n",
       "      <td>52.0</td>\n",
       "      <td>46.0</td>\n",
       "    </tr>\n",
       "    <tr>\n",
       "      <th>404476</th>\n",
       "      <td>2018</td>\n",
       "      <td>17.06.-07.08.2018</td>\n",
       "      <td>Self-Transcendence 3100 Mile Race (USA)</td>\n",
       "      <td>3100mi</td>\n",
       "      <td>6</td>\n",
       "      <td>0:00:00 h</td>\n",
       "      <td>Performance: 1207:34:46 h</td>\n",
       "      <td>AUT</td>\n",
       "      <td>1967.0</td>\n",
       "      <td>M</td>\n",
       "      <td>M50</td>\n",
       "      <td>NaN</td>\n",
       "      <td>206774</td>\n",
       "      <td>4988.954</td>\n",
       "      <td>57.0</td>\n",
       "      <td>51.0</td>\n",
       "    </tr>\n",
       "    <tr>\n",
       "      <th>404477</th>\n",
       "      <td>2018</td>\n",
       "      <td>17.06.-07.08.2018</td>\n",
       "      <td>Self-Transcendence 3100 Mile Race (USA)</td>\n",
       "      <td>3100mi</td>\n",
       "      <td>6</td>\n",
       "      <td>0:00:00 h</td>\n",
       "      <td>Performance: 1236:47:37 h</td>\n",
       "      <td>AUT</td>\n",
       "      <td>1959.0</td>\n",
       "      <td>F</td>\n",
       "      <td>W55</td>\n",
       "      <td>NaN</td>\n",
       "      <td>82231</td>\n",
       "      <td>4988.954</td>\n",
       "      <td>65.0</td>\n",
       "      <td>59.0</td>\n",
       "    </tr>\n",
       "    <tr>\n",
       "      <th>404478</th>\n",
       "      <td>2018</td>\n",
       "      <td>17.06.-07.08.2018</td>\n",
       "      <td>Self-Transcendence 3100 Mile Race (USA)</td>\n",
       "      <td>3100mi</td>\n",
       "      <td>6</td>\n",
       "      <td>0:00:00 h</td>\n",
       "      <td>Performance: 1240:46:38 h</td>\n",
       "      <td>BUL</td>\n",
       "      <td>1980.0</td>\n",
       "      <td>M</td>\n",
       "      <td>M35</td>\n",
       "      <td>NaN</td>\n",
       "      <td>262955</td>\n",
       "      <td>4988.954</td>\n",
       "      <td>44.0</td>\n",
       "      <td>38.0</td>\n",
       "    </tr>\n",
       "    <tr>\n",
       "      <th>...</th>\n",
       "      <td>...</td>\n",
       "      <td>...</td>\n",
       "      <td>...</td>\n",
       "      <td>...</td>\n",
       "      <td>...</td>\n",
       "      <td>...</td>\n",
       "      <td>...</td>\n",
       "      <td>...</td>\n",
       "      <td>...</td>\n",
       "      <td>...</td>\n",
       "      <td>...</td>\n",
       "      <td>...</td>\n",
       "      <td>...</td>\n",
       "      <td>...</td>\n",
       "      <td>...</td>\n",
       "      <td>...</td>\n",
       "    </tr>\n",
       "    <tr>\n",
       "      <th>6633522</th>\n",
       "      <td>2015</td>\n",
       "      <td>14.06.-04.08.2015</td>\n",
       "      <td>Self-Transcendence 3100 Mile Race (USA)</td>\n",
       "      <td>3100mi</td>\n",
       "      <td>8</td>\n",
       "      <td>0:00:00 h</td>\n",
       "      <td>Performance: 1096:45:21 h</td>\n",
       "      <td>UKR</td>\n",
       "      <td>1964.0</td>\n",
       "      <td>M</td>\n",
       "      <td>M50</td>\n",
       "      <td>NaN</td>\n",
       "      <td>111238</td>\n",
       "      <td>4988.954</td>\n",
       "      <td>60.0</td>\n",
       "      <td>51.0</td>\n",
       "    </tr>\n",
       "    <tr>\n",
       "      <th>6633523</th>\n",
       "      <td>2015</td>\n",
       "      <td>14.06.-04.08.2015</td>\n",
       "      <td>Self-Transcendence 3100 Mile Race (USA)</td>\n",
       "      <td>3100mi</td>\n",
       "      <td>8</td>\n",
       "      <td>0:00:00 h</td>\n",
       "      <td>Performance: 1159:13:56 h</td>\n",
       "      <td>CZE</td>\n",
       "      <td>1978.0</td>\n",
       "      <td>M</td>\n",
       "      <td>M35</td>\n",
       "      <td>NaN</td>\n",
       "      <td>441836</td>\n",
       "      <td>4988.954</td>\n",
       "      <td>46.0</td>\n",
       "      <td>37.0</td>\n",
       "    </tr>\n",
       "    <tr>\n",
       "      <th>6633524</th>\n",
       "      <td>2015</td>\n",
       "      <td>14.06.-04.08.2015</td>\n",
       "      <td>Self-Transcendence 3100 Mile Race (USA)</td>\n",
       "      <td>3100mi</td>\n",
       "      <td>8</td>\n",
       "      <td>0:00:00 h</td>\n",
       "      <td>Performance: 1183:52:01 h</td>\n",
       "      <td>AUT</td>\n",
       "      <td>1959.0</td>\n",
       "      <td>F</td>\n",
       "      <td>W55</td>\n",
       "      <td>NaN</td>\n",
       "      <td>82231</td>\n",
       "      <td>4988.954</td>\n",
       "      <td>65.0</td>\n",
       "      <td>56.0</td>\n",
       "    </tr>\n",
       "    <tr>\n",
       "      <th>6633525</th>\n",
       "      <td>2015</td>\n",
       "      <td>14.06.-04.08.2015</td>\n",
       "      <td>Self-Transcendence 3100 Mile Race (USA)</td>\n",
       "      <td>3100mi</td>\n",
       "      <td>8</td>\n",
       "      <td>0:00:00 h</td>\n",
       "      <td>Performance: 1212:52:49 h</td>\n",
       "      <td>UKR</td>\n",
       "      <td>1970.0</td>\n",
       "      <td>M</td>\n",
       "      <td>M40</td>\n",
       "      <td>NaN</td>\n",
       "      <td>441838</td>\n",
       "      <td>4988.954</td>\n",
       "      <td>54.0</td>\n",
       "      <td>45.0</td>\n",
       "    </tr>\n",
       "    <tr>\n",
       "      <th>6633526</th>\n",
       "      <td>2015</td>\n",
       "      <td>14.06.-04.08.2015</td>\n",
       "      <td>Self-Transcendence 3100 Mile Race (USA)</td>\n",
       "      <td>3100mi</td>\n",
       "      <td>8</td>\n",
       "      <td>0:00:00 h</td>\n",
       "      <td>Performance: 1236:12:13 h</td>\n",
       "      <td>IRL</td>\n",
       "      <td>1980.0</td>\n",
       "      <td>M</td>\n",
       "      <td>M35</td>\n",
       "      <td>NaN</td>\n",
       "      <td>595711</td>\n",
       "      <td>4988.954</td>\n",
       "      <td>44.0</td>\n",
       "      <td>35.0</td>\n",
       "    </tr>\n",
       "  </tbody>\n",
       "</table>\n",
       "<p>194 rows × 16 columns</p>\n",
       "</div>"
      ]
     },
     "execution_count": 51,
     "metadata": {},
     "output_type": "execute_result"
    }
   ],
   "execution_count": 51
  },
  {
   "cell_type": "code",
   "source": [
    "df.shape"
   ],
   "metadata": {
    "collapsed": false,
    "ExecuteTime": {
     "end_time": "2024-04-10T07:14:37.200276Z",
     "start_time": "2024-04-10T07:14:37.186239Z"
    }
   },
   "id": "a3e28e0639766e3b",
   "outputs": [
    {
     "data": {
      "text/plain": [
       "(6383890, 16)"
      ]
     },
     "execution_count": 52,
     "metadata": {},
     "output_type": "execute_result"
    }
   ],
   "execution_count": 52
  },
  {
   "cell_type": "code",
   "source": [
    "print(\"The percentage of zero values in 'Athlete average speed' column:\", str(194/6383926*100),\"%\")"
   ],
   "metadata": {
    "collapsed": false,
    "ExecuteTime": {
     "end_time": "2024-04-10T07:14:37.215277Z",
     "start_time": "2024-04-10T07:14:37.201279Z"
    }
   },
   "id": "c47f904d228b94f4",
   "outputs": [
    {
     "name": "stdout",
     "output_type": "stream",
     "text": [
      "The percentage of zero values in 'Athlete average speed' column: 0.003038882342934426 %\n"
     ]
    }
   ],
   "execution_count": 53
  },
  {
   "cell_type": "code",
   "source": [
    "# Number of null values is less than 0.003%; removal should be okay\n",
    "\n",
    "df.dropna(subset=['Athlete average speed'], inplace=True)"
   ],
   "metadata": {
    "collapsed": false,
    "ExecuteTime": {
     "end_time": "2024-04-10T07:14:38.320642Z",
     "start_time": "2024-04-10T07:14:37.217277Z"
    }
   },
   "id": "9ac6d25cf9f4eeb5",
   "outputs": [],
   "execution_count": 54
  },
  {
   "cell_type": "code",
   "source": [
    "# Cleaning up cells with \":\"\n",
    "\n",
    "df[df['Athlete average speed'].str.contains(':')]"
   ],
   "metadata": {
    "collapsed": false,
    "ExecuteTime": {
     "end_time": "2024-04-10T07:14:39.675180Z",
     "start_time": "2024-04-10T07:14:38.322642Z"
    }
   },
   "id": "8bbd3c157b76b67a",
   "outputs": [
    {
     "data": {
      "text/plain": [
       "         Year of event Event dates                          Event name  \\\n",
       "1169473           2016  05.11.2016  Halden Ultraintervall 8x10km (NOR)   \n",
       "1169474           2016  05.11.2016  Halden Ultraintervall 8x10km (NOR)   \n",
       "1169475           2016  05.11.2016  Halden Ultraintervall 8x10km (NOR)   \n",
       "1169476           2016  05.11.2016  Halden Ultraintervall 8x10km (NOR)   \n",
       "1169477           2016  05.11.2016  Halden Ultraintervall 8x10km (NOR)   \n",
       "...                ...         ...                                 ...   \n",
       "6773696           2015  07.11.2015  Halden Ultraintervall 8x10km (NOR)   \n",
       "6773697           2015  07.11.2015  Halden Ultraintervall 8x10km (NOR)   \n",
       "6773698           2015  07.11.2015  Halden Ultraintervall 8x10km (NOR)   \n",
       "6773699           2015  07.11.2015  Halden Ultraintervall 8x10km (NOR)   \n",
       "6773700           2015  07.11.2015  Halden Ultraintervall 8x10km (NOR)   \n",
       "\n",
       "        Event distance/length  Event number of finishers Athlete performance  \\\n",
       "1169473                  80km                         11           6:03:22 h   \n",
       "1169474                  80km                         11           6:37:13 h   \n",
       "1169475                  80km                         11           6:49:03 h   \n",
       "1169476                  80km                         11           6:58:14 h   \n",
       "1169477                  80km                         11           7:05:48 h   \n",
       "...                       ...                        ...                 ...   \n",
       "6773696                  80km                         21           8:46:33 h   \n",
       "6773697                  80km                         21           9:08:20 h   \n",
       "6773698                  80km                         21           9:27:18 h   \n",
       "6773699                  80km                         21           9:27:40 h   \n",
       "6773700                  80km                         21           9:48:55 h   \n",
       "\n",
       "                      Athlete club Athlete country  Athlete year of birth  \\\n",
       "1169473   Romerike Ultraløperklubb             NOR                 1973.0   \n",
       "1169474  2150 Kondisjonsidrettslag             NOR                 1983.0   \n",
       "1169475   Romerike Ultraløperklubb             NOR                 1971.0   \n",
       "1169476  Halden Tannhelsesenter AS             NOR                 1979.0   \n",
       "1169477  Fredrikstad Triatlonklubb             NOR                 1976.0   \n",
       "...                            ...             ...                    ...   \n",
       "6773696               Team Ekstrøm             NOR                 1966.0   \n",
       "6773697   Romerike Ultraløperklubb             NOR                 1953.0   \n",
       "6773698                Blodsmak SK             NOR                 1970.0   \n",
       "6773699                Blodsmak SK             NOR                 1963.0   \n",
       "6773700               Team Ekstrøm             NOR                 1970.0   \n",
       "\n",
       "        Athlete gender Athlete age category Athlete average speed  Athlete ID  \\\n",
       "1169473              M                  M40              06:03:22       80932   \n",
       "1169474              M                  M23              06:37:13       80935   \n",
       "1169475              M                  M45              06:49:03       45771   \n",
       "1169476              M                  M35              06:58:14      534420   \n",
       "1169477              M                  M35              07:05:48      372342   \n",
       "...                ...                  ...                   ...         ...   \n",
       "6773696              F                  W45              08:46:33     1515477   \n",
       "6773697              M                  M60              09:08:20      185154   \n",
       "6773698              M                  M40              09:27:18     1515478   \n",
       "6773699              M                  M50              09:27:40      724479   \n",
       "6773700              F                  W40              09:48:55     1515479   \n",
       "\n",
       "         distance_km  Current Athlete age  Athlete age at event  \n",
       "1169473         80.0                 51.0                  43.0  \n",
       "1169474         80.0                 41.0                  33.0  \n",
       "1169475         80.0                 53.0                  45.0  \n",
       "1169476         80.0                 45.0                  37.0  \n",
       "1169477         80.0                 48.0                  40.0  \n",
       "...              ...                  ...                   ...  \n",
       "6773696         80.0                 58.0                  49.0  \n",
       "6773697         80.0                 71.0                  62.0  \n",
       "6773698         80.0                 54.0                  45.0  \n",
       "6773699         80.0                 61.0                  52.0  \n",
       "6773700         80.0                 54.0                  45.0  \n",
       "\n",
       "[465 rows x 16 columns]"
      ],
      "text/html": [
       "<div>\n",
       "<style scoped>\n",
       "    .dataframe tbody tr th:only-of-type {\n",
       "        vertical-align: middle;\n",
       "    }\n",
       "\n",
       "    .dataframe tbody tr th {\n",
       "        vertical-align: top;\n",
       "    }\n",
       "\n",
       "    .dataframe thead th {\n",
       "        text-align: right;\n",
       "    }\n",
       "</style>\n",
       "<table border=\"1\" class=\"dataframe\">\n",
       "  <thead>\n",
       "    <tr style=\"text-align: right;\">\n",
       "      <th></th>\n",
       "      <th>Year of event</th>\n",
       "      <th>Event dates</th>\n",
       "      <th>Event name</th>\n",
       "      <th>Event distance/length</th>\n",
       "      <th>Event number of finishers</th>\n",
       "      <th>Athlete performance</th>\n",
       "      <th>Athlete club</th>\n",
       "      <th>Athlete country</th>\n",
       "      <th>Athlete year of birth</th>\n",
       "      <th>Athlete gender</th>\n",
       "      <th>Athlete age category</th>\n",
       "      <th>Athlete average speed</th>\n",
       "      <th>Athlete ID</th>\n",
       "      <th>distance_km</th>\n",
       "      <th>Current Athlete age</th>\n",
       "      <th>Athlete age at event</th>\n",
       "    </tr>\n",
       "  </thead>\n",
       "  <tbody>\n",
       "    <tr>\n",
       "      <th>1169473</th>\n",
       "      <td>2016</td>\n",
       "      <td>05.11.2016</td>\n",
       "      <td>Halden Ultraintervall 8x10km (NOR)</td>\n",
       "      <td>80km</td>\n",
       "      <td>11</td>\n",
       "      <td>6:03:22 h</td>\n",
       "      <td>Romerike Ultraløperklubb</td>\n",
       "      <td>NOR</td>\n",
       "      <td>1973.0</td>\n",
       "      <td>M</td>\n",
       "      <td>M40</td>\n",
       "      <td>06:03:22</td>\n",
       "      <td>80932</td>\n",
       "      <td>80.0</td>\n",
       "      <td>51.0</td>\n",
       "      <td>43.0</td>\n",
       "    </tr>\n",
       "    <tr>\n",
       "      <th>1169474</th>\n",
       "      <td>2016</td>\n",
       "      <td>05.11.2016</td>\n",
       "      <td>Halden Ultraintervall 8x10km (NOR)</td>\n",
       "      <td>80km</td>\n",
       "      <td>11</td>\n",
       "      <td>6:37:13 h</td>\n",
       "      <td>2150 Kondisjonsidrettslag</td>\n",
       "      <td>NOR</td>\n",
       "      <td>1983.0</td>\n",
       "      <td>M</td>\n",
       "      <td>M23</td>\n",
       "      <td>06:37:13</td>\n",
       "      <td>80935</td>\n",
       "      <td>80.0</td>\n",
       "      <td>41.0</td>\n",
       "      <td>33.0</td>\n",
       "    </tr>\n",
       "    <tr>\n",
       "      <th>1169475</th>\n",
       "      <td>2016</td>\n",
       "      <td>05.11.2016</td>\n",
       "      <td>Halden Ultraintervall 8x10km (NOR)</td>\n",
       "      <td>80km</td>\n",
       "      <td>11</td>\n",
       "      <td>6:49:03 h</td>\n",
       "      <td>Romerike Ultraløperklubb</td>\n",
       "      <td>NOR</td>\n",
       "      <td>1971.0</td>\n",
       "      <td>M</td>\n",
       "      <td>M45</td>\n",
       "      <td>06:49:03</td>\n",
       "      <td>45771</td>\n",
       "      <td>80.0</td>\n",
       "      <td>53.0</td>\n",
       "      <td>45.0</td>\n",
       "    </tr>\n",
       "    <tr>\n",
       "      <th>1169476</th>\n",
       "      <td>2016</td>\n",
       "      <td>05.11.2016</td>\n",
       "      <td>Halden Ultraintervall 8x10km (NOR)</td>\n",
       "      <td>80km</td>\n",
       "      <td>11</td>\n",
       "      <td>6:58:14 h</td>\n",
       "      <td>Halden Tannhelsesenter AS</td>\n",
       "      <td>NOR</td>\n",
       "      <td>1979.0</td>\n",
       "      <td>M</td>\n",
       "      <td>M35</td>\n",
       "      <td>06:58:14</td>\n",
       "      <td>534420</td>\n",
       "      <td>80.0</td>\n",
       "      <td>45.0</td>\n",
       "      <td>37.0</td>\n",
       "    </tr>\n",
       "    <tr>\n",
       "      <th>1169477</th>\n",
       "      <td>2016</td>\n",
       "      <td>05.11.2016</td>\n",
       "      <td>Halden Ultraintervall 8x10km (NOR)</td>\n",
       "      <td>80km</td>\n",
       "      <td>11</td>\n",
       "      <td>7:05:48 h</td>\n",
       "      <td>Fredrikstad Triatlonklubb</td>\n",
       "      <td>NOR</td>\n",
       "      <td>1976.0</td>\n",
       "      <td>M</td>\n",
       "      <td>M35</td>\n",
       "      <td>07:05:48</td>\n",
       "      <td>372342</td>\n",
       "      <td>80.0</td>\n",
       "      <td>48.0</td>\n",
       "      <td>40.0</td>\n",
       "    </tr>\n",
       "    <tr>\n",
       "      <th>...</th>\n",
       "      <td>...</td>\n",
       "      <td>...</td>\n",
       "      <td>...</td>\n",
       "      <td>...</td>\n",
       "      <td>...</td>\n",
       "      <td>...</td>\n",
       "      <td>...</td>\n",
       "      <td>...</td>\n",
       "      <td>...</td>\n",
       "      <td>...</td>\n",
       "      <td>...</td>\n",
       "      <td>...</td>\n",
       "      <td>...</td>\n",
       "      <td>...</td>\n",
       "      <td>...</td>\n",
       "      <td>...</td>\n",
       "    </tr>\n",
       "    <tr>\n",
       "      <th>6773696</th>\n",
       "      <td>2015</td>\n",
       "      <td>07.11.2015</td>\n",
       "      <td>Halden Ultraintervall 8x10km (NOR)</td>\n",
       "      <td>80km</td>\n",
       "      <td>21</td>\n",
       "      <td>8:46:33 h</td>\n",
       "      <td>Team Ekstrøm</td>\n",
       "      <td>NOR</td>\n",
       "      <td>1966.0</td>\n",
       "      <td>F</td>\n",
       "      <td>W45</td>\n",
       "      <td>08:46:33</td>\n",
       "      <td>1515477</td>\n",
       "      <td>80.0</td>\n",
       "      <td>58.0</td>\n",
       "      <td>49.0</td>\n",
       "    </tr>\n",
       "    <tr>\n",
       "      <th>6773697</th>\n",
       "      <td>2015</td>\n",
       "      <td>07.11.2015</td>\n",
       "      <td>Halden Ultraintervall 8x10km (NOR)</td>\n",
       "      <td>80km</td>\n",
       "      <td>21</td>\n",
       "      <td>9:08:20 h</td>\n",
       "      <td>Romerike Ultraløperklubb</td>\n",
       "      <td>NOR</td>\n",
       "      <td>1953.0</td>\n",
       "      <td>M</td>\n",
       "      <td>M60</td>\n",
       "      <td>09:08:20</td>\n",
       "      <td>185154</td>\n",
       "      <td>80.0</td>\n",
       "      <td>71.0</td>\n",
       "      <td>62.0</td>\n",
       "    </tr>\n",
       "    <tr>\n",
       "      <th>6773698</th>\n",
       "      <td>2015</td>\n",
       "      <td>07.11.2015</td>\n",
       "      <td>Halden Ultraintervall 8x10km (NOR)</td>\n",
       "      <td>80km</td>\n",
       "      <td>21</td>\n",
       "      <td>9:27:18 h</td>\n",
       "      <td>Blodsmak SK</td>\n",
       "      <td>NOR</td>\n",
       "      <td>1970.0</td>\n",
       "      <td>M</td>\n",
       "      <td>M40</td>\n",
       "      <td>09:27:18</td>\n",
       "      <td>1515478</td>\n",
       "      <td>80.0</td>\n",
       "      <td>54.0</td>\n",
       "      <td>45.0</td>\n",
       "    </tr>\n",
       "    <tr>\n",
       "      <th>6773699</th>\n",
       "      <td>2015</td>\n",
       "      <td>07.11.2015</td>\n",
       "      <td>Halden Ultraintervall 8x10km (NOR)</td>\n",
       "      <td>80km</td>\n",
       "      <td>21</td>\n",
       "      <td>9:27:40 h</td>\n",
       "      <td>Blodsmak SK</td>\n",
       "      <td>NOR</td>\n",
       "      <td>1963.0</td>\n",
       "      <td>M</td>\n",
       "      <td>M50</td>\n",
       "      <td>09:27:40</td>\n",
       "      <td>724479</td>\n",
       "      <td>80.0</td>\n",
       "      <td>61.0</td>\n",
       "      <td>52.0</td>\n",
       "    </tr>\n",
       "    <tr>\n",
       "      <th>6773700</th>\n",
       "      <td>2015</td>\n",
       "      <td>07.11.2015</td>\n",
       "      <td>Halden Ultraintervall 8x10km (NOR)</td>\n",
       "      <td>80km</td>\n",
       "      <td>21</td>\n",
       "      <td>9:48:55 h</td>\n",
       "      <td>Team Ekstrøm</td>\n",
       "      <td>NOR</td>\n",
       "      <td>1970.0</td>\n",
       "      <td>F</td>\n",
       "      <td>W40</td>\n",
       "      <td>09:48:55</td>\n",
       "      <td>1515479</td>\n",
       "      <td>80.0</td>\n",
       "      <td>54.0</td>\n",
       "      <td>45.0</td>\n",
       "    </tr>\n",
       "  </tbody>\n",
       "</table>\n",
       "<p>465 rows × 16 columns</p>\n",
       "</div>"
      ]
     },
     "execution_count": 55,
     "metadata": {},
     "output_type": "execute_result"
    }
   ],
   "execution_count": 55
  },
  {
   "cell_type": "code",
   "source": [
    "# Dropping rows that contains invalid speed data\n",
    "df.drop(df[df['Athlete average speed'].str.contains(':')].index, inplace=True)\n"
   ],
   "metadata": {
    "collapsed": false,
    "ExecuteTime": {
     "end_time": "2024-04-10T07:14:41.849844Z",
     "start_time": "2024-04-10T07:14:39.677181Z"
    }
   },
   "id": "c3f16e4dc89765d8",
   "outputs": [],
   "execution_count": 56
  },
  {
   "cell_type": "code",
   "source": [
    "# Making sure that the above code worked\n",
    "\n",
    "df[df['Athlete average speed'].str.contains(':')]"
   ],
   "metadata": {
    "collapsed": false,
    "ExecuteTime": {
     "end_time": "2024-04-10T07:14:43.167045Z",
     "start_time": "2024-04-10T07:14:41.850844Z"
    }
   },
   "id": "865184e13868208d",
   "outputs": [
    {
     "data": {
      "text/plain": [
       "Empty DataFrame\n",
       "Columns: [Year of event, Event dates, Event name, Event distance/length, Event number of finishers, Athlete performance, Athlete club, Athlete country, Athlete year of birth, Athlete gender, Athlete age category, Athlete average speed, Athlete ID, distance_km, Current Athlete age, Athlete age at event]\n",
       "Index: []"
      ],
      "text/html": [
       "<div>\n",
       "<style scoped>\n",
       "    .dataframe tbody tr th:only-of-type {\n",
       "        vertical-align: middle;\n",
       "    }\n",
       "\n",
       "    .dataframe tbody tr th {\n",
       "        vertical-align: top;\n",
       "    }\n",
       "\n",
       "    .dataframe thead th {\n",
       "        text-align: right;\n",
       "    }\n",
       "</style>\n",
       "<table border=\"1\" class=\"dataframe\">\n",
       "  <thead>\n",
       "    <tr style=\"text-align: right;\">\n",
       "      <th></th>\n",
       "      <th>Year of event</th>\n",
       "      <th>Event dates</th>\n",
       "      <th>Event name</th>\n",
       "      <th>Event distance/length</th>\n",
       "      <th>Event number of finishers</th>\n",
       "      <th>Athlete performance</th>\n",
       "      <th>Athlete club</th>\n",
       "      <th>Athlete country</th>\n",
       "      <th>Athlete year of birth</th>\n",
       "      <th>Athlete gender</th>\n",
       "      <th>Athlete age category</th>\n",
       "      <th>Athlete average speed</th>\n",
       "      <th>Athlete ID</th>\n",
       "      <th>distance_km</th>\n",
       "      <th>Current Athlete age</th>\n",
       "      <th>Athlete age at event</th>\n",
       "    </tr>\n",
       "  </thead>\n",
       "  <tbody>\n",
       "  </tbody>\n",
       "</table>\n",
       "</div>"
      ]
     },
     "execution_count": 57,
     "metadata": {},
     "output_type": "execute_result"
    }
   ],
   "execution_count": 57
  },
  {
   "cell_type": "code",
   "source": [
    "# Checking that all unexpected values are removed\n",
    "\n",
    "df['Athlete average speed'].unique()"
   ],
   "metadata": {
    "collapsed": false,
    "ExecuteTime": {
     "end_time": "2024-04-10T07:14:43.428684Z",
     "start_time": "2024-04-10T07:14:43.169044Z"
    }
   },
   "id": "7d63561ed8ae3548",
   "outputs": [
    {
     "data": {
      "text/plain": [
       "array(['10.286', '9.501', '9.472', ..., '2495.0', '2460.0', '15162.0'],\n",
       "      dtype=object)"
      ]
     },
     "execution_count": 58,
     "metadata": {},
     "output_type": "execute_result"
    }
   ],
   "execution_count": 58
  },
  {
   "cell_type": "code",
   "source": [
    "# Need to convert the datatype to float for any calculations to take place using the data\n",
    "\n",
    "df['Athlete average speed'] = df['Athlete average speed'].astype(float)"
   ],
   "metadata": {
    "collapsed": false,
    "ExecuteTime": {
     "end_time": "2024-04-10T07:14:43.997909Z",
     "start_time": "2024-04-10T07:14:43.430664Z"
    }
   },
   "id": "a18e4f133adbcce5",
   "outputs": [],
   "execution_count": 59
  },
  {
   "cell_type": "code",
   "source": [
    "# Ensure the datatype was converted successfully\n",
    "\n",
    "df.dtypes"
   ],
   "metadata": {
    "collapsed": false,
    "ExecuteTime": {
     "end_time": "2024-04-10T07:14:44.012915Z",
     "start_time": "2024-04-10T07:14:43.998915Z"
    }
   },
   "id": "31590411dc9caad4",
   "outputs": [
    {
     "data": {
      "text/plain": [
       "Year of event                  int64\n",
       "Event dates                   object\n",
       "Event name                    object\n",
       "Event distance/length         object\n",
       "Event number of finishers      int64\n",
       "Athlete performance           object\n",
       "Athlete club                  object\n",
       "Athlete country               object\n",
       "Athlete year of birth        float64\n",
       "Athlete gender                object\n",
       "Athlete age category          object\n",
       "Athlete average speed        float64\n",
       "Athlete ID                     int64\n",
       "distance_km                  float64\n",
       "Current Athlete age          float64\n",
       "Athlete age at event         float64\n",
       "dtype: object"
      ]
     },
     "execution_count": 60,
     "metadata": {},
     "output_type": "execute_result"
    }
   ],
   "execution_count": 60
  },
  {
   "cell_type": "markdown",
   "source": [
    "# End of Cleanup"
   ],
   "metadata": {
    "collapsed": false
   },
   "id": "dd4b6fce80e9379c"
  },
  {
   "cell_type": "markdown",
   "source": [
    "# Descriptive Statistics\n",
    "## Measure of Location\n",
    "### <u> Distance analysis <u/>"
   ],
   "metadata": {
    "collapsed": false
   },
   "id": "6403005ea9845be1"
  },
  {
   "cell_type": "code",
   "source": [
    "print('Number of events in this dataset calculation: ' + str(df['distance_km'].count()))"
   ],
   "metadata": {
    "collapsed": false,
    "ExecuteTime": {
     "end_time": "2024-04-10T07:14:44.043914Z",
     "start_time": "2024-04-10T07:14:44.014918Z"
    }
   },
   "id": "f9ee7ffe22bf7a3d",
   "outputs": [
    {
     "name": "stdout",
     "output_type": "stream",
     "text": [
      "Number of events in this dataset calculation: 6383231\n"
     ]
    }
   ],
   "execution_count": 61
  },
  {
   "cell_type": "code",
   "source": [
    "print('Average distance of all the marathons in this dataset calculation = ' + str(df['distance_km'].sum()/df['distance_km'].count()))"
   ],
   "metadata": {
    "collapsed": false,
    "ExecuteTime": {
     "end_time": "2024-04-10T07:14:44.073918Z",
     "start_time": "2024-04-10T07:14:44.045915Z"
    }
   },
   "id": "a0d8aa622987b4df",
   "outputs": [
    {
     "name": "stdout",
     "output_type": "stream",
     "text": [
      "Average distance of all the marathons in this dataset calculation = 77.96582829072354\n"
     ]
    }
   ],
   "execution_count": 62
  },
  {
   "cell_type": "code",
   "source": [
    "print('Median distance of all the marathons in this dataset calculation = ' + str(df['distance_km'].median()))"
   ],
   "metadata": {
    "collapsed": false,
    "ExecuteTime": {
     "end_time": "2024-04-10T07:14:44.105440Z",
     "start_time": "2024-04-10T07:14:44.074917Z"
    }
   },
   "id": "f5d22c215eb01685",
   "outputs": [
    {
     "name": "stdout",
     "output_type": "stream",
     "text": [
      "Median distance of all the marathons in this dataset calculation = 66.8\n"
     ]
    }
   ],
   "execution_count": 63
  },
  {
   "cell_type": "code",
   "source": [
    "print('Mode of all the marathons in this dataset calculation = ')\n",
    "print(df['distance_km'].mode())"
   ],
   "metadata": {
    "collapsed": false,
    "ExecuteTime": {
     "end_time": "2024-04-10T07:14:44.166457Z",
     "start_time": "2024-04-10T07:14:44.106442Z"
    }
   },
   "id": "81f5a1f60b9bc50f",
   "outputs": [
    {
     "name": "stdout",
     "output_type": "stream",
     "text": [
      "Mode of all the marathons in this dataset calculation = \n",
      "0    50.0\n",
      "Name: distance_km, dtype: float64\n"
     ]
    }
   ],
   "execution_count": 64
  },
  {
   "cell_type": "code",
   "source": [
    "print('1st Quartile of all the marathons in this dataset calculation = ' + str(df['distance_km'].quantile(0.25)))"
   ],
   "metadata": {
    "collapsed": false,
    "ExecuteTime": {
     "end_time": "2024-04-10T07:14:44.227978Z",
     "start_time": "2024-04-10T07:14:44.167443Z"
    }
   },
   "id": "ce1548df7a34dfb1",
   "outputs": [
    {
     "name": "stdout",
     "output_type": "stream",
     "text": [
      "1st Quartile of all the marathons in this dataset calculation = 50.0\n"
     ]
    }
   ],
   "execution_count": 65
  },
  {
   "cell_type": "code",
   "source": [
    "print('2nd Quartile of all the marathons in this dataset calculation = ' + str(df['distance_km'].quantile(0.50)))"
   ],
   "metadata": {
    "collapsed": false,
    "ExecuteTime": {
     "end_time": "2024-04-10T07:14:44.273964Z",
     "start_time": "2024-04-10T07:14:44.229967Z"
    }
   },
   "id": "c4042fc97802d864",
   "outputs": [
    {
     "name": "stdout",
     "output_type": "stream",
     "text": [
      "2nd Quartile of all the marathons in this dataset calculation = 66.8\n"
     ]
    }
   ],
   "execution_count": 66
  },
  {
   "cell_type": "code",
   "source": [
    "print('3nd Quartile of all the marathons in this dataset calculation = ' + str(df['distance_km'].quantile(0.75)))"
   ],
   "metadata": {
    "collapsed": false,
    "ExecuteTime": {
     "end_time": "2024-04-10T07:14:44.319548Z",
     "start_time": "2024-04-10T07:14:44.275966Z"
    }
   },
   "id": "f33820dadf2f667b",
   "outputs": [
    {
     "name": "stdout",
     "output_type": "stream",
     "text": [
      "3nd Quartile of all the marathons in this dataset calculation = 95.4\n"
     ]
    }
   ],
   "execution_count": 67
  },
  {
   "cell_type": "code",
   "source": [
    "print('Shortest distance in list of the marathons in this dataset calculation = ' + str(df['distance_km'].min()))"
   ],
   "metadata": {
    "collapsed": false,
    "ExecuteTime": {
     "end_time": "2024-04-10T07:14:44.334564Z",
     "start_time": "2024-04-10T07:14:44.320548Z"
    }
   },
   "id": "c8629ec4de20bb36",
   "outputs": [
    {
     "name": "stdout",
     "output_type": "stream",
     "text": [
      "Shortest distance in list of the marathons in this dataset calculation = 24.5\n"
     ]
    }
   ],
   "execution_count": 68
  },
  {
   "cell_type": "code",
   "source": [
    "print('Longest distance in list of the marathons in this dataset calculation = ' + str(df['distance_km'].max()))"
   ],
   "metadata": {
    "collapsed": false,
    "ExecuteTime": {
     "end_time": "2024-04-10T07:14:44.349548Z",
     "start_time": "2024-04-10T07:14:44.335550Z"
    }
   },
   "id": "eb3e48e638edcb62",
   "outputs": [
    {
     "name": "stdout",
     "output_type": "stream",
     "text": [
      "Longest distance in list of the marathons in this dataset calculation = 5719.59436\n"
     ]
    }
   ],
   "execution_count": 69
  },
  {
   "cell_type": "code",
   "source": [
    "geometric_mean = gmean(df.loc[:,\"distance_km\"])\n",
    "\n",
    "print(\"The Geometric Mean is: \" + str(geometric_mean))"
   ],
   "metadata": {
    "collapsed": false,
    "ExecuteTime": {
     "end_time": "2024-04-10T07:14:44.394561Z",
     "start_time": "2024-04-10T07:14:44.350551Z"
    }
   },
   "id": "3aae0cf1e56f062c",
   "outputs": [
    {
     "name": "stdout",
     "output_type": "stream",
     "text": [
      "The Geometric Mean is: 71.56547641547846\n"
     ]
    }
   ],
   "execution_count": 70
  },
  {
   "cell_type": "markdown",
   "source": [],
   "metadata": {
    "collapsed": false
   },
   "id": "f09ba4404534ab8a"
  },
  {
   "cell_type": "code",
   "source": [
    "plt.figure(figsize=(10, 6))\n",
    "sns.histplot(data=df, x='distance_km', bins=1000)\n",
    "plt.title('Distance of all the marathons in this dataset')\n",
    "plt.xlabel('KMs')\n",
    "plt.ylabel('Frequency')\n",
    "plt.grid(True)\n",
    "plt.show()\n"
   ],
   "metadata": {
    "collapsed": false,
    "ExecuteTime": {
     "end_time": "2024-04-10T07:14:46.473810Z",
     "start_time": "2024-04-10T07:14:44.395560Z"
    }
   },
   "id": "83d9cd4cb511bf2",
   "outputs": [
    {
     "data": {
      "text/plain": [
       "<Figure size 1000x600 with 1 Axes>"
      ],
      "image/png": "[encoded data removed]"
     },
     "metadata": {},
     "output_type": "display_data"
    }
   ],
   "execution_count": 71
  },
  {
   "cell_type": "markdown",
   "source": [
    "Interpretation\n",
    "\n",
    "From the Measure of location of the distance of the marathons we can see that the average distance of these marathons are around 78km long and the median sits at 66.8km. Which indicate that most marathons are in fact ultra marathons as they exceed the traditional marathon length of 42.195 kilometres (26 mi 385 yd). Majority of marathons in this dataset is at 50km which right around the border between a traditional marathon and an ultra marathon. The 1st quartile is still in the 50km range while the 3rd quartile is at 95.4km which indicates most marathons are raced in under 24 hours as around 160 km is typically the longest course distance raced in under 24 hours. There are however marathons that span up to a maximum of 5720km. "
   ],
   "metadata": {
    "collapsed": false
   },
   "id": "59f9463995fcafee"
  },
  {
   "cell_type": "markdown",
   "source": [
    "### <u> Current Athlete Age analysis <u/>"
   ],
   "metadata": {
    "collapsed": false
   },
   "id": "7b5b22d23af87535"
  },
  {
   "cell_type": "code",
   "source": [
    "# Each Athlete has a unique ID. For Current Athlete Age analysis we need to remove duplicate Athlete IDs as if an athlete has attended more than one marathon it will skew the data as their age will be recorded multiple times in the dataset.\n",
    "\n",
    "# Checking for if duplicates exist\n",
    "df.duplicated(subset=['Athlete ID']).any()"
   ],
   "metadata": {
    "collapsed": false,
    "ExecuteTime": {
     "end_time": "2024-04-10T07:14:46.580348Z",
     "start_time": "2024-04-10T07:14:46.475812Z"
    }
   },
   "id": "9f3feb6048b24c77",
   "outputs": [
    {
     "data": {
      "text/plain": [
       "True"
      ]
     },
     "execution_count": 72,
     "metadata": {},
     "output_type": "execute_result"
    }
   ],
   "execution_count": 72
  },
  {
   "cell_type": "code",
   "source": [
    "# Dropping all duplicate Athlete IDs. Order does not matter as we are using Athlete birth Year to calculate age thus the age should all be the same for each athlete\n",
    "\n",
    "dfAdjustedDup = df.drop_duplicates(subset=['Athlete ID'], keep='first')\n",
    "dfAdjustedDup"
   ],
   "metadata": {
    "collapsed": false,
    "ExecuteTime": {
     "end_time": "2024-04-10T07:14:46.857906Z",
     "start_time": "2024-04-10T07:14:46.581348Z"
    }
   },
   "id": "62b33f60f010b241",
   "outputs": [
    {
     "data": {
      "text/plain": [
       "         Year of event Event dates                        Event name  \\\n",
       "0                 2018  06.01.2018               Selva Costera (CHI)   \n",
       "1                 2018  06.01.2018               Selva Costera (CHI)   \n",
       "2                 2018  06.01.2018               Selva Costera (CHI)   \n",
       "3                 2018  06.01.2018               Selva Costera (CHI)   \n",
       "4                 2018  06.01.2018               Selva Costera (CHI)   \n",
       "...                ...         ...                               ...   \n",
       "7461002           1995  21.01.1995           Mountain Mist 50k (USA)   \n",
       "7461003           1995  21.01.1995           Mountain Mist 50k (USA)   \n",
       "7461046           1995  07.01.1995         Atlanta Fat Ass 50K (USA)   \n",
       "7461052           1995  07.01.1995         Atlanta Fat Ass 50K (USA)   \n",
       "7461152           1995  07.01.1995  Avalon Benefit 50-Mile Run (USA)   \n",
       "\n",
       "        Event distance/length  Event number of finishers Athlete performance  \\\n",
       "0                        50km                         22           4:51:39 h   \n",
       "1                        50km                         22           5:15:45 h   \n",
       "2                        50km                         22           5:16:44 h   \n",
       "3                        50km                         22           5:34:13 h   \n",
       "4                        50km                         22           5:54:14 h   \n",
       "...                       ...                        ...                 ...   \n",
       "7461002                  50km                         36           5:51:58 h   \n",
       "7461003                  50km                         36           5:51:58 h   \n",
       "7461046                  50km                         22           4:49:50 h   \n",
       "7461052                  50km                         22           5:22:10 h   \n",
       "7461152                  50mi                         92          10:31:57 h   \n",
       "\n",
       "                Athlete club Athlete country  Athlete year of birth  \\\n",
       "0                      Tnfrc             CHI                 1978.0   \n",
       "1         Roberto Echeverría             CHI                 1981.0   \n",
       "2          Puro Trail Osorno             CHI                 1987.0   \n",
       "3                   Columbia             ARG                 1976.0   \n",
       "4             Baguales Trail             CHI                 1992.0   \n",
       "...                      ...             ...                    ...   \n",
       "7461002      *Huntsville, AL             USA                 1962.0   \n",
       "7461003      *Huntsville, AL             USA                 1962.0   \n",
       "7461046        *Chamblee, GA             USA                 1955.0   \n",
       "7461052  *Peachtree City, GA             USA                 1960.0   \n",
       "7461152                  NaN             USA                 1947.0   \n",
       "\n",
       "        Athlete gender Athlete age category  Athlete average speed  \\\n",
       "0                    M                  M35                 10.286   \n",
       "1                    M                  M35                  9.501   \n",
       "2                    M                  M23                  9.472   \n",
       "3                    M                  M40                  8.976   \n",
       "4                    M                  M23                  8.469   \n",
       "...                ...                  ...                    ...   \n",
       "7461002              F                  W23               8524.000   \n",
       "7461003              F                  W23               8524.000   \n",
       "7461046              F                  W35              10351.000   \n",
       "7461052              F                  W23               9312.000   \n",
       "7461152              F                  W45               7640.000   \n",
       "\n",
       "         Athlete ID  distance_km  Current Athlete age  Athlete age at event  \n",
       "0                 0       50.000                 46.0                  40.0  \n",
       "1                 1       50.000                 43.0                  37.0  \n",
       "2                 2       50.000                 37.0                  31.0  \n",
       "3                 3       50.000                 48.0                  42.0  \n",
       "4                 4       50.000                 32.0                  26.0  \n",
       "...             ...          ...                  ...                   ...  \n",
       "7461002     1641158       50.000                 62.0                  33.0  \n",
       "7461003     1641159       50.000                 62.0                  33.0  \n",
       "7461046     1641164       50.000                 69.0                  40.0  \n",
       "7461052     1641165       50.000                 64.0                  35.0  \n",
       "7461152     1641167       80.467                 77.0                  48.0  \n",
       "\n",
       "[1264189 rows x 16 columns]"
      ],
      "text/html": [
       "<div>\n",
       "<style scoped>\n",
       "    .dataframe tbody tr th:only-of-type {\n",
       "        vertical-align: middle;\n",
       "    }\n",
       "\n",
       "    .dataframe tbody tr th {\n",
       "        vertical-align: top;\n",
       "    }\n",
       "\n",
       "    .dataframe thead th {\n",
       "        text-align: right;\n",
       "    }\n",
       "</style>\n",
       "<table border=\"1\" class=\"dataframe\">\n",
       "  <thead>\n",
       "    <tr style=\"text-align: right;\">\n",
       "      <th></th>\n",
       "      <th>Year of event</th>\n",
       "      <th>Event dates</th>\n",
       "      <th>Event name</th>\n",
       "      <th>Event distance/length</th>\n",
       "      <th>Event number of finishers</th>\n",
       "      <th>Athlete performance</th>\n",
       "      <th>Athlete club</th>\n",
       "      <th>Athlete country</th>\n",
       "      <th>Athlete year of birth</th>\n",
       "      <th>Athlete gender</th>\n",
       "      <th>Athlete age category</th>\n",
       "      <th>Athlete average speed</th>\n",
       "      <th>Athlete ID</th>\n",
       "      <th>distance_km</th>\n",
       "      <th>Current Athlete age</th>\n",
       "      <th>Athlete age at event</th>\n",
       "    </tr>\n",
       "  </thead>\n",
       "  <tbody>\n",
       "    <tr>\n",
       "      <th>0</th>\n",
       "      <td>2018</td>\n",
       "      <td>06.01.2018</td>\n",
       "      <td>Selva Costera (CHI)</td>\n",
       "      <td>50km</td>\n",
       "      <td>22</td>\n",
       "      <td>4:51:39 h</td>\n",
       "      <td>Tnfrc</td>\n",
       "      <td>CHI</td>\n",
       "      <td>1978.0</td>\n",
       "      <td>M</td>\n",
       "      <td>M35</td>\n",
       "      <td>10.286</td>\n",
       "      <td>0</td>\n",
       "      <td>50.000</td>\n",
       "      <td>46.0</td>\n",
       "      <td>40.0</td>\n",
       "    </tr>\n",
       "    <tr>\n",
       "      <th>1</th>\n",
       "      <td>2018</td>\n",
       "      <td>06.01.2018</td>\n",
       "      <td>Selva Costera (CHI)</td>\n",
       "      <td>50km</td>\n",
       "      <td>22</td>\n",
       "      <td>5:15:45 h</td>\n",
       "      <td>Roberto Echeverría</td>\n",
       "      <td>CHI</td>\n",
       "      <td>1981.0</td>\n",
       "      <td>M</td>\n",
       "      <td>M35</td>\n",
       "      <td>9.501</td>\n",
       "      <td>1</td>\n",
       "      <td>50.000</td>\n",
       "      <td>43.0</td>\n",
       "      <td>37.0</td>\n",
       "    </tr>\n",
       "    <tr>\n",
       "      <th>2</th>\n",
       "      <td>2018</td>\n",
       "      <td>06.01.2018</td>\n",
       "      <td>Selva Costera (CHI)</td>\n",
       "      <td>50km</td>\n",
       "      <td>22</td>\n",
       "      <td>5:16:44 h</td>\n",
       "      <td>Puro Trail Osorno</td>\n",
       "      <td>CHI</td>\n",
       "      <td>1987.0</td>\n",
       "      <td>M</td>\n",
       "      <td>M23</td>\n",
       "      <td>9.472</td>\n",
       "      <td>2</td>\n",
       "      <td>50.000</td>\n",
       "      <td>37.0</td>\n",
       "      <td>31.0</td>\n",
       "    </tr>\n",
       "    <tr>\n",
       "      <th>3</th>\n",
       "      <td>2018</td>\n",
       "      <td>06.01.2018</td>\n",
       "      <td>Selva Costera (CHI)</td>\n",
       "      <td>50km</td>\n",
       "      <td>22</td>\n",
       "      <td>5:34:13 h</td>\n",
       "      <td>Columbia</td>\n",
       "      <td>ARG</td>\n",
       "      <td>1976.0</td>\n",
       "      <td>M</td>\n",
       "      <td>M40</td>\n",
       "      <td>8.976</td>\n",
       "      <td>3</td>\n",
       "      <td>50.000</td>\n",
       "      <td>48.0</td>\n",
       "      <td>42.0</td>\n",
       "    </tr>\n",
       "    <tr>\n",
       "      <th>4</th>\n",
       "      <td>2018</td>\n",
       "      <td>06.01.2018</td>\n",
       "      <td>Selva Costera (CHI)</td>\n",
       "      <td>50km</td>\n",
       "      <td>22</td>\n",
       "      <td>5:54:14 h</td>\n",
       "      <td>Baguales Trail</td>\n",
       "      <td>CHI</td>\n",
       "      <td>1992.0</td>\n",
       "      <td>M</td>\n",
       "      <td>M23</td>\n",
       "      <td>8.469</td>\n",
       "      <td>4</td>\n",
       "      <td>50.000</td>\n",
       "      <td>32.0</td>\n",
       "      <td>26.0</td>\n",
       "    </tr>\n",
       "    <tr>\n",
       "      <th>...</th>\n",
       "      <td>...</td>\n",
       "      <td>...</td>\n",
       "      <td>...</td>\n",
       "      <td>...</td>\n",
       "      <td>...</td>\n",
       "      <td>...</td>\n",
       "      <td>...</td>\n",
       "      <td>...</td>\n",
       "      <td>...</td>\n",
       "      <td>...</td>\n",
       "      <td>...</td>\n",
       "      <td>...</td>\n",
       "      <td>...</td>\n",
       "      <td>...</td>\n",
       "      <td>...</td>\n",
       "      <td>...</td>\n",
       "    </tr>\n",
       "    <tr>\n",
       "      <th>7461002</th>\n",
       "      <td>1995</td>\n",
       "      <td>21.01.1995</td>\n",
       "      <td>Mountain Mist 50k (USA)</td>\n",
       "      <td>50km</td>\n",
       "      <td>36</td>\n",
       "      <td>5:51:58 h</td>\n",
       "      <td>*Huntsville, AL</td>\n",
       "      <td>USA</td>\n",
       "      <td>1962.0</td>\n",
       "      <td>F</td>\n",
       "      <td>W23</td>\n",
       "      <td>8524.000</td>\n",
       "      <td>1641158</td>\n",
       "      <td>50.000</td>\n",
       "      <td>62.0</td>\n",
       "      <td>33.0</td>\n",
       "    </tr>\n",
       "    <tr>\n",
       "      <th>7461003</th>\n",
       "      <td>1995</td>\n",
       "      <td>21.01.1995</td>\n",
       "      <td>Mountain Mist 50k (USA)</td>\n",
       "      <td>50km</td>\n",
       "      <td>36</td>\n",
       "      <td>5:51:58 h</td>\n",
       "      <td>*Huntsville, AL</td>\n",
       "      <td>USA</td>\n",
       "      <td>1962.0</td>\n",
       "      <td>F</td>\n",
       "      <td>W23</td>\n",
       "      <td>8524.000</td>\n",
       "      <td>1641159</td>\n",
       "      <td>50.000</td>\n",
       "      <td>62.0</td>\n",
       "      <td>33.0</td>\n",
       "    </tr>\n",
       "    <tr>\n",
       "      <th>7461046</th>\n",
       "      <td>1995</td>\n",
       "      <td>07.01.1995</td>\n",
       "      <td>Atlanta Fat Ass 50K (USA)</td>\n",
       "      <td>50km</td>\n",
       "      <td>22</td>\n",
       "      <td>4:49:50 h</td>\n",
       "      <td>*Chamblee, GA</td>\n",
       "      <td>USA</td>\n",
       "      <td>1955.0</td>\n",
       "      <td>F</td>\n",
       "      <td>W35</td>\n",
       "      <td>10351.000</td>\n",
       "      <td>1641164</td>\n",
       "      <td>50.000</td>\n",
       "      <td>69.0</td>\n",
       "      <td>40.0</td>\n",
       "    </tr>\n",
       "    <tr>\n",
       "      <th>7461052</th>\n",
       "      <td>1995</td>\n",
       "      <td>07.01.1995</td>\n",
       "      <td>Atlanta Fat Ass 50K (USA)</td>\n",
       "      <td>50km</td>\n",
       "      <td>22</td>\n",
       "      <td>5:22:10 h</td>\n",
       "      <td>*Peachtree City, GA</td>\n",
       "      <td>USA</td>\n",
       "      <td>1960.0</td>\n",
       "      <td>F</td>\n",
       "      <td>W23</td>\n",
       "      <td>9312.000</td>\n",
       "      <td>1641165</td>\n",
       "      <td>50.000</td>\n",
       "      <td>64.0</td>\n",
       "      <td>35.0</td>\n",
       "    </tr>\n",
       "    <tr>\n",
       "      <th>7461152</th>\n",
       "      <td>1995</td>\n",
       "      <td>07.01.1995</td>\n",
       "      <td>Avalon Benefit 50-Mile Run (USA)</td>\n",
       "      <td>50mi</td>\n",
       "      <td>92</td>\n",
       "      <td>10:31:57 h</td>\n",
       "      <td>NaN</td>\n",
       "      <td>USA</td>\n",
       "      <td>1947.0</td>\n",
       "      <td>F</td>\n",
       "      <td>W45</td>\n",
       "      <td>7640.000</td>\n",
       "      <td>1641167</td>\n",
       "      <td>80.467</td>\n",
       "      <td>77.0</td>\n",
       "      <td>48.0</td>\n",
       "    </tr>\n",
       "  </tbody>\n",
       "</table>\n",
       "<p>1264189 rows × 16 columns</p>\n",
       "</div>"
      ]
     },
     "execution_count": 73,
     "metadata": {},
     "output_type": "execute_result"
    }
   ],
   "execution_count": 73
  },
  {
   "cell_type": "code",
   "source": [
    "# Making sure duplicates were dropped\n",
    "\n",
    "dfAdjustedDup.duplicated(subset=['Athlete ID']).any()"
   ],
   "metadata": {
    "collapsed": false,
    "ExecuteTime": {
     "end_time": "2024-04-10T07:14:46.888944Z",
     "start_time": "2024-04-10T07:14:46.858905Z"
    }
   },
   "id": "fb1e718ee42ea0f9",
   "outputs": [
    {
     "data": {
      "text/plain": [
       "False"
      ]
     },
     "execution_count": 74,
     "metadata": {},
     "output_type": "execute_result"
    }
   ],
   "execution_count": 74
  },
  {
   "cell_type": "code",
   "source": [
    "print('Number of Current Athlete Ages in this dataset calculation: ' + str(dfAdjustedDup['Current Athlete age'].count()))"
   ],
   "metadata": {
    "collapsed": false,
    "ExecuteTime": {
     "end_time": "2024-04-10T07:14:46.904456Z",
     "start_time": "2024-04-10T07:14:46.890979Z"
    }
   },
   "id": "30de6d99fbba9d4d",
   "outputs": [
    {
     "name": "stdout",
     "output_type": "stream",
     "text": [
      "Number of Current Athlete Ages in this dataset calculation: 1264189\n"
     ]
    }
   ],
   "execution_count": 75
  },
  {
   "cell_type": "code",
   "source": [
    "print('Average Current Athlete Ages in this dataset calculation = ' + str(dfAdjustedDup['Current Athlete age'].sum()/dfAdjustedDup['Current Athlete age'].count()))"
   ],
   "metadata": {
    "collapsed": false,
    "ExecuteTime": {
     "end_time": "2024-04-10T07:14:46.919499Z",
     "start_time": "2024-04-10T07:14:46.906458Z"
    }
   },
   "id": "416658b021491415",
   "outputs": [
    {
     "name": "stdout",
     "output_type": "stream",
     "text": [
      "Average Current Athlete Ages in this dataset calculation = 50.581633758876244\n"
     ]
    }
   ],
   "execution_count": 76
  },
  {
   "cell_type": "code",
   "source": [
    "print('Median of Current Athlete Ages in this dataset calculation = ' + str(dfAdjustedDup['Current Athlete age'].median()))"
   ],
   "metadata": {
    "collapsed": false,
    "ExecuteTime": {
     "end_time": "2024-04-10T07:14:46.950457Z",
     "start_time": "2024-04-10T07:14:46.921461Z"
    }
   },
   "id": "3439293723072ced",
   "outputs": [
    {
     "name": "stdout",
     "output_type": "stream",
     "text": [
      "Median of Current Athlete Ages in this dataset calculation = 49.0\n"
     ]
    }
   ],
   "execution_count": 77
  },
  {
   "cell_type": "code",
   "source": [
    "print('Mode of Current Athlete Ages in this dataset calculation = ')\n",
    "print(dfAdjustedDup['Current Athlete age'].mode())"
   ],
   "metadata": {
    "collapsed": false,
    "ExecuteTime": {
     "end_time": "2024-04-10T07:14:46.965458Z",
     "start_time": "2024-04-10T07:14:46.952458Z"
    }
   },
   "id": "50e9c54d0374eaad",
   "outputs": [
    {
     "name": "stdout",
     "output_type": "stream",
     "text": [
      "Mode of Current Athlete Ages in this dataset calculation = \n",
      "0    50.0\n",
      "Name: Current Athlete age, dtype: float64\n"
     ]
    }
   ],
   "execution_count": 78
  },
  {
   "cell_type": "code",
   "source": [
    "print('1st Quartile of Current Athlete Ages in this dataset calculation = ' + str(dfAdjustedDup['Current Athlete age'].quantile(0.25)))"
   ],
   "metadata": {
    "collapsed": false,
    "ExecuteTime": {
     "end_time": "2024-04-10T07:14:46.996462Z",
     "start_time": "2024-04-10T07:14:46.966457Z"
    }
   },
   "id": "46965a21267da7c7",
   "outputs": [
    {
     "name": "stdout",
     "output_type": "stream",
     "text": [
      "1st Quartile of Current Athlete Ages in this dataset calculation = 41.0\n"
     ]
    }
   ],
   "execution_count": 79
  },
  {
   "cell_type": "code",
   "source": [
    "print('2nd Quartile of Current Athlete Ages in this dataset calculation = ' + str(dfAdjustedDup['Current Athlete age'].quantile(0.50)))"
   ],
   "metadata": {
    "collapsed": false,
    "ExecuteTime": {
     "end_time": "2024-04-10T07:14:47.027995Z",
     "start_time": "2024-04-10T07:14:46.998464Z"
    }
   },
   "id": "297c23679bd90d76",
   "outputs": [
    {
     "name": "stdout",
     "output_type": "stream",
     "text": [
      "2nd Quartile of Current Athlete Ages in this dataset calculation = 49.0\n"
     ]
    }
   ],
   "execution_count": 80
  },
  {
   "cell_type": "code",
   "source": [
    "print('3nd Quartile of Current Athlete Ages in this dataset calculation = ' + str(dfAdjustedDup['Current Athlete age'].quantile(0.75)))"
   ],
   "metadata": {
    "collapsed": false,
    "ExecuteTime": {
     "end_time": "2024-04-10T07:14:47.057973Z",
     "start_time": "2024-04-10T07:14:47.029975Z"
    }
   },
   "id": "9c8d26708e39810a",
   "outputs": [
    {
     "name": "stdout",
     "output_type": "stream",
     "text": [
      "3nd Quartile of Current Athlete Ages in this dataset calculation = 58.0\n"
     ]
    }
   ],
   "execution_count": 81
  },
  {
   "cell_type": "code",
   "source": [
    "print('Smallest Current Athlete Age in list of the marathons in this dataset calculation = ' + str(dfAdjustedDup['Current Athlete age'].min()))"
   ],
   "metadata": {
    "collapsed": false,
    "ExecuteTime": {
     "end_time": "2024-04-10T07:14:47.072992Z",
     "start_time": "2024-04-10T07:14:47.058977Z"
    }
   },
   "id": "b4d942fec5373142",
   "outputs": [
    {
     "name": "stdout",
     "output_type": "stream",
     "text": [
      "Smallest Current Athlete Age in list of the marathons in this dataset calculation = 4.0\n"
     ]
    }
   ],
   "execution_count": 82
  },
  {
   "cell_type": "code",
   "source": [
    "print('Biggest Current Athlete Age in list of the marathons in this dataset calculation = ' + str(dfAdjustedDup['Current Athlete age'].max()))"
   ],
   "metadata": {
    "collapsed": false,
    "ExecuteTime": {
     "end_time": "2024-04-10T07:14:47.087982Z",
     "start_time": "2024-04-10T07:14:47.073975Z"
    }
   },
   "id": "81bd0e7576b0d177",
   "outputs": [
    {
     "name": "stdout",
     "output_type": "stream",
     "text": [
      "Biggest Current Athlete Age in list of the marathons in this dataset calculation = 831.0\n"
     ]
    }
   ],
   "execution_count": 83
  },
  {
   "cell_type": "code",
   "source": [
    "geometric_mean = gmean(dfAdjustedDup.loc[:,\"Current Athlete age\"])\n",
    "print(\"The Geometric Mean is: \" + str(geometric_mean))"
   ],
   "metadata": {
    "collapsed": false,
    "ExecuteTime": {
     "end_time": "2024-04-10T07:14:47.103495Z",
     "start_time": "2024-04-10T07:14:47.088983Z"
    }
   },
   "id": "7bf583e524bcd629",
   "outputs": [
    {
     "name": "stdout",
     "output_type": "stream",
     "text": [
      "The Geometric Mean is: 48.9046426273964\n"
     ]
    }
   ],
   "execution_count": 84
  },
  {
   "cell_type": "code",
   "source": [
    "plt.figure(figsize=(10, 6))\n",
    "sns.histplot(data=dfAdjustedDup, x='Current Athlete age', bins=100)\n",
    "plt.title('Current Athlete Age in list of the marathons in this dataset')\n",
    "plt.xlabel('Age')\n",
    "plt.ylabel('Frequency')\n",
    "plt.grid(True)\n",
    "plt.show()"
   ],
   "metadata": {
    "collapsed": false,
    "ExecuteTime": {
     "end_time": "2024-04-10T07:14:47.493043Z",
     "start_time": "2024-04-10T07:14:47.105495Z"
    }
   },
   "id": "8f2c2c46b506f2eb",
   "outputs": [
    {
     "data": {
      "text/plain": [
       "<Figure size 1000x600 with 1 Axes>"
      ],
      "image/png": "[encoded data removed]"
     },
     "metadata": {},
     "output_type": "display_data"
    }
   ],
   "execution_count": 85
  },
  {
   "cell_type": "code",
   "source": [
    "# If we adjust for ages of people that are still theoretically alive\n",
    "\n",
    "dfAdjustedAge = dfAdjustedDup.drop(dfAdjustedDup[dfAdjustedDup['Current Athlete age'] >= 120 ].index)"
   ],
   "metadata": {
    "collapsed": false,
    "ExecuteTime": {
     "end_time": "2024-04-10T07:14:47.692329Z",
     "start_time": "2024-04-10T07:14:47.493963Z"
    }
   },
   "id": "5da1e96331cdcb2f",
   "outputs": [],
   "execution_count": 86
  },
  {
   "cell_type": "code",
   "source": [
    "plt.figure(figsize=(10, 6))\n",
    "sns.histplot(data=dfAdjustedAge, x='Current Athlete age', kde=True)\n",
    "plt.title('Adjusted Current Athlete Age in list of the marathons in this dataset')\n",
    "plt.xlabel('Age')\n",
    "plt.ylabel('Frequency')\n",
    "plt.grid(True)\n",
    "plt.show()"
   ],
   "metadata": {
    "collapsed": false,
    "ExecuteTime": {
     "end_time": "2024-04-10T07:14:52.479965Z",
     "start_time": "2024-04-10T07:14:47.693348Z"
    }
   },
   "id": "38dcf37190c250e7",
   "outputs": [
    {
     "data": {
      "text/plain": [
       "<Figure size 1000x600 with 1 Axes>"
      ],
      "image/png": "[encoded data removed]"
     },
     "metadata": {},
     "output_type": "display_data"
    }
   ],
   "execution_count": 87
  },
  {
   "cell_type": "markdown",
   "source": [
    "Interpretation\n",
    "\n",
    "The average current age of the athletes is around 51 rounded and the median is 49 which is right around the middle of a typical 100-year lifespan of people. Most current athletes are in their 50s. The quartiles indicate that 50% of the athletes in the middle of the dataset are between 41 and 58. The min and max of the data may indicate outliers present."
   ],
   "metadata": {
    "collapsed": false
   },
   "id": "233d4cae528f7141"
  },
  {
   "cell_type": "markdown",
   "source": [
    "### <u> Athlete age at event Analysis <u/>"
   ],
   "metadata": {
    "collapsed": false
   },
   "id": "d17048e5a440f701"
  },
  {
   "cell_type": "code",
   "source": [
    "print('Number of Athlete Age at event in this dataset calculation: ' + str(df['Athlete age at event'].count()))"
   ],
   "metadata": {
    "collapsed": false,
    "ExecuteTime": {
     "end_time": "2024-04-10T07:14:52.510702Z",
     "start_time": "2024-04-10T07:14:52.480954Z"
    }
   },
   "id": "ac3173ad51ef8095",
   "outputs": [
    {
     "name": "stdout",
     "output_type": "stream",
     "text": [
      "Number of Athlete Age at event in this dataset calculation: 6383231\n"
     ]
    }
   ],
   "execution_count": 88
  },
  {
   "cell_type": "code",
   "source": [
    "print('Average Athlete Age at event in this dataset calculation = ' + str(df['Athlete age at event'].sum() / df['Athlete age at event'].count()))"
   ],
   "metadata": {
    "collapsed": false,
    "ExecuteTime": {
     "end_time": "2024-04-10T07:14:52.541675Z",
     "start_time": "2024-04-10T07:14:52.511638Z"
    }
   },
   "id": "f981f6a0c1ce6227",
   "outputs": [
    {
     "name": "stdout",
     "output_type": "stream",
     "text": [
      "Average Athlete Age at event in this dataset calculation = 42.15774331212516\n"
     ]
    }
   ],
   "execution_count": 89
  },
  {
   "cell_type": "code",
   "source": [
    "print('Median of Athlete Age at event in this dataset calculation = ' + str(df['Athlete age at event'].median()))"
   ],
   "metadata": {
    "collapsed": false,
    "ExecuteTime": {
     "end_time": "2024-04-10T07:14:52.602671Z",
     "start_time": "2024-04-10T07:14:52.542660Z"
    }
   },
   "id": "f664701b7a496aef",
   "outputs": [
    {
     "name": "stdout",
     "output_type": "stream",
     "text": [
      "Median of Athlete Age at event in this dataset calculation = 42.0\n"
     ]
    }
   ],
   "execution_count": 90
  },
  {
   "cell_type": "code",
   "source": [
    "print('Mode of Athlete Age at event in this dataset calculation = ')\n",
    "print(df['Athlete age at event'].mode())"
   ],
   "metadata": {
    "collapsed": false,
    "ExecuteTime": {
     "end_time": "2024-04-10T07:14:52.648325Z",
     "start_time": "2024-04-10T07:14:52.603725Z"
    }
   },
   "id": "e296c55bba4647c5",
   "outputs": [
    {
     "name": "stdout",
     "output_type": "stream",
     "text": [
      "Mode of Athlete Age at event in this dataset calculation = \n",
      "0    42.0\n",
      "Name: Athlete age at event, dtype: float64\n"
     ]
    }
   ],
   "execution_count": 91
  },
  {
   "cell_type": "code",
   "source": [
    "print('1st Quartile of Athlete Age at event in this dataset calculation = ' + str(df['Athlete age at event'].quantile(0.25)))"
   ],
   "metadata": {
    "collapsed": false,
    "ExecuteTime": {
     "end_time": "2024-04-10T07:14:52.725921Z",
     "start_time": "2024-04-10T07:14:52.649301Z"
    }
   },
   "id": "5688ca69f6bb323a",
   "outputs": [
    {
     "name": "stdout",
     "output_type": "stream",
     "text": [
      "1st Quartile of Athlete Age at event in this dataset calculation = 35.0\n"
     ]
    }
   ],
   "execution_count": 92
  },
  {
   "cell_type": "code",
   "source": [
    "print('2nd Quartile of Athlete Age at event in this dataset calculation = ' + str(df['Athlete age at event'].quantile(0.50)))"
   ],
   "metadata": {
    "collapsed": false,
    "ExecuteTime": {
     "end_time": "2024-04-10T07:14:52.820696Z",
     "start_time": "2024-04-10T07:14:52.726859Z"
    }
   },
   "id": "7b2202fbee98a70a",
   "outputs": [
    {
     "name": "stdout",
     "output_type": "stream",
     "text": [
      "2nd Quartile of Athlete Age at event in this dataset calculation = 42.0\n"
     ]
    }
   ],
   "execution_count": 93
  },
  {
   "cell_type": "code",
   "source": [
    "print('3nd Quartile of Athlete Age at event in this dataset calculation = ' + str(df['Athlete age at event'].quantile(0.75)))"
   ],
   "metadata": {
    "collapsed": false,
    "ExecuteTime": {
     "end_time": "2024-04-10T07:14:52.914346Z",
     "start_time": "2024-04-10T07:14:52.821697Z"
    }
   },
   "id": "ecd000632991cbaa",
   "outputs": [
    {
     "name": "stdout",
     "output_type": "stream",
     "text": [
      "3nd Quartile of Athlete Age at event in this dataset calculation = 49.0\n"
     ]
    }
   ],
   "execution_count": 94
  },
  {
   "cell_type": "code",
   "source": [
    "print('Smallest Athlete Age at event in list of the marathons in this dataset calculation = ' + str(df['Athlete age at event'].min()))"
   ],
   "metadata": {
    "collapsed": false,
    "ExecuteTime": {
     "end_time": "2024-04-10T07:14:52.930384Z",
     "start_time": "2024-04-10T07:14:52.915402Z"
    }
   },
   "id": "5486c780fb78bcf3",
   "outputs": [
    {
     "name": "stdout",
     "output_type": "stream",
     "text": [
      "Smallest Athlete Age at event in list of the marathons in this dataset calculation = 1.0\n"
     ]
    }
   ],
   "execution_count": 95
  },
  {
   "cell_type": "code",
   "source": [
    "print('Biggest Athlete Age at event in list of the marathons in this dataset calculation = ' + str(df['Athlete age at event'].max()))"
   ],
   "metadata": {
    "collapsed": false,
    "ExecuteTime": {
     "end_time": "2024-04-10T07:14:52.946379Z",
     "start_time": "2024-04-10T07:14:52.931372Z"
    }
   },
   "id": "aa07fda025683dcc",
   "outputs": [
    {
     "name": "stdout",
     "output_type": "stream",
     "text": [
      "Biggest Athlete Age at event in list of the marathons in this dataset calculation = 827.0\n"
     ]
    }
   ],
   "execution_count": 96
  },
  {
   "cell_type": "code",
   "source": [
    "geometric_mean = gmean(df.loc[:, \"Athlete age at event\"])\n",
    "print(\"The Geometric Mean is: \" + str(geometric_mean))"
   ],
   "metadata": {
    "collapsed": false,
    "ExecuteTime": {
     "end_time": "2024-04-10T07:14:53.009994Z",
     "start_time": "2024-04-10T07:14:52.947344Z"
    }
   },
   "id": "4687eee722598a80",
   "outputs": [
    {
     "name": "stdout",
     "output_type": "stream",
     "text": [
      "The Geometric Mean is: 40.97080129432677\n"
     ]
    }
   ],
   "execution_count": 97
  },
  {
   "cell_type": "code",
   "source": [
    "plt.figure(figsize=(10, 6))\n",
    "sns.histplot(data=df, x='Athlete age at event', bins=100)\n",
    "plt.title('Athlete Age at event in list of the marathons in this dataset')\n",
    "plt.xlabel('Age')\n",
    "plt.ylabel('Frequency')\n",
    "plt.grid(True)\n",
    "plt.show()"
   ],
   "metadata": {
    "collapsed": false,
    "ExecuteTime": {
     "end_time": "2024-04-10T07:14:54.617819Z",
     "start_time": "2024-04-10T07:14:53.010990Z"
    }
   },
   "id": "c832e1a25fff6159",
   "outputs": [
    {
     "data": {
      "text/plain": [
       "<Figure size 1000x600 with 1 Axes>"
      ],
      "image/png": "[encoded data removed]"
     },
     "metadata": {},
     "output_type": "display_data"
    }
   ],
   "execution_count": 98
  },
  {
   "cell_type": "code",
   "source": [
    "# If we adjust for ages of people that are still theoretically alive and remove data that could be inaccurate\n",
    "\n",
    "dfAdjustedAge1 = df.drop(df[df['Athlete age at event'] >= 120].index)\n",
    "\n",
    "plt.figure(figsize=(10, 6))\n",
    "sns.histplot(data=dfAdjustedAge1, x='Athlete age at event', kde=True)\n",
    "plt.title('Athlete Age at event in list of the marathons in this dataset')\n",
    "plt.xlabel('Age')\n",
    "plt.ylabel('Frequency')\n",
    "plt.grid(True)\n",
    "plt.show()"
   ],
   "metadata": {
    "collapsed": false,
    "ExecuteTime": {
     "end_time": "2024-04-10T07:15:21.885982Z",
     "start_time": "2024-04-10T07:14:54.619819Z"
    }
   },
   "id": "a2dacc5de0bd8da3",
   "outputs": [
    {
     "data": {
      "text/plain": [
       "<Figure size 1000x600 with 1 Axes>"
      ],
      "image/png": "[encoded data removed]"
     },
     "metadata": {},
     "output_type": "display_data"
    }
   ],
   "execution_count": 99
  },
  {
   "cell_type": "markdown",
   "source": [
    "Interpretation \n",
    "\n",
    "The Average Athlete Age at the time of the event is 42 years old which matches the median very closely. The quartiles indicate that 50% of the athletes at the time of the event in the middle of the dataset are between 35 and 49. This data gives some insight which I interpret that younger people tend to run less marathons than middle-aged people even though they may be more fit. "
   ],
   "metadata": {
    "collapsed": false
   },
   "id": "36d37ec7a9b77865"
  },
  {
   "cell_type": "markdown",
   "source": [
    "### <u> Athlete average speed Analysis <u/>"
   ],
   "metadata": {
    "collapsed": false
   },
   "id": "fc0a05ae217b2293"
  },
  {
   "cell_type": "code",
   "source": [
    "print('Number of Athlete average speed data in this dataset calculation: ' + str(df['Athlete average speed'].count()))"
   ],
   "metadata": {
    "collapsed": false,
    "ExecuteTime": {
     "end_time": "2024-04-10T07:15:21.901984Z",
     "start_time": "2024-04-10T07:15:21.887964Z"
    }
   },
   "id": "22b85fdc7c7ea385",
   "outputs": [
    {
     "name": "stdout",
     "output_type": "stream",
     "text": [
      "Number of Athlete average speed data in this dataset calculation: 6383231\n"
     ]
    }
   ],
   "execution_count": 100
  },
  {
   "cell_type": "code",
   "source": [
    "print('Average Athlete average speed in this dataset calculation = ' + str(df['Athlete average speed'].sum() / df['Athlete average speed'].count()))"
   ],
   "metadata": {
    "collapsed": false,
    "ExecuteTime": {
     "end_time": "2024-04-10T07:15:21.933595Z",
     "start_time": "2024-04-10T07:15:21.902965Z"
    }
   },
   "id": "96aa144d9926e18a",
   "outputs": [
    {
     "name": "stdout",
     "output_type": "stream",
     "text": [
      "Average Athlete average speed in this dataset calculation = 769.5448352599177\n"
     ]
    }
   ],
   "execution_count": 101
  },
  {
   "cell_type": "code",
   "source": [
    "print('Median of Athlete average speed in this dataset calculation = ' + str(df['Athlete average speed'].median()))"
   ],
   "metadata": {
    "collapsed": false,
    "ExecuteTime": {
     "end_time": "2024-04-10T07:15:21.981587Z",
     "start_time": "2024-04-10T07:15:21.934587Z"
    }
   },
   "id": "2c44a68205f0792e",
   "outputs": [
    {
     "name": "stdout",
     "output_type": "stream",
     "text": [
      "Median of Athlete average speed in this dataset calculation = 7.394\n"
     ]
    }
   ],
   "execution_count": 102
  },
  {
   "cell_type": "code",
   "source": [
    "print('Mode of Athlete average speed in this dataset calculation = ')\n",
    "print(df['Athlete average speed'].mode())"
   ],
   "metadata": {
    "collapsed": false,
    "ExecuteTime": {
     "end_time": "2024-04-10T07:15:22.106174Z",
     "start_time": "2024-04-10T07:15:21.982587Z"
    }
   },
   "id": "286b66cce6f2c181",
   "outputs": [
    {
     "name": "stdout",
     "output_type": "stream",
     "text": [
      "Mode of Athlete average speed in this dataset calculation = \n",
      "0    0.0\n",
      "Name: Athlete average speed, dtype: float64\n"
     ]
    }
   ],
   "execution_count": 103
  },
  {
   "cell_type": "code",
   "source": [
    "print('1st Quartile of Athlete average speed in this dataset calculation = ' + str(df['Athlete average speed'].quantile(0.25)))"
   ],
   "metadata": {
    "collapsed": false,
    "ExecuteTime": {
     "end_time": "2024-04-10T07:15:22.168389Z",
     "start_time": "2024-04-10T07:15:22.107157Z"
    }
   },
   "id": "217763e93a7a14a8",
   "outputs": [
    {
     "name": "stdout",
     "output_type": "stream",
     "text": [
      "1st Quartile of Athlete average speed in this dataset calculation = 5.851\n"
     ]
    }
   ],
   "execution_count": 104
  },
  {
   "cell_type": "code",
   "source": [
    "print('2nd Quartile of Athlete average speed in this dataset calculation = ' + str(df['Athlete average speed'].quantile(0.50)))"
   ],
   "metadata": {
    "collapsed": false,
    "ExecuteTime": {
     "end_time": "2024-04-10T07:15:22.215369Z",
     "start_time": "2024-04-10T07:15:22.170332Z"
    }
   },
   "id": "82a9dd13be67c71c",
   "outputs": [
    {
     "name": "stdout",
     "output_type": "stream",
     "text": [
      "2nd Quartile of Athlete average speed in this dataset calculation = 7.394\n"
     ]
    }
   ],
   "execution_count": 105
  },
  {
   "cell_type": "code",
   "source": [
    "print('3nd Quartile of Athlete average speed in this dataset calculation = ' + str(df['Athlete average speed'].quantile(0.75)))"
   ],
   "metadata": {
    "collapsed": false,
    "ExecuteTime": {
     "end_time": "2024-04-10T07:15:22.278847Z",
     "start_time": "2024-04-10T07:15:22.216334Z"
    }
   },
   "id": "d23670bce1ffe98a",
   "outputs": [
    {
     "name": "stdout",
     "output_type": "stream",
     "text": [
      "3nd Quartile of Athlete average speed in this dataset calculation = 9.116\n"
     ]
    }
   ],
   "execution_count": 106
  },
  {
   "cell_type": "code",
   "source": [
    "print('Lowest Athlete average speed in list of the marathons in this dataset calculation = ' + str(df['Athlete average speed'].min()))"
   ],
   "metadata": {
    "collapsed": false,
    "ExecuteTime": {
     "end_time": "2024-04-10T07:15:22.294862Z",
     "start_time": "2024-04-10T07:15:22.279848Z"
    }
   },
   "id": "909766e220ccf32a",
   "outputs": [
    {
     "name": "stdout",
     "output_type": "stream",
     "text": [
      "Lowest Athlete average speed in list of the marathons in this dataset calculation = 0.0\n"
     ]
    }
   ],
   "execution_count": 107
  },
  {
   "cell_type": "code",
   "source": [
    "print('Highest Athlete average speed in list of the marathons in this dataset calculation = ' + str(df['Athlete average speed'].max()))"
   ],
   "metadata": {
    "collapsed": false,
    "ExecuteTime": {
     "end_time": "2024-04-10T07:15:22.309865Z",
     "start_time": "2024-04-10T07:15:22.295847Z"
    }
   },
   "id": "f61360cc50c63b5d",
   "outputs": [
    {
     "name": "stdout",
     "output_type": "stream",
     "text": [
      "Highest Athlete average speed in list of the marathons in this dataset calculation = 29644.0\n"
     ]
    }
   ],
   "execution_count": 108
  },
  {
   "cell_type": "code",
   "source": [
    "geometric_mean = gmean(df.loc[:, \"Athlete average speed\"])\n",
    "print(\"The Geometric Mean is: \" + str(geometric_mean))"
   ],
   "metadata": {
    "collapsed": false,
    "ExecuteTime": {
     "end_time": "2024-04-10T07:15:22.356415Z",
     "start_time": "2024-04-10T07:15:22.310847Z"
    }
   },
   "id": "f2eb58b662a99622",
   "outputs": [
    {
     "name": "stdout",
     "output_type": "stream",
     "text": [
      "The Geometric Mean is: 0.0\n"
     ]
    }
   ],
   "execution_count": 109
  },
  {
   "cell_type": "code",
   "source": [
    "plt.figure(figsize=(10, 6))\n",
    "sns.histplot(data=df, x='Athlete average speed', bins=100)\n",
    "plt.title('Athlete average speed in list of the marathons in this dataset')\n",
    "plt.xlabel('Speed')\n",
    "plt.ylabel('Frequency')\n",
    "plt.grid(True)\n",
    "plt.show()"
   ],
   "metadata": {
    "collapsed": false,
    "ExecuteTime": {
     "end_time": "2024-04-10T07:15:23.646135Z",
     "start_time": "2024-04-10T07:15:22.358399Z"
    }
   },
   "id": "54de6cca0ccc975",
   "outputs": [
    {
     "data": {
      "text/plain": [
       "<Figure size 1000x600 with 1 Axes>"
      ],
      "image/png": "[encoded data removed]"
     },
     "metadata": {},
     "output_type": "display_data"
    }
   ],
   "execution_count": 110
  },
  {
   "cell_type": "markdown",
   "source": [
    "Interpretation\n",
    "\n",
    "No units of measurement were given and looking at the data my initial thoughts were that it was in miles per hour or Kilometers per hour but due to the range of the numbers I feel that this column can not be used in my analysis due to very uncertain units and seemly big outliers. "
   ],
   "metadata": {
    "collapsed": false
   },
   "id": "11b9f0e622166387"
  },
  {
   "cell_type": "markdown",
   "source": [
    "## End of Measure of Location"
   ],
   "metadata": {
    "collapsed": false
   },
   "id": "c17275cd8b238480"
  },
  {
   "cell_type": "markdown",
   "source": [
    "## Measures of Variability\n",
    "### <u> Distance analysis <u/>"
   ],
   "metadata": {
    "collapsed": false
   },
   "id": "3fc884bf246f3a9c"
  },
  {
   "cell_type": "code",
   "source": [
    "print('The range of distances of all the marathons in this dataset calculation = ' + str((df['distance_km'].max())-(df['distance_km'].min())))"
   ],
   "metadata": {
    "collapsed": false,
    "ExecuteTime": {
     "end_time": "2024-04-10T07:15:23.677179Z",
     "start_time": "2024-04-10T07:15:23.647136Z"
    }
   },
   "id": "360a591ca98604cf",
   "outputs": [
    {
     "name": "stdout",
     "output_type": "stream",
     "text": [
      "The range of distances of all the marathons in this dataset calculation = 5695.09436\n"
     ]
    }
   ],
   "execution_count": 111
  },
  {
   "cell_type": "code",
   "source": [
    "print('The inter quartile range of distances of all the marathons in this dataset calculation = ' + str((df['distance_km'].quantile(0.75))-(df['distance_km'].quantile(0.25))))"
   ],
   "metadata": {
    "collapsed": false,
    "ExecuteTime": {
     "end_time": "2024-04-10T07:15:23.768040Z",
     "start_time": "2024-04-10T07:15:23.678180Z"
    }
   },
   "id": "5a7cc0593e7edcf0",
   "outputs": [
    {
     "name": "stdout",
     "output_type": "stream",
     "text": [
      "The inter quartile range of distances of all the marathons in this dataset calculation = 45.400000000000006\n"
     ]
    }
   ],
   "execution_count": 112
  },
  {
   "cell_type": "code",
   "source": [
    "print('The variance of distances of all the marathons in this dataset = ' + str(df['distance_km'].var()))"
   ],
   "metadata": {
    "collapsed": false,
    "ExecuteTime": {
     "end_time": "2024-04-10T07:15:23.784042Z",
     "start_time": "2024-04-10T07:15:23.769024Z"
    }
   },
   "id": "d3caf07fee6e8a50",
   "outputs": [
    {
     "name": "stdout",
     "output_type": "stream",
     "text": [
      "The variance of distances of all the marathons in this dataset = 2617.9366146395437\n"
     ]
    }
   ],
   "execution_count": 113
  },
  {
   "cell_type": "code",
   "source": [
    "print('The standard deviation of distances of all the marathons in this dataset = ' + str(df['distance_km'].std()))"
   ],
   "metadata": {
    "collapsed": false,
    "ExecuteTime": {
     "end_time": "2024-04-10T07:15:23.814071Z",
     "start_time": "2024-04-10T07:15:23.785024Z"
    }
   },
   "id": "fa6aef0570914f00",
   "outputs": [
    {
     "name": "stdout",
     "output_type": "stream",
     "text": [
      "The standard deviation of distances of all the marathons in this dataset = 51.165775813912404\n"
     ]
    }
   ],
   "execution_count": 114
  },
  {
   "cell_type": "code",
   "source": [
    "print('The Coefficient of Variation of distances of all the marathons in this dataset = ' + str(df['distance_km'].std()/df['distance_km'].mean()*100))"
   ],
   "metadata": {
    "collapsed": false,
    "ExecuteTime": {
     "end_time": "2024-04-10T07:15:23.845589Z",
     "start_time": "2024-04-10T07:15:23.815025Z"
    }
   },
   "id": "638b21ba922c26b7",
   "outputs": [
    {
     "name": "stdout",
     "output_type": "stream",
     "text": [
      "The Coefficient of Variation of distances of all the marathons in this dataset = 65.6258991094438\n"
     ]
    }
   ],
   "execution_count": 115
  },
  {
   "cell_type": "markdown",
   "source": [
    "Interpretation\n",
    "\n",
    "The range of distances is very big between the shortest marathon and the longest. The middle 50% of the data contains 45km difference which compared to the range we can see that there are quite big outliers. The variance is showing a very large spread of data. The average distance from the mean is around 51km. The Coefficient of Variation shows that the relative spread of the data is 65.63 percent of the mean which indicates a higher spread of the dataset. This all shows quite a big spread of distances among the different marathons."
   ],
   "metadata": {
    "collapsed": false
   },
   "id": "18268fb7287a2d26"
  },
  {
   "cell_type": "markdown",
   "source": [
    "### <u> Current Athlete Age analysis <u/>"
   ],
   "metadata": {
    "collapsed": false
   },
   "id": "6db94d5a1e693e09"
  },
  {
   "cell_type": "code",
   "source": [
    "print('The range of Current Athlete Age of all the marathons in this dataset calculation = ' + str((dfAdjustedDup['Current Athlete age'].max())-(dfAdjustedDup['Current Athlete age'].min())))"
   ],
   "metadata": {
    "collapsed": false,
    "ExecuteTime": {
     "end_time": "2024-04-10T07:15:23.861608Z",
     "start_time": "2024-04-10T07:15:23.847589Z"
    }
   },
   "id": "b763294414cca766",
   "outputs": [
    {
     "name": "stdout",
     "output_type": "stream",
     "text": [
      "The range of Current Athlete Age of all the marathons in this dataset calculation = 827.0\n"
     ]
    }
   ],
   "execution_count": 116
  },
  {
   "cell_type": "code",
   "source": [
    "print('The inter quartile range of Current Athlete Age of all the marathons in this dataset calculation = ' + str((dfAdjustedDup['Current Athlete age'].quantile(0.75))-(dfAdjustedDup['Current Athlete age'].quantile(0.25))))"
   ],
   "metadata": {
    "collapsed": false,
    "ExecuteTime": {
     "end_time": "2024-04-10T07:15:23.907606Z",
     "start_time": "2024-04-10T07:15:23.863589Z"
    }
   },
   "id": "589802e389a157b7",
   "outputs": [
    {
     "name": "stdout",
     "output_type": "stream",
     "text": [
      "The inter quartile range of Current Athlete Age of all the marathons in this dataset calculation = 17.0\n"
     ]
    }
   ],
   "execution_count": 117
  },
  {
   "cell_type": "code",
   "source": [
    "print('The variance of Current Athlete Age of all the marathons in this dataset = ' + str(dfAdjustedDup['Current Athlete age'].var()))"
   ],
   "metadata": {
    "collapsed": false,
    "ExecuteTime": {
     "end_time": "2024-04-10T07:15:23.923639Z",
     "start_time": "2024-04-10T07:15:23.908590Z"
    }
   },
   "id": "81a9ee50a0bbc5d0",
   "outputs": [
    {
     "name": "stdout",
     "output_type": "stream",
     "text": [
      "The variance of Current Athlete Age of all the marathons in this dataset = 177.1206629118932\n"
     ]
    }
   ],
   "execution_count": 118
  },
  {
   "cell_type": "code",
   "source": [
    "print('The standard deviation of Current Athlete Age of all the marathons in this dataset = ' + str(dfAdjustedDup['Current Athlete age'].std()))"
   ],
   "metadata": {
    "collapsed": false,
    "ExecuteTime": {
     "end_time": "2024-04-10T07:15:23.939168Z",
     "start_time": "2024-04-10T07:15:23.924621Z"
    }
   },
   "id": "2eb6012b14816b6b",
   "outputs": [
    {
     "name": "stdout",
     "output_type": "stream",
     "text": [
      "The standard deviation of Current Athlete Age of all the marathons in this dataset = 13.30866871298152\n"
     ]
    }
   ],
   "execution_count": 119
  },
  {
   "cell_type": "code",
   "source": [
    "print('The Coefficient of Variation of Current Athlete Age of all the marathons in this dataset = ' + str(dfAdjustedDup['Current Athlete age'].std()/dfAdjustedDup['Current Athlete age'].mean()*100))"
   ],
   "metadata": {
    "collapsed": false,
    "ExecuteTime": {
     "end_time": "2024-04-10T07:15:23.970164Z",
     "start_time": "2024-04-10T07:15:23.949148Z"
    }
   },
   "id": "7337bb2cbcfaeb60",
   "outputs": [
    {
     "name": "stdout",
     "output_type": "stream",
     "text": [
      "The Coefficient of Variation of Current Athlete Age of all the marathons in this dataset = 26.311267003403323\n"
     ]
    }
   ],
   "execution_count": 120
  },
  {
   "cell_type": "markdown",
   "source": [
    "Interpretation\n",
    "\n",
    "The range here shows that the dataset has a wide variety of ages recorded which includes people born in the very early days of the first marathons. The inter-quartile range shows that the middle 50% of the data is actually narrow in comparison with the difference in ages only being 17 years. The variance shows a large spread of data. The average distance from the mean is around 13.3km. The Coefficient of Variation shows that the relative spread of the data is 26.3 percent of the mean which indicates a moderate spread of the dataset."
   ],
   "metadata": {
    "collapsed": false
   },
   "id": "64a4cb270a6b2210"
  },
  {
   "cell_type": "markdown",
   "source": [
    "### <u> Athlete age at event Analysis <u/>"
   ],
   "metadata": {
    "collapsed": false
   },
   "id": "9472e90176df3f26"
  },
  {
   "cell_type": "code",
   "source": [
    "print('The range of Athlete age at the event of all the marathons in this dataset calculation = ' + str((df['Athlete age at event'].max())-(df['Athlete age at event'].min())))"
   ],
   "metadata": {
    "collapsed": false,
    "ExecuteTime": {
     "end_time": "2024-04-10T07:15:24.002165Z",
     "start_time": "2024-04-10T07:15:23.971150Z"
    }
   },
   "id": "2a5548d292824c63",
   "outputs": [
    {
     "name": "stdout",
     "output_type": "stream",
     "text": [
      "The range of Athlete age at the event of all the marathons in this dataset calculation = 826.0\n"
     ]
    }
   ],
   "execution_count": 121
  },
  {
   "cell_type": "code",
   "source": [
    "print('The inter quartile range of Athlete age at the event of all the marathons in this dataset calculation = ' + str((df['Athlete age at event'].quantile(0.75))-(df['Athlete age at event'].quantile(0.25))))"
   ],
   "metadata": {
    "collapsed": false,
    "ExecuteTime": {
     "end_time": "2024-04-10T07:15:24.157720Z",
     "start_time": "2024-04-10T07:15:24.004149Z"
    }
   },
   "id": "99763cb6d0e81a3",
   "outputs": [
    {
     "name": "stdout",
     "output_type": "stream",
     "text": [
      "The inter quartile range of Athlete age at the event of all the marathons in this dataset calculation = 14.0\n"
     ]
    }
   ],
   "execution_count": 122
  },
  {
   "cell_type": "code",
   "source": [
    "print('The variance of Athlete age at the event of all the marathons in this dataset = ' + str(df['Athlete age at event'].var()))"
   ],
   "metadata": {
    "collapsed": false,
    "ExecuteTime": {
     "end_time": "2024-04-10T07:15:24.188744Z",
     "start_time": "2024-04-10T07:15:24.159719Z"
    }
   },
   "id": "cd7c9c59531e0a9d",
   "outputs": [
    {
     "name": "stdout",
     "output_type": "stream",
     "text": [
      "The variance of Athlete age at the event of all the marathons in this dataset = 97.33411805105456\n"
     ]
    }
   ],
   "execution_count": 123
  },
  {
   "cell_type": "code",
   "source": [
    "print('The standard deviation of Athlete age at the event of all the marathons in this dataset = ' + str(df['Athlete age at event'].std()))"
   ],
   "metadata": {
    "collapsed": false,
    "ExecuteTime": {
     "end_time": "2024-04-10T07:15:24.204719Z",
     "start_time": "2024-04-10T07:15:24.189719Z"
    }
   },
   "id": "d6ef8ebe14d1060e",
   "outputs": [
    {
     "name": "stdout",
     "output_type": "stream",
     "text": [
      "The standard deviation of Athlete age at the event of all the marathons in this dataset = 9.865805494284517\n"
     ]
    }
   ],
   "execution_count": 124
  },
  {
   "cell_type": "code",
   "source": [
    "print('The Coefficient of Variation of Athlete age at the event of all the marathons in this dataset = ' + str(df['Athlete age at event'].std()/df['Athlete age at event'].mean()*100))"
   ],
   "metadata": {
    "collapsed": false,
    "ExecuteTime": {
     "end_time": "2024-04-10T07:15:24.236293Z",
     "start_time": "2024-04-10T07:15:24.205720Z"
    }
   },
   "id": "68414d158d469c09",
   "outputs": [
    {
     "name": "stdout",
     "output_type": "stream",
     "text": [
      "The Coefficient of Variation of Athlete age at the event of all the marathons in this dataset = 23.4021195613831\n"
     ]
    }
   ],
   "execution_count": 125
  },
  {
   "cell_type": "markdown",
   "source": [
    "Interpretation\n",
    "\n",
    "The range here shows a similar story to the Age of Athletes Now that the dataset has a wide variety of ages. The inter-quartile range is also narrow. The analysis shows that the data is more tighter towards the center. "
   ],
   "metadata": {
    "collapsed": false
   },
   "id": "22a4f915a3d56150"
  },
  {
   "cell_type": "markdown",
   "source": [
    "## End of Measure of Variability"
   ],
   "metadata": {
    "collapsed": false
   },
   "id": "f9a882e4159abc5e"
  },
  {
   "cell_type": "markdown",
   "source": [
    "## Measures of Distribution Shape, Relative Location, and Detecting Outliers\n",
    "### <u> Distance analysis <u/>"
   ],
   "metadata": {
    "collapsed": false
   },
   "id": "d1a0f0078c336f98"
  },
  {
   "cell_type": "code",
   "source": [
    "print('The Skewness of distances of all the marathons in this dataset calculation = ' + str((df['distance_km'].skew())))"
   ],
   "metadata": {
    "collapsed": false,
    "ExecuteTime": {
     "end_time": "2024-04-10T07:15:24.328359Z",
     "start_time": "2024-04-10T07:15:24.237293Z"
    }
   },
   "id": "3119bb949777659d",
   "outputs": [
    {
     "name": "stdout",
     "output_type": "stream",
     "text": [
      "The Skewness of distances of all the marathons in this dataset calculation = 34.376204405984375\n"
     ]
    }
   ],
   "execution_count": 126
  },
  {
   "cell_type": "code",
   "source": [
    "print('The kurtosis of distances of all the marathons in this dataset calculation = ' + str((df['distance_km'].kurtosis())))"
   ],
   "metadata": {
    "collapsed": false,
    "ExecuteTime": {
     "end_time": "2024-04-10T07:15:24.405884Z",
     "start_time": "2024-04-10T07:15:24.329346Z"
    }
   },
   "id": "413816cf5a716bef",
   "outputs": [
    {
     "name": "stdout",
     "output_type": "stream",
     "text": [
      "The kurtosis of distances of all the marathons in this dataset calculation = 2930.8204609148465\n"
     ]
    }
   ],
   "execution_count": 127
  },
  {
   "cell_type": "code",
   "source": [
    "df['zScore_distance_km'] = zscore(df['distance_km'])"
   ],
   "metadata": {
    "collapsed": false,
    "ExecuteTime": {
     "end_time": "2024-04-10T07:15:24.482450Z",
     "start_time": "2024-04-10T07:15:24.406892Z"
    }
   },
   "id": "6d8773b304c67344",
   "outputs": [],
   "execution_count": 128
  },
  {
   "cell_type": "code",
   "source": [
    "df[['distance_km','zScore_distance_km']]"
   ],
   "metadata": {
    "collapsed": false,
    "ExecuteTime": {
     "end_time": "2024-04-10T07:15:24.529472Z",
     "start_time": "2024-04-10T07:15:24.483457Z"
    }
   },
   "id": "56c224aaa81d8aec",
   "outputs": [
    {
     "data": {
      "text/plain": [
       "         distance_km  zScore_distance_km\n",
       "0             50.000           -0.546573\n",
       "1             50.000           -0.546573\n",
       "2             50.000           -0.546573\n",
       "3             50.000           -0.546573\n",
       "4             50.000           -0.546573\n",
       "...              ...                 ...\n",
       "7461183       80.467            0.048884\n",
       "7461184       80.467            0.048884\n",
       "7461185       80.467            0.048884\n",
       "7461186       61.300           -0.325722\n",
       "7461187       61.300           -0.325722\n",
       "\n",
       "[6383231 rows x 2 columns]"
      ],
      "text/html": [
       "<div>\n",
       "<style scoped>\n",
       "    .dataframe tbody tr th:only-of-type {\n",
       "        vertical-align: middle;\n",
       "    }\n",
       "\n",
       "    .dataframe tbody tr th {\n",
       "        vertical-align: top;\n",
       "    }\n",
       "\n",
       "    .dataframe thead th {\n",
       "        text-align: right;\n",
       "    }\n",
       "</style>\n",
       "<table border=\"1\" class=\"dataframe\">\n",
       "  <thead>\n",
       "    <tr style=\"text-align: right;\">\n",
       "      <th></th>\n",
       "      <th>distance_km</th>\n",
       "      <th>zScore_distance_km</th>\n",
       "    </tr>\n",
       "  </thead>\n",
       "  <tbody>\n",
       "    <tr>\n",
       "      <th>0</th>\n",
       "      <td>50.000</td>\n",
       "      <td>-0.546573</td>\n",
       "    </tr>\n",
       "    <tr>\n",
       "      <th>1</th>\n",
       "      <td>50.000</td>\n",
       "      <td>-0.546573</td>\n",
       "    </tr>\n",
       "    <tr>\n",
       "      <th>2</th>\n",
       "      <td>50.000</td>\n",
       "      <td>-0.546573</td>\n",
       "    </tr>\n",
       "    <tr>\n",
       "      <th>3</th>\n",
       "      <td>50.000</td>\n",
       "      <td>-0.546573</td>\n",
       "    </tr>\n",
       "    <tr>\n",
       "      <th>4</th>\n",
       "      <td>50.000</td>\n",
       "      <td>-0.546573</td>\n",
       "    </tr>\n",
       "    <tr>\n",
       "      <th>...</th>\n",
       "      <td>...</td>\n",
       "      <td>...</td>\n",
       "    </tr>\n",
       "    <tr>\n",
       "      <th>7461183</th>\n",
       "      <td>80.467</td>\n",
       "      <td>0.048884</td>\n",
       "    </tr>\n",
       "    <tr>\n",
       "      <th>7461184</th>\n",
       "      <td>80.467</td>\n",
       "      <td>0.048884</td>\n",
       "    </tr>\n",
       "    <tr>\n",
       "      <th>7461185</th>\n",
       "      <td>80.467</td>\n",
       "      <td>0.048884</td>\n",
       "    </tr>\n",
       "    <tr>\n",
       "      <th>7461186</th>\n",
       "      <td>61.300</td>\n",
       "      <td>-0.325722</td>\n",
       "    </tr>\n",
       "    <tr>\n",
       "      <th>7461187</th>\n",
       "      <td>61.300</td>\n",
       "      <td>-0.325722</td>\n",
       "    </tr>\n",
       "  </tbody>\n",
       "</table>\n",
       "<p>6383231 rows × 2 columns</p>\n",
       "</div>"
      ]
     },
     "execution_count": 129,
     "metadata": {},
     "output_type": "execute_result"
    }
   ],
   "execution_count": 129
  },
  {
   "cell_type": "code",
   "source": [
    "df[(df['zScore_distance_km'] <= (-3)) & (df['zScore_distance_km'] >= 3)]"
   ],
   "metadata": {
    "collapsed": false,
    "ExecuteTime": {
     "end_time": "2024-04-10T07:15:24.559965Z",
     "start_time": "2024-04-10T07:15:24.531454Z"
    }
   },
   "id": "5356d00cf6a1195f",
   "outputs": [
    {
     "data": {
      "text/plain": [
       "Empty DataFrame\n",
       "Columns: [Year of event, Event dates, Event name, Event distance/length, Event number of finishers, Athlete performance, Athlete club, Athlete country, Athlete year of birth, Athlete gender, Athlete age category, Athlete average speed, Athlete ID, distance_km, Current Athlete age, Athlete age at event, zScore_distance_km]\n",
       "Index: []"
      ],
      "text/html": [
       "<div>\n",
       "<style scoped>\n",
       "    .dataframe tbody tr th:only-of-type {\n",
       "        vertical-align: middle;\n",
       "    }\n",
       "\n",
       "    .dataframe tbody tr th {\n",
       "        vertical-align: top;\n",
       "    }\n",
       "\n",
       "    .dataframe thead th {\n",
       "        text-align: right;\n",
       "    }\n",
       "</style>\n",
       "<table border=\"1\" class=\"dataframe\">\n",
       "  <thead>\n",
       "    <tr style=\"text-align: right;\">\n",
       "      <th></th>\n",
       "      <th>Year of event</th>\n",
       "      <th>Event dates</th>\n",
       "      <th>Event name</th>\n",
       "      <th>Event distance/length</th>\n",
       "      <th>Event number of finishers</th>\n",
       "      <th>Athlete performance</th>\n",
       "      <th>Athlete club</th>\n",
       "      <th>Athlete country</th>\n",
       "      <th>Athlete year of birth</th>\n",
       "      <th>Athlete gender</th>\n",
       "      <th>Athlete age category</th>\n",
       "      <th>Athlete average speed</th>\n",
       "      <th>Athlete ID</th>\n",
       "      <th>distance_km</th>\n",
       "      <th>Current Athlete age</th>\n",
       "      <th>Athlete age at event</th>\n",
       "      <th>zScore_distance_km</th>\n",
       "    </tr>\n",
       "  </thead>\n",
       "  <tbody>\n",
       "  </tbody>\n",
       "</table>\n",
       "</div>"
      ]
     },
     "execution_count": 130,
     "metadata": {},
     "output_type": "execute_result"
    }
   ],
   "execution_count": 130
  },
  {
   "cell_type": "code",
   "source": [
    "df.boxplot(column='distance_km')"
   ],
   "metadata": {
    "collapsed": false,
    "ExecuteTime": {
     "end_time": "2024-04-10T07:15:28.347143Z",
     "start_time": "2024-04-10T07:15:24.560968Z"
    }
   },
   "id": "962ed0143df1e644",
   "outputs": [
    {
     "data": {
      "text/plain": [
       "<Axes: >"
      ]
     },
     "execution_count": 131,
     "metadata": {},
     "output_type": "execute_result"
    },
    {
     "data": {
      "text/plain": [
       "<Figure size 640x480 with 1 Axes>"
      ],
      "image/png": "[encoded data removed]"
     },
     "metadata": {},
     "output_type": "display_data"
    }
   ],
   "execution_count": 131
  },
  {
   "cell_type": "markdown",
   "source": [
    "Interpretation\n",
    "\n",
    "The data is extremely skewed to the right. Due to a high kurtosis, this distribution has more tail data than normally distributed data. After calculating the z-scores non were below -3 and above 3, which indicates no outliers. "
   ],
   "metadata": {
    "collapsed": false
   },
   "id": "1296803d395a6488"
  },
  {
   "cell_type": "markdown",
   "source": [
    "### <u> Current Athlete Age analysis <u/>"
   ],
   "metadata": {
    "collapsed": false
   },
   "id": "a272019f178bcc4b"
  },
  {
   "cell_type": "code",
   "source": [
    "print('The Skewness of the Current Athlete Age of all the marathons in this dataset calculation = ' + str((dfAdjustedDup['Current Athlete age'].skew())))"
   ],
   "metadata": {
    "collapsed": false,
    "ExecuteTime": {
     "end_time": "2024-04-10T07:15:28.378108Z",
     "start_time": "2024-04-10T07:15:28.348112Z"
    }
   },
   "id": "8087cde854e912d0",
   "outputs": [
    {
     "name": "stdout",
     "output_type": "stream",
     "text": [
      "The Skewness of the Current Athlete Age of all the marathons in this dataset calculation = 0.9204210195692873\n"
     ]
    }
   ],
   "execution_count": 132
  },
  {
   "cell_type": "code",
   "source": [
    "print('The kurtosis of the Current Athlete Age of all the marathons in this dataset calculation = ' + str((dfAdjustedDup['Current Athlete age'].kurtosis())))"
   ],
   "metadata": {
    "collapsed": false,
    "ExecuteTime": {
     "end_time": "2024-04-10T07:15:28.410111Z",
     "start_time": "2024-04-10T07:15:28.379111Z"
    }
   },
   "id": "f65cbe932443d56a",
   "outputs": [
    {
     "name": "stdout",
     "output_type": "stream",
     "text": [
      "The kurtosis of the Current Athlete Age of all the marathons in this dataset calculation = 10.678564510517411\n"
     ]
    }
   ],
   "execution_count": 133
  },
  {
   "cell_type": "code",
   "source": [
    "dfAdjustedDup['zScore_Current Athlete age'] = zscore(dfAdjustedDup['Current Athlete age'])"
   ],
   "metadata": {
    "collapsed": false,
    "ExecuteTime": {
     "end_time": "2024-04-10T07:15:28.440848Z",
     "start_time": "2024-04-10T07:15:28.411110Z"
    }
   },
   "id": "27f4909723830475",
   "outputs": [],
   "execution_count": 134
  },
  {
   "cell_type": "code",
   "source": [
    "dfAdjustedDup[['Current Athlete age','zScore_Current Athlete age']]"
   ],
   "metadata": {
    "collapsed": false,
    "ExecuteTime": {
     "end_time": "2024-04-10T07:15:28.456761Z",
     "start_time": "2024-04-10T07:15:28.441748Z"
    }
   },
   "id": "405d239577875463",
   "outputs": [
    {
     "data": {
      "text/plain": [
       "         Current Athlete age  zScore_Current Athlete age\n",
       "0                       46.0                   -0.344259\n",
       "1                       43.0                   -0.569677\n",
       "2                       37.0                   -1.020511\n",
       "3                       48.0                   -0.193981\n",
       "4                       32.0                   -1.396206\n",
       "...                      ...                         ...\n",
       "7461002                 62.0                    0.857965\n",
       "7461003                 62.0                    0.857965\n",
       "7461046                 69.0                    1.383938\n",
       "7461052                 64.0                    1.008243\n",
       "7461152                 77.0                    1.985050\n",
       "\n",
       "[1264189 rows x 2 columns]"
      ],
      "text/html": [
       "<div>\n",
       "<style scoped>\n",
       "    .dataframe tbody tr th:only-of-type {\n",
       "        vertical-align: middle;\n",
       "    }\n",
       "\n",
       "    .dataframe tbody tr th {\n",
       "        vertical-align: top;\n",
       "    }\n",
       "\n",
       "    .dataframe thead th {\n",
       "        text-align: right;\n",
       "    }\n",
       "</style>\n",
       "<table border=\"1\" class=\"dataframe\">\n",
       "  <thead>\n",
       "    <tr style=\"text-align: right;\">\n",
       "      <th></th>\n",
       "      <th>Current Athlete age</th>\n",
       "      <th>zScore_Current Athlete age</th>\n",
       "    </tr>\n",
       "  </thead>\n",
       "  <tbody>\n",
       "    <tr>\n",
       "      <th>0</th>\n",
       "      <td>46.0</td>\n",
       "      <td>-0.344259</td>\n",
       "    </tr>\n",
       "    <tr>\n",
       "      <th>1</th>\n",
       "      <td>43.0</td>\n",
       "      <td>-0.569677</td>\n",
       "    </tr>\n",
       "    <tr>\n",
       "      <th>2</th>\n",
       "      <td>37.0</td>\n",
       "      <td>-1.020511</td>\n",
       "    </tr>\n",
       "    <tr>\n",
       "      <th>3</th>\n",
       "      <td>48.0</td>\n",
       "      <td>-0.193981</td>\n",
       "    </tr>\n",
       "    <tr>\n",
       "      <th>4</th>\n",
       "      <td>32.0</td>\n",
       "      <td>-1.396206</td>\n",
       "    </tr>\n",
       "    <tr>\n",
       "      <th>...</th>\n",
       "      <td>...</td>\n",
       "      <td>...</td>\n",
       "    </tr>\n",
       "    <tr>\n",
       "      <th>7461002</th>\n",
       "      <td>62.0</td>\n",
       "      <td>0.857965</td>\n",
       "    </tr>\n",
       "    <tr>\n",
       "      <th>7461003</th>\n",
       "      <td>62.0</td>\n",
       "      <td>0.857965</td>\n",
       "    </tr>\n",
       "    <tr>\n",
       "      <th>7461046</th>\n",
       "      <td>69.0</td>\n",
       "      <td>1.383938</td>\n",
       "    </tr>\n",
       "    <tr>\n",
       "      <th>7461052</th>\n",
       "      <td>64.0</td>\n",
       "      <td>1.008243</td>\n",
       "    </tr>\n",
       "    <tr>\n",
       "      <th>7461152</th>\n",
       "      <td>77.0</td>\n",
       "      <td>1.985050</td>\n",
       "    </tr>\n",
       "  </tbody>\n",
       "</table>\n",
       "<p>1264189 rows × 2 columns</p>\n",
       "</div>"
      ]
     },
     "execution_count": 135,
     "metadata": {},
     "output_type": "execute_result"
    }
   ],
   "execution_count": 135
  },
  {
   "cell_type": "code",
   "source": [
    "dfAdjustedDup[(dfAdjustedDup['zScore_Current Athlete age'] <= (-3)) & (dfAdjustedDup['zScore_Current Athlete age'] >= 3)]"
   ],
   "metadata": {
    "collapsed": false,
    "ExecuteTime": {
     "end_time": "2024-04-10T07:15:28.472759Z",
     "start_time": "2024-04-10T07:15:28.457745Z"
    }
   },
   "id": "43fac2d3cd4c0527",
   "outputs": [
    {
     "data": {
      "text/plain": [
       "Empty DataFrame\n",
       "Columns: [Year of event, Event dates, Event name, Event distance/length, Event number of finishers, Athlete performance, Athlete club, Athlete country, Athlete year of birth, Athlete gender, Athlete age category, Athlete average speed, Athlete ID, distance_km, Current Athlete age, Athlete age at event, zScore_Current Athlete age]\n",
       "Index: []"
      ],
      "text/html": [
       "<div>\n",
       "<style scoped>\n",
       "    .dataframe tbody tr th:only-of-type {\n",
       "        vertical-align: middle;\n",
       "    }\n",
       "\n",
       "    .dataframe tbody tr th {\n",
       "        vertical-align: top;\n",
       "    }\n",
       "\n",
       "    .dataframe thead th {\n",
       "        text-align: right;\n",
       "    }\n",
       "</style>\n",
       "<table border=\"1\" class=\"dataframe\">\n",
       "  <thead>\n",
       "    <tr style=\"text-align: right;\">\n",
       "      <th></th>\n",
       "      <th>Year of event</th>\n",
       "      <th>Event dates</th>\n",
       "      <th>Event name</th>\n",
       "      <th>Event distance/length</th>\n",
       "      <th>Event number of finishers</th>\n",
       "      <th>Athlete performance</th>\n",
       "      <th>Athlete club</th>\n",
       "      <th>Athlete country</th>\n",
       "      <th>Athlete year of birth</th>\n",
       "      <th>Athlete gender</th>\n",
       "      <th>Athlete age category</th>\n",
       "      <th>Athlete average speed</th>\n",
       "      <th>Athlete ID</th>\n",
       "      <th>distance_km</th>\n",
       "      <th>Current Athlete age</th>\n",
       "      <th>Athlete age at event</th>\n",
       "      <th>zScore_Current Athlete age</th>\n",
       "    </tr>\n",
       "  </thead>\n",
       "  <tbody>\n",
       "  </tbody>\n",
       "</table>\n",
       "</div>"
      ]
     },
     "execution_count": 136,
     "metadata": {},
     "output_type": "execute_result"
    }
   ],
   "execution_count": 136
  },
  {
   "cell_type": "code",
   "source": [
    "dfAdjustedDup.boxplot(column='Current Athlete age')"
   ],
   "metadata": {
    "collapsed": false,
    "ExecuteTime": {
     "end_time": "2024-04-10T07:15:29.438495Z",
     "start_time": "2024-04-10T07:15:28.473744Z"
    }
   },
   "id": "7344f803bb0dd361",
   "outputs": [
    {
     "data": {
      "text/plain": [
       "<Axes: >"
      ]
     },
     "execution_count": 137,
     "metadata": {},
     "output_type": "execute_result"
    },
    {
     "data": {
      "text/plain": [
       "<Figure size 640x480 with 1 Axes>"
      ],
      "image/png": "[encoded data removed]"
     },
     "metadata": {},
     "output_type": "display_data"
    }
   ],
   "execution_count": 137
  },
  {
   "cell_type": "code",
   "source": [
    "# If we adjust for ages of people that are still theoretically alive\n",
    "\n",
    "dfAdjustedAge.boxplot(column='Current Athlete age')"
   ],
   "metadata": {
    "collapsed": false,
    "ExecuteTime": {
     "end_time": "2024-04-10T07:15:30.364238Z",
     "start_time": "2024-04-10T07:15:29.439497Z"
    }
   },
   "id": "30f3316f3a00d10f",
   "outputs": [
    {
     "data": {
      "text/plain": [
       "<Axes: >"
      ]
     },
     "execution_count": 138,
     "metadata": {},
     "output_type": "execute_result"
    },
    {
     "data": {
      "text/plain": [
       "<Figure size 640x480 with 1 Axes>"
      ],
      "image/png": "[encoded data removed]"
     },
     "metadata": {},
     "output_type": "display_data"
    }
   ],
   "execution_count": 138
  },
  {
   "cell_type": "markdown",
   "source": [
    "Interpretation\n",
    "\n",
    "The data is moderately skewed to the right. Due to a high kurtosis, this distribution has more tail data than normally distributed data. After calculating the z-scores non were below -3 and above 3, which indicates no outliers. "
   ],
   "metadata": {
    "collapsed": false
   },
   "id": "95edf6037aa0f207"
  },
  {
   "cell_type": "markdown",
   "source": [
    "### <u> Athlete age at event Analysis <u/>"
   ],
   "metadata": {
    "collapsed": false
   },
   "id": "51a0a16ec7b5fe80"
  },
  {
   "cell_type": "code",
   "source": [
    "print('The Skewness of Athlete age at event of all the marathons in this dataset calculation = ' + str((df['Athlete age at event'].skew())))"
   ],
   "metadata": {
    "collapsed": false,
    "ExecuteTime": {
     "end_time": "2024-04-10T07:15:30.456979Z",
     "start_time": "2024-04-10T07:15:30.365238Z"
    }
   },
   "id": "c787b3fb75827f1a",
   "outputs": [
    {
     "name": "stdout",
     "output_type": "stream",
     "text": [
      "The Skewness of Athlete age at event of all the marathons in this dataset calculation = 0.31199486590520414\n"
     ]
    }
   ],
   "execution_count": 139
  },
  {
   "cell_type": "code",
   "source": [
    "print('The kurtosis of Athlete age at event of all the marathons in this dataset calculation = ' + str((df['Athlete age at event'].kurtosis())))"
   ],
   "metadata": {
    "collapsed": false,
    "ExecuteTime": {
     "end_time": "2024-04-10T07:15:30.550606Z",
     "start_time": "2024-04-10T07:15:30.458100Z"
    }
   },
   "id": "8fbb55dd217e8bc",
   "outputs": [
    {
     "name": "stdout",
     "output_type": "stream",
     "text": [
      "The kurtosis of Athlete age at event of all the marathons in this dataset calculation = 6.1495134406612895\n"
     ]
    }
   ],
   "execution_count": 140
  },
  {
   "cell_type": "code",
   "source": [
    "df['zScore_Athlete age at event'] = zscore(df['Athlete age at event'])"
   ],
   "metadata": {
    "collapsed": false,
    "ExecuteTime": {
     "end_time": "2024-04-10T07:15:30.646176Z",
     "start_time": "2024-04-10T07:15:30.552552Z"
    }
   },
   "id": "78984d7791690afc",
   "outputs": [],
   "execution_count": 141
  },
  {
   "cell_type": "code",
   "source": [
    "df[['Athlete age at event', 'zScore_Athlete age at event']]"
   ],
   "metadata": {
    "collapsed": false,
    "ExecuteTime": {
     "end_time": "2024-04-10T07:15:30.692198Z",
     "start_time": "2024-04-10T07:15:30.647236Z"
    }
   },
   "id": "9cfa905ad6fad943",
   "outputs": [
    {
     "data": {
      "text/plain": [
       "         Athlete age at event  zScore_Athlete age at event\n",
       "0                        40.0                    -0.218709\n",
       "1                        37.0                    -0.522790\n",
       "2                        31.0                    -1.130951\n",
       "3                        42.0                    -0.015989\n",
       "4                        26.0                    -1.637752\n",
       "...                       ...                          ...\n",
       "7461183                  61.0                     1.909855\n",
       "7461184                  44.0                     0.186732\n",
       "7461185                  48.0                     0.592172\n",
       "7461186                  30.0                    -1.232311\n",
       "7461187                  33.0                    -0.928231\n",
       "\n",
       "[6383231 rows x 2 columns]"
      ],
      "text/html": [
       "<div>\n",
       "<style scoped>\n",
       "    .dataframe tbody tr th:only-of-type {\n",
       "        vertical-align: middle;\n",
       "    }\n",
       "\n",
       "    .dataframe tbody tr th {\n",
       "        vertical-align: top;\n",
       "    }\n",
       "\n",
       "    .dataframe thead th {\n",
       "        text-align: right;\n",
       "    }\n",
       "</style>\n",
       "<table border=\"1\" class=\"dataframe\">\n",
       "  <thead>\n",
       "    <tr style=\"text-align: right;\">\n",
       "      <th></th>\n",
       "      <th>Athlete age at event</th>\n",
       "      <th>zScore_Athlete age at event</th>\n",
       "    </tr>\n",
       "  </thead>\n",
       "  <tbody>\n",
       "    <tr>\n",
       "      <th>0</th>\n",
       "      <td>40.0</td>\n",
       "      <td>-0.218709</td>\n",
       "    </tr>\n",
       "    <tr>\n",
       "      <th>1</th>\n",
       "      <td>37.0</td>\n",
       "      <td>-0.522790</td>\n",
       "    </tr>\n",
       "    <tr>\n",
       "      <th>2</th>\n",
       "      <td>31.0</td>\n",
       "      <td>-1.130951</td>\n",
       "    </tr>\n",
       "    <tr>\n",
       "      <th>3</th>\n",
       "      <td>42.0</td>\n",
       "      <td>-0.015989</td>\n",
       "    </tr>\n",
       "    <tr>\n",
       "      <th>4</th>\n",
       "      <td>26.0</td>\n",
       "      <td>-1.637752</td>\n",
       "    </tr>\n",
       "    <tr>\n",
       "      <th>...</th>\n",
       "      <td>...</td>\n",
       "      <td>...</td>\n",
       "    </tr>\n",
       "    <tr>\n",
       "      <th>7461183</th>\n",
       "      <td>61.0</td>\n",
       "      <td>1.909855</td>\n",
       "    </tr>\n",
       "    <tr>\n",
       "      <th>7461184</th>\n",
       "      <td>44.0</td>\n",
       "      <td>0.186732</td>\n",
       "    </tr>\n",
       "    <tr>\n",
       "      <th>7461185</th>\n",
       "      <td>48.0</td>\n",
       "      <td>0.592172</td>\n",
       "    </tr>\n",
       "    <tr>\n",
       "      <th>7461186</th>\n",
       "      <td>30.0</td>\n",
       "      <td>-1.232311</td>\n",
       "    </tr>\n",
       "    <tr>\n",
       "      <th>7461187</th>\n",
       "      <td>33.0</td>\n",
       "      <td>-0.928231</td>\n",
       "    </tr>\n",
       "  </tbody>\n",
       "</table>\n",
       "<p>6383231 rows × 2 columns</p>\n",
       "</div>"
      ]
     },
     "execution_count": 142,
     "metadata": {},
     "output_type": "execute_result"
    }
   ],
   "execution_count": 142
  },
  {
   "cell_type": "code",
   "source": [
    "df[(df['zScore_Athlete age at event'] <= (-3)) & (df['zScore_Athlete age at event'] >= 3)]"
   ],
   "metadata": {
    "collapsed": false,
    "ExecuteTime": {
     "end_time": "2024-04-10T07:15:30.724277Z",
     "start_time": "2024-04-10T07:15:30.693176Z"
    }
   },
   "id": "6de400aa6d1cfaf6",
   "outputs": [
    {
     "data": {
      "text/plain": [
       "Empty DataFrame\n",
       "Columns: [Year of event, Event dates, Event name, Event distance/length, Event number of finishers, Athlete performance, Athlete club, Athlete country, Athlete year of birth, Athlete gender, Athlete age category, Athlete average speed, Athlete ID, distance_km, Current Athlete age, Athlete age at event, zScore_distance_km, zScore_Athlete age at event]\n",
       "Index: []"
      ],
      "text/html": [
       "<div>\n",
       "<style scoped>\n",
       "    .dataframe tbody tr th:only-of-type {\n",
       "        vertical-align: middle;\n",
       "    }\n",
       "\n",
       "    .dataframe tbody tr th {\n",
       "        vertical-align: top;\n",
       "    }\n",
       "\n",
       "    .dataframe thead th {\n",
       "        text-align: right;\n",
       "    }\n",
       "</style>\n",
       "<table border=\"1\" class=\"dataframe\">\n",
       "  <thead>\n",
       "    <tr style=\"text-align: right;\">\n",
       "      <th></th>\n",
       "      <th>Year of event</th>\n",
       "      <th>Event dates</th>\n",
       "      <th>Event name</th>\n",
       "      <th>Event distance/length</th>\n",
       "      <th>Event number of finishers</th>\n",
       "      <th>Athlete performance</th>\n",
       "      <th>Athlete club</th>\n",
       "      <th>Athlete country</th>\n",
       "      <th>Athlete year of birth</th>\n",
       "      <th>Athlete gender</th>\n",
       "      <th>Athlete age category</th>\n",
       "      <th>Athlete average speed</th>\n",
       "      <th>Athlete ID</th>\n",
       "      <th>distance_km</th>\n",
       "      <th>Current Athlete age</th>\n",
       "      <th>Athlete age at event</th>\n",
       "      <th>zScore_distance_km</th>\n",
       "      <th>zScore_Athlete age at event</th>\n",
       "    </tr>\n",
       "  </thead>\n",
       "  <tbody>\n",
       "  </tbody>\n",
       "</table>\n",
       "</div>"
      ]
     },
     "execution_count": 143,
     "metadata": {},
     "output_type": "execute_result"
    }
   ],
   "execution_count": 143
  },
  {
   "cell_type": "code",
   "source": [
    "df.boxplot(column='Athlete age at event')"
   ],
   "metadata": {
    "collapsed": false,
    "ExecuteTime": {
     "end_time": "2024-04-10T07:15:35.847215Z",
     "start_time": "2024-04-10T07:15:30.725225Z"
    }
   },
   "id": "7283ac3c8156674b",
   "outputs": [
    {
     "data": {
      "text/plain": [
       "<Axes: >"
      ]
     },
     "execution_count": 144,
     "metadata": {},
     "output_type": "execute_result"
    },
    {
     "data": {
      "text/plain": [
       "<Figure size 640x480 with 1 Axes>"
      ],
      "image/png": "[encoded data removed]"
     },
     "metadata": {},
     "output_type": "display_data"
    }
   ],
   "execution_count": 144
  },
  {
   "cell_type": "code",
   "source": [
    "# If we adjust for ages of people that are still theoretically alive\n",
    "\n",
    "dfAdjustedAge1.boxplot(column='Athlete age at event')"
   ],
   "metadata": {
    "collapsed": false,
    "ExecuteTime": {
     "end_time": "2024-04-10T07:15:40.903946Z",
     "start_time": "2024-04-10T07:15:35.850182Z"
    }
   },
   "id": "277a6e531be3e6d4",
   "outputs": [
    {
     "data": {
      "text/plain": [
       "<Axes: >"
      ]
     },
     "execution_count": 145,
     "metadata": {},
     "output_type": "execute_result"
    },
    {
     "data": {
      "text/plain": [
       "<Figure size 640x480 with 1 Axes>"
      ],
      "image/png": "[encoded data removed]"
     },
     "metadata": {},
     "output_type": "display_data"
    }
   ],
   "execution_count": 145
  },
  {
   "cell_type": "markdown",
   "source": [
    "Interpretation\n",
    "\n",
    "The data is moderately skewed to the right. Due to a high kurtosis, this distribution has more tail data than normally distributed data. After calculating the z-scores non were below -3 and above 3, which indicates no outliers. "
   ],
   "metadata": {
    "collapsed": false
   },
   "id": "4d0d8e159bec2398"
  },
  {
   "cell_type": "markdown",
   "source": [
    "## End of Measures of Distribution Shape, Relative Location, and Detecting Outliers"
   ],
   "metadata": {
    "collapsed": false
   },
   "id": "7536bdb14641ef06"
  },
  {
   "cell_type": "markdown",
   "source": [
    "## Exploratory Data Analysis\n",
    "### <u> Distance analysis <u/>"
   ],
   "metadata": {
    "collapsed": false
   },
   "id": "9cce747523b2b273"
  },
  {
   "cell_type": "code",
   "source": [
    "df['distance_km'].describe().loc[['min', '25%', '50%', '75%', 'max']]"
   ],
   "metadata": {
    "collapsed": false,
    "ExecuteTime": {
     "end_time": "2024-04-10T07:15:41.015529Z",
     "start_time": "2024-04-10T07:15:40.904930Z"
    }
   },
   "id": "a12b8f4ab780ed3a",
   "outputs": [
    {
     "data": {
      "text/plain": [
       "min      24.50000\n",
       "25%      50.00000\n",
       "50%      66.80000\n",
       "75%      95.40000\n",
       "max    5719.59436\n",
       "Name: distance_km, dtype: float64"
      ]
     },
     "execution_count": 146,
     "metadata": {},
     "output_type": "execute_result"
    }
   ],
   "execution_count": 146
  },
  {
   "cell_type": "markdown",
   "source": [
    "### <u> Current Athlete Age analysis <u/>"
   ],
   "metadata": {
    "collapsed": false
   },
   "id": "a13603692650ad17"
  },
  {
   "cell_type": "code",
   "source": [
    "dfAdjustedDup['Current Athlete age'].describe().loc[['min', '25%', '50%', '75%', 'max']]"
   ],
   "metadata": {
    "collapsed": false,
    "ExecuteTime": {
     "end_time": "2024-04-10T07:15:41.062583Z",
     "start_time": "2024-04-10T07:15:41.016489Z"
    }
   },
   "id": "470db11d7a2e0a48",
   "outputs": [
    {
     "data": {
      "text/plain": [
       "min      4.0\n",
       "25%     41.0\n",
       "50%     49.0\n",
       "75%     58.0\n",
       "max    831.0\n",
       "Name: Current Athlete age, dtype: float64"
      ]
     },
     "execution_count": 147,
     "metadata": {},
     "output_type": "execute_result"
    }
   ],
   "execution_count": 147
  },
  {
   "cell_type": "markdown",
   "source": [
    "### <u> Athlete age at event Analysis <u/>"
   ],
   "metadata": {
    "collapsed": false
   },
   "id": "69233d8adce94a2c"
  },
  {
   "cell_type": "code",
   "source": [
    "df['Athlete age at event'].describe().loc[['min', '25%', '50%', '75%', 'max']]"
   ],
   "metadata": {
    "collapsed": false,
    "ExecuteTime": {
     "end_time": "2024-04-10T07:15:41.220792Z",
     "start_time": "2024-04-10T07:15:41.064570Z"
    }
   },
   "id": "e1fc66bc8325fb04",
   "outputs": [
    {
     "data": {
      "text/plain": [
       "min      1.0\n",
       "25%     35.0\n",
       "50%     42.0\n",
       "75%     49.0\n",
       "max    827.0\n",
       "Name: Athlete age at event, dtype: float64"
      ]
     },
     "execution_count": 148,
     "metadata": {},
     "output_type": "execute_result"
    }
   ],
   "execution_count": 148
  },
  {
   "cell_type": "markdown",
   "source": [
    "## End of Exploratory Data Analysis"
   ],
   "metadata": {
    "collapsed": false
   },
   "id": "6fb89f16b986e5cb"
  },
  {
   "cell_type": "markdown",
   "source": [
    "## Measures of Association\n",
    "### ### <u> Distance vs speed analysis <u/>"
   ],
   "metadata": {
    "collapsed": false
   },
   "id": "63f1bab895ef24c7"
  },
  {
   "cell_type": "code",
   "source": [
    "# Sample Covariance\n",
    "\n",
    "df['distance_km'].cov(df['Athlete average speed'])"
   ],
   "metadata": {
    "collapsed": false,
    "ExecuteTime": {
     "end_time": "2024-04-10T07:15:41.332365Z",
     "start_time": "2024-04-10T07:15:41.221776Z"
    }
   },
   "id": "a84e0d01fafca7d7",
   "outputs": [
    {
     "data": {
      "text/plain": [
       "4309.892597684738"
      ]
     },
     "execution_count": 149,
     "metadata": {},
     "output_type": "execute_result"
    }
   ],
   "execution_count": 149
  },
  {
   "cell_type": "code",
   "source": [
    "# Correlation Coefficient\n",
    "\n",
    "df['distance_km'].corr(df['Athlete average speed'])"
   ],
   "metadata": {
    "collapsed": false,
    "ExecuteTime": {
     "end_time": "2024-04-10T07:15:41.441929Z",
     "start_time": "2024-04-10T07:15:41.333344Z"
    }
   },
   "id": "2d85d67a8c33929e",
   "outputs": [
    {
     "data": {
      "text/plain": [
       "0.03224361828020924"
      ]
     },
     "execution_count": 150,
     "metadata": {},
     "output_type": "execute_result"
    }
   ],
   "execution_count": 150
  },
  {
   "cell_type": "code",
   "source": [
    "df.plot.scatter(x='distance_km', y='Athlete average speed')"
   ],
   "metadata": {
    "collapsed": false,
    "ExecuteTime": {
     "end_time": "2024-04-10T07:16:03.174633Z",
     "start_time": "2024-04-10T07:15:41.443929Z"
    }
   },
   "id": "119080ead64ce3fa",
   "outputs": [
    {
     "data": {
      "text/plain": [
       "<Axes: xlabel='distance_km', ylabel='Athlete average speed'>"
      ]
     },
     "execution_count": 151,
     "metadata": {},
     "output_type": "execute_result"
    },
    {
     "data": {
      "text/plain": [
       "<Figure size 640x480 with 1 Axes>"
      ],
      "image/png": "[encoded data removed]"
     },
     "metadata": {},
     "output_type": "display_data"
    }
   ],
   "execution_count": 151
  },
  {
   "cell_type": "markdown",
   "source": [
    "Interpretation\n",
    "\n",
    "The sample Covariance indicates a positive relationship between the distance of the marathon and the average speed. Which indicates that the longer the marathon is, the faster the average speed. The Correlation Coefficient shows a very weak positive relationship between distance and average speed."
   ],
   "metadata": {
    "collapsed": false
   },
   "id": "967074b1f1a9e16d"
  },
  {
   "cell_type": "code",
   "source": [
    "df[df['Athlete average speed'] <= 0]['Athlete average speed'].count()"
   ],
   "metadata": {
    "collapsed": false,
    "ExecuteTime": {
     "end_time": "2024-04-10T07:16:03.253604Z",
     "start_time": "2024-04-10T07:16:03.177532Z"
    }
   },
   "id": "ba7cb45dc6a16cb8",
   "outputs": [
    {
     "data": {
      "text/plain": [
       "2282"
      ]
     },
     "execution_count": 152,
     "metadata": {},
     "output_type": "execute_result"
    }
   ],
   "execution_count": 152
  },
  {
   "cell_type": "code",
   "source": [
    "# Sample Covariance\n",
    "\n",
    "df['Athlete age at event'].cov(df['Athlete average speed'])"
   ],
   "metadata": {
    "collapsed": false,
    "ExecuteTime": {
     "end_time": "2024-04-10T07:16:03.396260Z",
     "start_time": "2024-04-10T07:16:03.255585Z"
    }
   },
   "id": "daaf8b1a0c650fb1",
   "outputs": [
    {
     "data": {
      "text/plain": [
       "-3450.0969631821604"
      ]
     },
     "execution_count": 153,
     "metadata": {},
     "output_type": "execute_result"
    }
   ],
   "execution_count": 153
  },
  {
   "cell_type": "code",
   "source": [
    "# Correlation Coefficient\n",
    "\n",
    "df['Athlete age at event'].corr(df['Athlete average speed'])"
   ],
   "metadata": {
    "collapsed": false,
    "ExecuteTime": {
     "end_time": "2024-04-10T07:16:03.507777Z",
     "start_time": "2024-04-10T07:16:03.397260Z"
    }
   },
   "id": "368b2fc0b43fb044",
   "outputs": [
    {
     "data": {
      "text/plain": [
       "-0.13386148507868129"
      ]
     },
     "execution_count": 154,
     "metadata": {},
     "output_type": "execute_result"
    }
   ],
   "execution_count": 154
  },
  {
   "cell_type": "code",
   "source": [
    "df.plot.scatter(x='Athlete age at event', y='Athlete average speed')"
   ],
   "metadata": {
    "collapsed": false,
    "ExecuteTime": {
     "end_time": "2024-04-10T07:16:21.727775Z",
     "start_time": "2024-04-10T07:16:03.509777Z"
    }
   },
   "id": "69222446d4133c73",
   "outputs": [
    {
     "data": {
      "text/plain": [
       "<Axes: xlabel='Athlete age at event', ylabel='Athlete average speed'>"
      ]
     },
     "execution_count": 155,
     "metadata": {},
     "output_type": "execute_result"
    },
    {
     "data": {
      "text/plain": [
       "<Figure size 640x480 with 1 Axes>"
      ],
      "image/png": "[encoded data removed]"
     },
     "metadata": {},
     "output_type": "display_data"
    }
   ],
   "execution_count": 155
  },
  {
   "cell_type": "code",
   "source": [
    "# If we adjust for ages of people that are theoretically alive at the time of the event\n",
    "\n",
    "dfAdjustedAge1.plot.scatter(x='Athlete age at event', y='Athlete average speed')"
   ],
   "metadata": {
    "collapsed": false,
    "ExecuteTime": {
     "end_time": "2024-04-10T07:16:39.855610Z",
     "start_time": "2024-04-10T07:16:21.729776Z"
    }
   },
   "id": "8852e38fc9f5851a",
   "outputs": [
    {
     "data": {
      "text/plain": [
       "<Axes: xlabel='Athlete age at event', ylabel='Athlete average speed'>"
      ]
     },
     "execution_count": 156,
     "metadata": {},
     "output_type": "execute_result"
    },
    {
     "data": {
      "text/plain": [
       "<Figure size 640x480 with 1 Axes>"
      ],
      "image/png": "[encoded data removed]"
     },
     "metadata": {},
     "output_type": "display_data"
    }
   ],
   "execution_count": 156
  },
  {
   "cell_type": "code",
   "source": [
    "# Sample Covariance\n",
    "\n",
    "dfAdjustedAge1['Athlete age at event'].cov(dfAdjustedAge1['Athlete average speed'])"
   ],
   "metadata": {
    "collapsed": false,
    "ExecuteTime": {
     "end_time": "2024-04-10T07:16:39.951327Z",
     "start_time": "2024-04-10T07:16:39.856591Z"
    }
   },
   "id": "25423959be93db79",
   "outputs": [
    {
     "data": {
      "text/plain": [
       "-3449.9721474024204"
      ]
     },
     "execution_count": 157,
     "metadata": {},
     "output_type": "execute_result"
    }
   ],
   "execution_count": 157
  },
  {
   "cell_type": "code",
   "source": [
    "# Correlation Coefficient\n",
    "\n",
    "dfAdjustedAge1['Athlete age at event'].corr(dfAdjustedAge1['Athlete average speed'])"
   ],
   "metadata": {
    "collapsed": false,
    "ExecuteTime": {
     "end_time": "2024-04-10T07:16:40.046574Z",
     "start_time": "2024-04-10T07:16:39.952358Z"
    }
   },
   "id": "431ee462a55a8223",
   "outputs": [
    {
     "data": {
      "text/plain": [
       "-0.13392569658909967"
      ]
     },
     "execution_count": 158,
     "metadata": {},
     "output_type": "execute_result"
    }
   ],
   "execution_count": 158
  },
  {
   "cell_type": "markdown",
   "source": [
    "Interpretation\n",
    "\n",
    "The Sample Covariance shows a negative relationship between the athlete's age at the event and the athlete's average speed. The Correlation Coefficient shows a negative weak relationship. This indicates that the older the athlete's age is at the event, the slower the athlete's average speed. This result shows that younger athletes tend to be faster as they are fitter than older athletes."
   ],
   "metadata": {
    "collapsed": false
   },
   "id": "cc487ce8aea98d95"
  },
  {
   "cell_type": "markdown",
   "source": [
    "### <u> Athlete age at event vs Distance Analysis <u/>"
   ],
   "metadata": {
    "collapsed": false
   },
   "id": "84032801b0931838"
  },
  {
   "cell_type": "code",
   "source": [
    "# Sample Covariance\n",
    "\n",
    "df['Athlete age at event'].cov(df['distance_km'])"
   ],
   "metadata": {
    "collapsed": false,
    "ExecuteTime": {
     "end_time": "2024-04-10T07:16:40.141101Z",
     "start_time": "2024-04-10T07:16:40.048582Z"
    }
   },
   "id": "e649d7ae29971645",
   "outputs": [
    {
     "data": {
      "text/plain": [
       "17.52713910731201"
      ]
     },
     "execution_count": 159,
     "metadata": {},
     "output_type": "execute_result"
    }
   ],
   "execution_count": 159
  },
  {
   "cell_type": "code",
   "source": [
    "# Correlation Coefficient\n",
    "\n",
    "df['Athlete age at event'].corr(df['distance_km'])"
   ],
   "metadata": {
    "collapsed": false,
    "ExecuteTime": {
     "end_time": "2024-04-10T07:16:40.251913Z",
     "start_time": "2024-04-10T07:16:40.143101Z"
    }
   },
   "id": "fb92ad7faaa99921",
   "outputs": [
    {
     "data": {
      "text/plain": [
       "0.034721535341947475"
      ]
     },
     "execution_count": 160,
     "metadata": {},
     "output_type": "execute_result"
    }
   ],
   "execution_count": 160
  },
  {
   "cell_type": "code",
   "source": [
    "df.plot.scatter(x='Athlete age at event', y='distance_km')"
   ],
   "metadata": {
    "collapsed": false,
    "ExecuteTime": {
     "end_time": "2024-04-10T07:17:00.082025Z",
     "start_time": "2024-04-10T07:16:40.252895Z"
    }
   },
   "id": "ed9a8af3de72c8f8",
   "outputs": [
    {
     "data": {
      "text/plain": [
       "<Axes: xlabel='Athlete age at event', ylabel='distance_km'>"
      ]
     },
     "execution_count": 161,
     "metadata": {},
     "output_type": "execute_result"
    },
    {
     "data": {
      "text/plain": [
       "<Figure size 640x480 with 1 Axes>"
      ],
      "image/png": "[encoded data removed]"
     },
     "metadata": {},
     "output_type": "display_data"
    }
   ],
   "execution_count": 161
  },
  {
   "cell_type": "code",
   "source": [
    "# If we adjust for ages of people that are still theoretically alive\n",
    "\n",
    "dfAdjustedAge1.plot.scatter(x='Athlete age at event', y='distance_km')"
   ],
   "metadata": {
    "collapsed": false,
    "ExecuteTime": {
     "end_time": "2024-04-10T07:17:17.050647Z",
     "start_time": "2024-04-10T07:17:00.082950Z"
    }
   },
   "id": "a8d15618f9ea17e6",
   "outputs": [
    {
     "data": {
      "text/plain": [
       "<Axes: xlabel='Athlete age at event', ylabel='distance_km'>"
      ]
     },
     "execution_count": 162,
     "metadata": {},
     "output_type": "execute_result"
    },
    {
     "data": {
      "text/plain": [
       "<Figure size 640x480 with 1 Axes>"
      ],
      "image/png": "[encoded data removed]"
     },
     "metadata": {},
     "output_type": "display_data"
    }
   ],
   "execution_count": 162
  },
  {
   "cell_type": "markdown",
   "source": [
    "Interpretation\n",
    "\n",
    "Sample Covariance shows a positive relationship between the athlete's age at the event and the distance of the marathons they ran. The Correlation Coefficient shows a very weak relationship. The relationship indicates that there is a very small likelihood that the older athletes run longer distance marathons. "
   ],
   "metadata": {
    "collapsed": false
   },
   "id": "617cb5041352da26"
  },
  {
   "cell_type": "markdown",
   "source": [
    "# Final summary\n",
    "\n",
    "The analysis of marathon data shows that the marathons are on average longer than the traditional 42km distance, with most marathons falling around 50km. The athlete ages also skew older, with the average athlete being around 51 years old. There is a wider spread in marathon distances compared to athlete ages. The data suggests a weak positive correlation between marathon distance and average speed, and a weak negative correlation between athlete age and average speed, indicating that longer marathons tend to be run at faster speeds and younger athletes tend to be faster."
   ],
   "metadata": {
    "collapsed": false
   },
   "id": "2c5882ae61e81105"
  },
  {
   "metadata": {},
   "cell_type": "markdown",
   "source": [
    "# Reflections on your learnings\n",
    "\n",
    "The major reflections on learning between this assignment and the last assignment are the difference in the learning curve as well as functionality. I have never used Python and Jupyter Notebook in terms of data science before, so it required a steeper learning curve, while Excel was more familiar to me as I have used it quite often, even though not to this extent. This assignment also showed me how Python was able to deal with very large datasets much better than Excel, even to the point where Excel could not even load my data completely due to the large number of rows. Excel seems like a great tool to use for quick data exploration or small to medium dataset analysis. However, Python is so much better for more professional data science. Its ability to handle large datasets, automate tasks, and integrate with various data sources makes it a more versatile tool. \n",
    "If I could do this assignment over, I would spend more time researching the various functions of Python for data science, as there are many functions that could have made it easier to do what I did manually. Another point is to spend more time thinking and learning about how to deal with null data and how I could have rebuilt some of those data points rather than just removing them. \n",
    "I had to rely on Google a lot regarding functions in Python, things like correlation and z-scores I had no idea how to do in Python. \n",
    "This assignment has really taught me a lot about data science and how to utilise Python to analysis large quantities of data that Excel could not handle."
   ],
   "id": "35fd059fe3133673"
  }
 ],
 "metadata": {
  "kernelspec": {
   "display_name": "Python 3",
   "language": "python",
   "name": "python3"
  },
  "language_info": {
   "codemirror_mode": {
    "name": "ipython",
    "version": 2
   },
   "file_extension": ".py",
   "mimetype": "text/x-python",
   "name": "python",
   "nbconvert_exporter": "python",
   "pygments_lexer": "ipython2",
   "version": "2.7.6"
  }
 },
 "nbformat": 4,
 "nbformat_minor": 5
}
