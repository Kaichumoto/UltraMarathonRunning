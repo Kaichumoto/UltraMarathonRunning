{
 "cells": [
  {
   "cell_type": "markdown",
   "source": [
    "Importing the data"
   ],
   "metadata": {
    "collapsed": false
   },
   "id": "d21570ce039e6c30"
  },
  {
   "cell_type": "code",
   "outputs": [],
   "source": [
    "# Importing libraries\n",
    "\n",
    "import pandas as pd\n",
    "import numpy as np\n",
    "from scipy.stats import gmean\n",
    "import seaborn as sns\n",
    "import matplotlib.pyplot as plt\n",
    "\n",
    "#import warnings\n",
    "#warnings.filterwarnings('ignore')"
   ],
   "metadata": {
    "collapsed": false,
    "ExecuteTime": {
     "end_time": "2024-03-23T19:56:26.656735Z",
     "start_time": "2024-03-23T19:56:26.650454Z"
    }
   },
   "id": "ea77a9f5a2205b2c",
   "execution_count": 6
  },
  {
   "cell_type": "code",
   "outputs": [
    {
     "name": "stderr",
     "output_type": "stream",
     "text": [
      "C:\\Users\\pangk\\AppData\\Local\\Temp\\ipykernel_11052\\1698536710.py:3: DtypeWarning: Columns (11) have mixed types. Specify dtype option on import or set low_memory=False.\n",
      "  df = pd.read_csv(\"C:/Users/pangk/OneDrive - University of Johannesburg/University/Year 4/Learning from data/Assignment 2/The big dataset of ultra-marathon running/TWO_CENTURIES_OF_UM_RACES.csv\")\n"
     ]
    }
   ],
   "source": [
    "# Creating data frame\n",
    "\n",
    "df = pd.read_csv(\"C:/Users/pangk/OneDrive - University of Johannesburg/University/Year 4/Learning from data/Assignment 2/The big dataset of ultra-marathon running/TWO_CENTURIES_OF_UM_RACES.csv\")"
   ],
   "metadata": {
    "collapsed": false,
    "ExecuteTime": {
     "end_time": "2024-03-23T19:56:39.703038Z",
     "start_time": "2024-03-23T19:56:26.820353Z"
    }
   },
   "id": "47c01ecf651f3908",
   "execution_count": 7
  },
  {
   "cell_type": "code",
   "outputs": [
    {
     "data": {
      "text/plain": "   Year of event Event dates           Event name Event distance/length  \\\n0           2018  06.01.2018  Selva Costera (CHI)                  50km   \n1           2018  06.01.2018  Selva Costera (CHI)                  50km   \n2           2018  06.01.2018  Selva Costera (CHI)                  50km   \n3           2018  06.01.2018  Selva Costera (CHI)                  50km   \n4           2018  06.01.2018  Selva Costera (CHI)                  50km   \n\n   Event number of finishers Athlete performance        Athlete club  \\\n0                         22           4:51:39 h               Tnfrc   \n1                         22           5:15:45 h  Roberto Echeverría   \n2                         22           5:16:44 h   Puro Trail Osorno   \n3                         22           5:34:13 h            Columbia   \n4                         22           5:54:14 h      Baguales Trail   \n\n  Athlete country  Athlete year of birth Athlete gender Athlete age category  \\\n0             CHI                 1978.0              M                  M35   \n1             CHI                 1981.0              M                  M35   \n2             CHI                 1987.0              M                  M23   \n3             ARG                 1976.0              M                  M40   \n4             CHI                 1992.0              M                  M23   \n\n  Athlete average speed  Athlete ID  \n0                10.286           0  \n1                 9.501           1  \n2                 9.472           2  \n3                 8.976           3  \n4                 8.469           4  ",
      "text/html": "<div>\n<style scoped>\n    .dataframe tbody tr th:only-of-type {\n        vertical-align: middle;\n    }\n\n    .dataframe tbody tr th {\n        vertical-align: top;\n    }\n\n    .dataframe thead th {\n        text-align: right;\n    }\n</style>\n<table border=\"1\" class=\"dataframe\">\n  <thead>\n    <tr style=\"text-align: right;\">\n      <th></th>\n      <th>Year of event</th>\n      <th>Event dates</th>\n      <th>Event name</th>\n      <th>Event distance/length</th>\n      <th>Event number of finishers</th>\n      <th>Athlete performance</th>\n      <th>Athlete club</th>\n      <th>Athlete country</th>\n      <th>Athlete year of birth</th>\n      <th>Athlete gender</th>\n      <th>Athlete age category</th>\n      <th>Athlete average speed</th>\n      <th>Athlete ID</th>\n    </tr>\n  </thead>\n  <tbody>\n    <tr>\n      <th>0</th>\n      <td>2018</td>\n      <td>06.01.2018</td>\n      <td>Selva Costera (CHI)</td>\n      <td>50km</td>\n      <td>22</td>\n      <td>4:51:39 h</td>\n      <td>Tnfrc</td>\n      <td>CHI</td>\n      <td>1978.0</td>\n      <td>M</td>\n      <td>M35</td>\n      <td>10.286</td>\n      <td>0</td>\n    </tr>\n    <tr>\n      <th>1</th>\n      <td>2018</td>\n      <td>06.01.2018</td>\n      <td>Selva Costera (CHI)</td>\n      <td>50km</td>\n      <td>22</td>\n      <td>5:15:45 h</td>\n      <td>Roberto Echeverría</td>\n      <td>CHI</td>\n      <td>1981.0</td>\n      <td>M</td>\n      <td>M35</td>\n      <td>9.501</td>\n      <td>1</td>\n    </tr>\n    <tr>\n      <th>2</th>\n      <td>2018</td>\n      <td>06.01.2018</td>\n      <td>Selva Costera (CHI)</td>\n      <td>50km</td>\n      <td>22</td>\n      <td>5:16:44 h</td>\n      <td>Puro Trail Osorno</td>\n      <td>CHI</td>\n      <td>1987.0</td>\n      <td>M</td>\n      <td>M23</td>\n      <td>9.472</td>\n      <td>2</td>\n    </tr>\n    <tr>\n      <th>3</th>\n      <td>2018</td>\n      <td>06.01.2018</td>\n      <td>Selva Costera (CHI)</td>\n      <td>50km</td>\n      <td>22</td>\n      <td>5:34:13 h</td>\n      <td>Columbia</td>\n      <td>ARG</td>\n      <td>1976.0</td>\n      <td>M</td>\n      <td>M40</td>\n      <td>8.976</td>\n      <td>3</td>\n    </tr>\n    <tr>\n      <th>4</th>\n      <td>2018</td>\n      <td>06.01.2018</td>\n      <td>Selva Costera (CHI)</td>\n      <td>50km</td>\n      <td>22</td>\n      <td>5:54:14 h</td>\n      <td>Baguales Trail</td>\n      <td>CHI</td>\n      <td>1992.0</td>\n      <td>M</td>\n      <td>M23</td>\n      <td>8.469</td>\n      <td>4</td>\n    </tr>\n  </tbody>\n</table>\n</div>"
     },
     "execution_count": 8,
     "metadata": {},
     "output_type": "execute_result"
    }
   ],
   "source": [
    "# Checking that data is loaded correctly\n",
    "\n",
    "df.head()"
   ],
   "metadata": {
    "collapsed": false,
    "ExecuteTime": {
     "end_time": "2024-03-23T19:56:39.718992Z",
     "start_time": "2024-03-23T19:56:39.704993Z"
    }
   },
   "id": "6469820a96ebfdc6",
   "execution_count": 8
  },
  {
   "cell_type": "code",
   "outputs": [
    {
     "data": {
      "text/plain": "(7461195, 13)"
     },
     "execution_count": 9,
     "metadata": {},
     "output_type": "execute_result"
    }
   ],
   "source": [
    "# Check rows and column\n",
    "\n",
    "df.shape"
   ],
   "metadata": {
    "collapsed": false,
    "ExecuteTime": {
     "end_time": "2024-03-23T19:56:39.735010Z",
     "start_time": "2024-03-23T19:56:39.720994Z"
    }
   },
   "id": "f542256fd4ec5633",
   "execution_count": 9
  },
  {
   "cell_type": "code",
   "outputs": [
    {
     "data": {
      "text/plain": "Year of event                  int64\nEvent dates                   object\nEvent name                    object\nEvent distance/length         object\nEvent number of finishers      int64\nAthlete performance           object\nAthlete club                  object\nAthlete country               object\nAthlete year of birth        float64\nAthlete gender                object\nAthlete age category          object\nAthlete average speed         object\nAthlete ID                     int64\ndtype: object"
     },
     "execution_count": 10,
     "metadata": {},
     "output_type": "execute_result"
    }
   ],
   "source": [
    "# Check Data type\n",
    "\n",
    "df.dtypes"
   ],
   "metadata": {
    "collapsed": false,
    "ExecuteTime": {
     "end_time": "2024-03-23T19:56:39.751022Z",
     "start_time": "2024-03-23T19:56:39.735995Z"
    }
   },
   "id": "4734fec4a01abe3a",
   "execution_count": 10
  },
  {
   "cell_type": "code",
   "outputs": [
    {
     "data": {
      "text/plain": "Event name\nTwo Oceans Marathon (RSA)                                263574\nComrades Marathon - Down Run (RSA)                       224491\nComrades Marathon - Up Run (RSA)                         221162\n100 km Lauf Biel (SUI)                                   100657\nTwo Oceans Marathon - 50km Split (RSA)                    84737\n                                                          ...  \n24 ore Bogliasco (ITA)                                        1\nMarathon of Marathons 100km Belgrade - 6h Split (SRB)         1\nMarathon of Marathons 24h Belgrade - 12h Split (SRB)          1\n24 hours Nytva (RUS)                                          1\nKorea Tour Mar. - Imsil to Gongju (KOR)                       1\nName: count, Length: 26907, dtype: int64"
     },
     "execution_count": 11,
     "metadata": {},
     "output_type": "execute_result"
    }
   ],
   "source": [
    "# Checking unique Events\n",
    "\n",
    "df.value_counts('Event name')"
   ],
   "metadata": {
    "collapsed": false,
    "ExecuteTime": {
     "end_time": "2024-03-23T19:56:40.650246Z",
     "start_time": "2024-03-23T19:56:39.754023Z"
    }
   },
   "id": "520d914a6c029d71",
   "execution_count": 11
  },
  {
   "cell_type": "code",
   "outputs": [
    {
     "data": {
      "text/plain": "Year of event\n2019    732207\n2018    661483\n2017    604638\n2016    540073\n2015    480722\n         ...  \n1893         1\n1943         1\n1944         1\n1945         1\n1798         1\nName: count, Length: 146, dtype: int64"
     },
     "execution_count": 12,
     "metadata": {},
     "output_type": "execute_result"
    }
   ],
   "source": [
    "# Checking unique Year of Events\n",
    "\n",
    "df.value_counts('Year of event')"
   ],
   "metadata": {
    "collapsed": false,
    "ExecuteTime": {
     "end_time": "2024-03-23T19:56:40.798910Z",
     "start_time": "2024-03-23T19:56:40.652247Z"
    }
   },
   "id": "fe64da53a0c40016",
   "execution_count": 12
  },
  {
   "cell_type": "code",
   "outputs": [
    {
     "data": {
      "text/plain": "Event distance/length\n50km                1522609\n100km                951742\n50mi                 352181\n56km                 333253\n87km                 212062\n                     ...   \n303mi                     1\n727km                     1\n316.5km/7Etappen          1\n550km/6stages             1\n186mi                     1\nName: count, Length: 2159, dtype: int64"
     },
     "execution_count": 13,
     "metadata": {},
     "output_type": "execute_result"
    }
   ],
   "source": [
    "# Checking unique Length of Events\n",
    "\n",
    "df.value_counts('Event distance/length')"
   ],
   "metadata": {
    "collapsed": false,
    "ExecuteTime": {
     "end_time": "2024-03-23T19:56:41.361999Z",
     "start_time": "2024-03-23T19:56:40.804908Z"
    }
   },
   "id": "aae6f9fa83935564",
   "execution_count": 13
  },
  {
   "cell_type": "code",
   "outputs": [
    {
     "data": {
      "text/plain": "Athlete club\n*Tokyo                       26782\n*La Réunion                  16814\n*Kanagawa Pref.              15456\nRand AC                      14598\n*Saitama Pref.               12030\n                             ...  \nMarathon Team TJ Klimk...        1\nA.S.D. Terzo Tempo Trail         1\nMarathon Team Schlieben          1\nA.S.D. Three Four Fun            1\n�ﾓﾝﾍﾞﾙ                           1\nName: count, Length: 552188, dtype: int64"
     },
     "execution_count": 14,
     "metadata": {},
     "output_type": "execute_result"
    }
   ],
   "source": [
    "# Checking unique Athlete Clubs\n",
    "\n",
    "df.value_counts('Athlete club')"
   ],
   "metadata": {
    "collapsed": false,
    "ExecuteTime": {
     "end_time": "2024-03-23T19:56:43.208979Z",
     "start_time": "2024-03-23T19:56:41.364002Z"
    }
   },
   "id": "59e5505fa1313389",
   "execution_count": 14
  },
  {
   "cell_type": "code",
   "outputs": [
    {
     "data": {
      "text/plain": "Athlete country\nUSA    1389960\nFRA    1170884\nRSA     877630\nJPN     603132\nGER     442056\n        ...   \nMDG          1\nTWN          1\nSLE          1\nSVE          1\nACT          1\nName: count, Length: 208, dtype: int64"
     },
     "execution_count": 15,
     "metadata": {},
     "output_type": "execute_result"
    }
   ],
   "source": [
    "# Checking unique Countries\n",
    "\n",
    "df.value_counts('Athlete country')"
   ],
   "metadata": {
    "collapsed": false,
    "ExecuteTime": {
     "end_time": "2024-03-23T19:56:43.762668Z",
     "start_time": "2024-03-23T19:56:43.211080Z"
    }
   },
   "id": "239533dbf1cddbc5",
   "execution_count": 15
  },
  {
   "cell_type": "code",
   "outputs": [
    {
     "data": {
      "text/plain": "Athlete age category\nM23     1228209\nM40     1054195\nM35      989217\nM45      908337\nM50      626637\nM55      351116\nW23      314473\nW40      264967\nW35      245020\nW45      221291\nM60      168131\nW50      135437\nMU23     100183\nM65       66603\nW55       64656\nW60       25664\nM30       23493\nM70       21698\nWU23      19540\nM20       18836\nW65        8810\nM75        5502\nW30        4385\nW20        2890\nW70        2850\nMU20       1355\nM80        1225\nW75         873\nWU20        316\nM85         164\nW80         123\nM95          28\nM90          19\nW85           8\nW95           3\nW90           2\nF35           1\nName: count, dtype: int64"
     },
     "execution_count": 16,
     "metadata": {},
     "output_type": "execute_result"
    }
   ],
   "source": [
    "# Checking unique Age Categories\n",
    "\n",
    "df.value_counts('Athlete age category')"
   ],
   "metadata": {
    "collapsed": false,
    "ExecuteTime": {
     "end_time": "2024-03-23T19:56:44.303093Z",
     "start_time": "2024-03-23T19:56:43.763739Z"
    }
   },
   "id": "77e52e446de62422",
   "execution_count": 16
  },
  {
   "cell_type": "markdown",
   "source": [
    "Cleaning the data"
   ],
   "metadata": {
    "collapsed": false
   },
   "id": "e9a3e002b9a3c4b9"
  },
  {
   "cell_type": "code",
   "outputs": [],
   "source": [
    "# Need to convert the distance/length all into km\n",
    "# Drop rows with missing values\n",
    "\n",
    "df.dropna(subset=['Event distance/length'], inplace=True)"
   ],
   "metadata": {
    "collapsed": false,
    "ExecuteTime": {
     "end_time": "2024-03-23T19:56:45.296769Z",
     "start_time": "2024-03-23T19:56:44.305095Z"
    }
   },
   "id": "2e4e19f90e53b6a2",
   "execution_count": 17
  },
  {
   "cell_type": "code",
   "outputs": [
    {
     "data": {
      "text/plain": "(7460142, 13)"
     },
     "execution_count": 18,
     "metadata": {},
     "output_type": "execute_result"
    }
   ],
   "source": [
    "# Check if rows were dropped\n",
    "\n",
    "df.shape"
   ],
   "metadata": {
    "collapsed": false,
    "ExecuteTime": {
     "end_time": "2024-03-23T19:56:45.312749Z",
     "start_time": "2024-03-23T19:56:45.303749Z"
    }
   },
   "id": "e4409799643e6b1e",
   "execution_count": 18
  },
  {
   "cell_type": "code",
   "outputs": [],
   "source": [
    "# Cleaning up anything that is after a space like ' split'\n",
    "\n",
    "df['Event distance/length'] = df['Event distance/length'].str.split(' ').str[0]"
   ],
   "metadata": {
    "collapsed": false,
    "ExecuteTime": {
     "end_time": "2024-03-23T19:56:52.601112Z",
     "start_time": "2024-03-23T19:56:45.314749Z"
    }
   },
   "id": "bbf355f34c0091a5",
   "execution_count": 19
  },
  {
   "cell_type": "code",
   "outputs": [],
   "source": [
    "# Cleaning up anything after '/' like '/11Etappen'\n",
    "\n",
    "df['Event distance/length'] = df['Event distance/length'].str.split('/').str[0]"
   ],
   "metadata": {
    "collapsed": false,
    "ExecuteTime": {
     "end_time": "2024-03-23T19:57:00.375027Z",
     "start_time": "2024-03-23T19:56:52.605093Z"
    }
   },
   "id": "7d9e8effcde8fb59",
   "execution_count": 20
  },
  {
   "cell_type": "code",
   "outputs": [],
   "source": [
    "# Some data have '229km,100mi,100km' I will be cleaning up the distances after the comma\n",
    "\n",
    "df['Event distance/length'] = df['Event distance/length'].str.split(',').str[0]"
   ],
   "metadata": {
    "collapsed": false,
    "ExecuteTime": {
     "end_time": "2024-03-23T19:57:07.645004Z",
     "start_time": "2024-03-23T19:57:00.376011Z"
    }
   },
   "id": "2400ce7d9be35e13",
   "execution_count": 21
  },
  {
   "cell_type": "code",
   "outputs": [],
   "source": [
    "# Transform miles and Miles to mi\n",
    "\n",
    "df['Event distance/length'] = df['Event distance/length'].str.replace(r'\\b(\\d+)\\s*miles?\\b', r'\\1mi', regex=True)\n",
    "df['Event distance/length'] = df['Event distance/length'].str.replace(r'\\b(\\d+)\\s*Miles?\\b', r'\\1mi', regex=True)"
   ],
   "metadata": {
    "collapsed": false,
    "ExecuteTime": {
     "end_time": "2024-03-23T19:57:29.992488Z",
     "start_time": "2024-03-23T19:57:07.647992Z"
    }
   },
   "id": "9f885981dda4fe8d",
   "execution_count": 22
  },
  {
   "cell_type": "code",
   "outputs": [],
   "source": [
    "# Cleaning up '+\"\n",
    "\n",
    "df['Event distance/length'] = df['Event distance/length'].str.replace(r'(\\d+)mi\\+', r'\\1mi', regex=True)"
   ],
   "metadata": {
    "collapsed": false,
    "ExecuteTime": {
     "end_time": "2024-03-23T19:57:41.399191Z",
     "start_time": "2024-03-23T19:57:29.994501Z"
    }
   },
   "id": "4862708dcd589fb2",
   "execution_count": 23
  },
  {
   "cell_type": "code",
   "outputs": [
    {
     "data": {
      "text/plain": "(7460142, 13)"
     },
     "execution_count": 24,
     "metadata": {},
     "output_type": "execute_result"
    }
   ],
   "source": [
    "# Making sure data is not being lost unexpectedly\n",
    "\n",
    "df.shape"
   ],
   "metadata": {
    "collapsed": false,
    "ExecuteTime": {
     "end_time": "2024-03-23T19:57:41.715838Z",
     "start_time": "2024-03-23T19:57:41.400203Z"
    }
   },
   "id": "7b20de06b456bad4",
   "execution_count": 24
  },
  {
   "cell_type": "code",
   "outputs": [
    {
     "name": "stdout",
     "output_type": "stream",
     "text": [
      "['km' 'h' 'mi' 'd' 'k' 'Km' nan 'm' 'K' 'x']\n"
     ]
    }
   ],
   "source": [
    "# Checking Distance units\n",
    "\n",
    "print(df['Event distance/length'].str.extract('([a-zA-Z]+)', expand=False).unique())"
   ],
   "metadata": {
    "collapsed": false,
    "ExecuteTime": {
     "end_time": "2024-03-23T19:57:46.235426Z",
     "start_time": "2024-03-23T19:57:41.717839Z"
    }
   },
   "id": "8b2f258cf3da1bf2",
   "execution_count": 25
  },
  {
   "cell_type": "code",
   "outputs": [],
   "source": [
    "# Lowers all the cases for the next step in clean up\n",
    "\n",
    "df['Event distance/length'] = df['Event distance/length'].apply(lambda x: x.lower() if isinstance(x, str) else x)"
   ],
   "metadata": {
    "collapsed": false,
    "ExecuteTime": {
     "end_time": "2024-03-23T19:57:47.740335Z",
     "start_time": "2024-03-23T19:57:46.237425Z"
    }
   },
   "id": "8d2a087c4cb597ef",
   "execution_count": 26
  },
  {
   "cell_type": "code",
   "outputs": [],
   "source": [
    "# Replace k to km\n",
    "\n",
    "#df['Event distance/length'] = df['Event distance/length'].str.replace(r'\\b(\\d+)\\s*k?\\b', r'\\1km', regex=True)\n",
    "df['Event distance/length'] = df['Event distance/length'].str.replace(r'(\\d+)k\\Z', r'\\1km', regex=True)"
   ],
   "metadata": {
    "collapsed": false,
    "ExecuteTime": {
     "end_time": "2024-03-23T19:57:59.878453Z",
     "start_time": "2024-03-23T19:57:47.741273Z"
    }
   },
   "id": "3c6c8124b2056ec9",
   "execution_count": 27
  },
  {
   "cell_type": "code",
   "outputs": [],
   "source": [
    "# Replace the one '4x52km' with '208km'\n",
    "\n",
    "df['Event distance/length'] = df['Event distance/length'].str.replace('4x52km', '208km',)"
   ],
   "metadata": {
    "collapsed": false,
    "ExecuteTime": {
     "end_time": "2024-03-23T19:58:01.524398Z",
     "start_time": "2024-03-23T19:57:59.884441Z"
    }
   },
   "id": "b42513ff24f63b26",
   "execution_count": 28
  },
  {
   "cell_type": "code",
   "outputs": [],
   "source": [
    "# Remove any spaces between values for further cleanup\n",
    "\n",
    "df['Event distance/length'] = df['Event distance/length'].str.replace(' ', '')"
   ],
   "metadata": {
    "collapsed": false,
    "ExecuteTime": {
     "end_time": "2024-03-23T19:58:03.201558Z",
     "start_time": "2024-03-23T19:58:01.526379Z"
    }
   },
   "id": "4baa44cc2a198321",
   "execution_count": 29
  },
  {
   "cell_type": "code",
   "outputs": [
    {
     "name": "stdout",
     "output_type": "stream",
     "text": [
      "['km' 'h' 'mi' 'd' nan 'm']\n"
     ]
    }
   ],
   "source": [
    "# Checking units after cleanup\n",
    "\n",
    "print(df['Event distance/length'].str.extract('([a-zA-Z]+)', expand=False).unique())"
   ],
   "metadata": {
    "collapsed": false,
    "ExecuteTime": {
     "end_time": "2024-03-23T19:58:07.770195Z",
     "start_time": "2024-03-23T19:58:03.202539Z"
    }
   },
   "id": "63883a98d67266ba",
   "execution_count": 30
  },
  {
   "cell_type": "code",
   "outputs": [
    {
     "data": {
      "text/plain": "Event distance/length\n50km       1523048\n100km       957877\n50mi        352445\n56km        333303\n87km        212139\n            ...   \n5061km           1\n162.6km          1\n105.8mi          1\n303mi            1\n61.15km          1\nName: count, Length: 1683, dtype: int64"
     },
     "execution_count": 31,
     "metadata": {},
     "output_type": "execute_result"
    }
   ],
   "source": [
    "# Checking data\n",
    "\n",
    "df.value_counts('Event distance/length')"
   ],
   "metadata": {
    "collapsed": false,
    "ExecuteTime": {
     "end_time": "2024-03-23T19:58:08.228626Z",
     "start_time": "2024-03-23T19:58:07.772196Z"
    }
   },
   "id": "9afa4f3705dfa65",
   "execution_count": 31
  },
  {
   "cell_type": "code",
   "outputs": [
    {
     "data": {
      "text/plain": "(7460142, 13)"
     },
     "execution_count": 32,
     "metadata": {},
     "output_type": "execute_result"
    }
   ],
   "source": [
    "# Making sure data is not being lost\n",
    "\n",
    "df.shape"
   ],
   "metadata": {
    "collapsed": false,
    "ExecuteTime": {
     "end_time": "2024-03-23T19:58:08.244191Z",
     "start_time": "2024-03-23T19:58:08.230611Z"
    }
   },
   "id": "a8c07b2540235b32",
   "execution_count": 32
  },
  {
   "cell_type": "code",
   "outputs": [],
   "source": [
    "# Creating a dataframe for distance analysis with km and mi only\n",
    "\n",
    "dfDistance = df[df['Event distance/length'].str.contains('km|mi')]"
   ],
   "metadata": {
    "collapsed": false,
    "ExecuteTime": {
     "end_time": "2024-03-23T19:58:11.900189Z",
     "start_time": "2024-03-23T19:58:08.245176Z"
    }
   },
   "id": "d47d8969e028ac96",
   "execution_count": 33
  },
  {
   "cell_type": "code",
   "outputs": [
    {
     "data": {
      "text/plain": "(7460142, 13)"
     },
     "execution_count": 34,
     "metadata": {},
     "output_type": "execute_result"
    }
   ],
   "source": [
    "# Checking how many records with km and mi\n",
    "\n",
    "df.shape"
   ],
   "metadata": {
    "collapsed": false,
    "ExecuteTime": {
     "end_time": "2024-03-23T19:58:11.916168Z",
     "start_time": "2024-03-23T19:58:11.901170Z"
    }
   },
   "id": "ac795e68db7681b6",
   "execution_count": 34
  },
  {
   "cell_type": "code",
   "outputs": [
    {
     "name": "stderr",
     "output_type": "stream",
     "text": [
      "C:\\Users\\pangk\\AppData\\Local\\Temp\\ipykernel_11052\\2790205204.py:24: SettingWithCopyWarning: \n",
      "A value is trying to be set on a copy of a slice from a DataFrame.\n",
      "Try using .loc[row_indexer,col_indexer] = value instead\n",
      "\n",
      "See the caveats in the documentation: https://pandas.pydata.org/pandas-docs/stable/user_guide/indexing.html#returning-a-view-versus-a-copy\n",
      "  dfDistance[\"distance_km\"] = dfDistance[\"Event distance/length\"].apply(convert_to_km)\n"
     ]
    }
   ],
   "source": [
    "# Converting Miles to Kilometers\n",
    "\n",
    "def convert_to_km(distance_str):\n",
    "    \"\"\"\n",
    "    This function converts a distance string (e.g., \"6km\", \"3mi\") to kilometers.\n",
    "  \n",
    "    Args:\n",
    "        distance_str: The string representation of the distance.\n",
    "  \n",
    "    Returns:\n",
    "        The distance in kilometers as a float.\n",
    "    \"\"\"\n",
    "    unit = distance_str[-2:]  # Get the last two characters (units)\n",
    "    value = float(distance_str[:-2])  # Extract the numerical value\n",
    "\n",
    "    if unit == \"km\":\n",
    "        return value\n",
    "    elif unit == \"mi\":\n",
    "        # 1 mile = 1.60934 kilometers\n",
    "        return value * 1.60934\n",
    "    else:\n",
    "        raise ValueError(f\"Unknown unit: {unit}\")\n",
    "\n",
    "dfDistance[\"distance_km\"] = dfDistance[\"Event distance/length\"].apply(convert_to_km)"
   ],
   "metadata": {
    "collapsed": false,
    "ExecuteTime": {
     "end_time": "2024-03-23T19:58:15.651838Z",
     "start_time": "2024-03-23T19:58:11.919167Z"
    }
   },
   "id": "60d60b5bd763ac05",
   "execution_count": 35
  },
  {
   "cell_type": "code",
   "outputs": [
    {
     "data": {
      "text/plain": "0    50.0\n1    50.0\n2    50.0\n3    50.0\n4    50.0\nName: distance_km, dtype: float64"
     },
     "execution_count": 36,
     "metadata": {},
     "output_type": "execute_result"
    }
   ],
   "source": [
    "# Checking data\n",
    "\n",
    "dfDistance['distance_km'].head()"
   ],
   "metadata": {
    "collapsed": false,
    "ExecuteTime": {
     "end_time": "2024-03-23T19:58:15.667821Z",
     "start_time": "2024-03-23T19:58:15.652821Z"
    }
   },
   "id": "982926155a326e11",
   "execution_count": 36
  },
  {
   "cell_type": "code",
   "outputs": [
    {
     "data": {
      "text/plain": "        Event distance/length  distance_km\n0                        50km       50.000\n1                        50km       50.000\n2                        50km       50.000\n3                        50km       50.000\n4                        50km       50.000\n...                       ...          ...\n7461185                  50mi       80.467\n7461186                61.3km       61.300\n7461187                61.3km       61.300\n7461190                  65km       65.000\n7461191                  65km       65.000\n\n[6933114 rows x 2 columns]",
      "text/html": "<div>\n<style scoped>\n    .dataframe tbody tr th:only-of-type {\n        vertical-align: middle;\n    }\n\n    .dataframe tbody tr th {\n        vertical-align: top;\n    }\n\n    .dataframe thead th {\n        text-align: right;\n    }\n</style>\n<table border=\"1\" class=\"dataframe\">\n  <thead>\n    <tr style=\"text-align: right;\">\n      <th></th>\n      <th>Event distance/length</th>\n      <th>distance_km</th>\n    </tr>\n  </thead>\n  <tbody>\n    <tr>\n      <th>0</th>\n      <td>50km</td>\n      <td>50.000</td>\n    </tr>\n    <tr>\n      <th>1</th>\n      <td>50km</td>\n      <td>50.000</td>\n    </tr>\n    <tr>\n      <th>2</th>\n      <td>50km</td>\n      <td>50.000</td>\n    </tr>\n    <tr>\n      <th>3</th>\n      <td>50km</td>\n      <td>50.000</td>\n    </tr>\n    <tr>\n      <th>4</th>\n      <td>50km</td>\n      <td>50.000</td>\n    </tr>\n    <tr>\n      <th>...</th>\n      <td>...</td>\n      <td>...</td>\n    </tr>\n    <tr>\n      <th>7461185</th>\n      <td>50mi</td>\n      <td>80.467</td>\n    </tr>\n    <tr>\n      <th>7461186</th>\n      <td>61.3km</td>\n      <td>61.300</td>\n    </tr>\n    <tr>\n      <th>7461187</th>\n      <td>61.3km</td>\n      <td>61.300</td>\n    </tr>\n    <tr>\n      <th>7461190</th>\n      <td>65km</td>\n      <td>65.000</td>\n    </tr>\n    <tr>\n      <th>7461191</th>\n      <td>65km</td>\n      <td>65.000</td>\n    </tr>\n  </tbody>\n</table>\n<p>6933114 rows × 2 columns</p>\n</div>"
     },
     "execution_count": 37,
     "metadata": {},
     "output_type": "execute_result"
    }
   ],
   "source": [
    "# Checking if distance is converted correctly\n",
    "\n",
    "dfDistance[['Event distance/length', 'distance_km']]"
   ],
   "metadata": {
    "collapsed": false,
    "ExecuteTime": {
     "end_time": "2024-03-23T19:58:15.779353Z",
     "start_time": "2024-03-23T19:58:15.669822Z"
    }
   },
   "id": "d6a3dbb7b3ed69fe",
   "execution_count": 37
  },
  {
   "cell_type": "markdown",
   "source": [],
   "metadata": {
    "collapsed": false
   },
   "id": "6148c49668ddf008"
  },
  {
   "cell_type": "code",
   "outputs": [
    {
     "data": {
      "text/plain": "True"
     },
     "execution_count": 38,
     "metadata": {},
     "output_type": "execute_result"
    }
   ],
   "source": [
    "dfDistance['Athlete year of birth'].isnull().values.any()"
   ],
   "metadata": {
    "collapsed": false,
    "ExecuteTime": {
     "end_time": "2024-03-23T19:58:15.795354Z",
     "start_time": "2024-03-23T19:58:15.781339Z"
    }
   },
   "id": "d147a58442e58bd7",
   "execution_count": 38
  },
  {
   "cell_type": "code",
   "outputs": [
    {
     "data": {
      "text/plain": "549188"
     },
     "execution_count": 39,
     "metadata": {},
     "output_type": "execute_result"
    }
   ],
   "source": [
    "dfDistance['Athlete year of birth'].isnull().sum()"
   ],
   "metadata": {
    "collapsed": false,
    "ExecuteTime": {
     "end_time": "2024-03-23T19:58:15.827337Z",
     "start_time": "2024-03-23T19:58:15.797338Z"
    }
   },
   "id": "a1a8e191a62d9b70",
   "execution_count": 39
  },
  {
   "cell_type": "code",
   "outputs": [
    {
     "data": {
      "text/plain": "         Year of event Event dates  \\\n11                2018  06.01.2018   \n19                2018  06.01.2018   \n20                2018  06.01.2018   \n246               2018  02.01.2018   \n247               2018  02.01.2018   \n...                ...         ...   \n7461079           1995  07.01.1995   \n7461081           1995  07.01.1995   \n7461086           1995  07.01.1995   \n7461190           1995  00.00.1995   \n7461191           1995  00.00.1995   \n\n                                                Event name  \\\n11                                     Selva Costera (CHI)   \n19                                     Selva Costera (CHI)   \n20                                     Selva Costera (CHI)   \n246                                       Sandman 50 (AUS)   \n247                                       Sandman 50 (AUS)   \n...                                                    ...   \n7461079  Centenary Lakes 6 Hour Track Run - 50km Split ...   \n7461081  Centenary Lakes 6 Hour Track Run - 50km Split ...   \n7461086  Centenary Lakes 6 Hour Track Run - 50km Split ...   \n7461190                          La SainteLyon 65 km (FRA)   \n7461191                          La SainteLyon 65 km (FRA)   \n\n        Event distance/length  Event number of finishers Athlete performance  \\\n11                       50km                         22           7:09:58 h   \n19                       50km                         22           8:13:16 h   \n20                       50km                         22           8:13:28 h   \n246                      50km                         15           4:59:11 h   \n247                      50km                         15           5:03:10 h   \n...                       ...                        ...                 ...   \n7461079                  50km                         15           5:40:24 h   \n7461081                  50km                         15           5:42:46 h   \n7461086                  50km                         15           5:49:58 h   \n7461190                  65km                          2           4:33:20 h   \n7461191                  65km                          2           6:05:15 h   \n\n                      Athlete club Athlete country  Athlete year of birth  \\\n11                     Rocoto Team             CHI                    NaN   \n19       Santiago Mountain Runn...             CHI                    NaN   \n20                  MEF Ularunners             CHI                    NaN   \n246                            NaN             AUS                    NaN   \n247                            NaN             AUS                    NaN   \n...                            ...             ...                    ...   \n7461079                       *QLD             AUS                    NaN   \n7461081                       *QLD             AUS                    NaN   \n7461086                       *Old             AUS                    NaN   \n7461190                        NaN             FRA                    NaN   \n7461191                        NaN             FRA                    NaN   \n\n        Athlete gender Athlete age category Athlete average speed  Athlete ID  \\\n11                   M                  NaN                 6.977          11   \n19                   M                  NaN                 6.082          19   \n20                   M                  NaN                 6.079          20   \n246                  M                  NaN                10.027         246   \n247                  M                  NaN                 9.896         247   \n...                ...                  ...                   ...         ...   \n7461079              M                  NaN                8813.0     1641166   \n7461081              M                  NaN                8752.0     1093063   \n7461086              F                  NaN                8572.0     1641111   \n7461190              M                  NaN               14268.0     1151060   \n7461191              F                  NaN               10678.0     1073520   \n\n         distance_km  \n11              50.0  \n19              50.0  \n20              50.0  \n246             50.0  \n247             50.0  \n...              ...  \n7461079         50.0  \n7461081         50.0  \n7461086         50.0  \n7461190         65.0  \n7461191         65.0  \n\n[546227 rows x 14 columns]",
      "text/html": "<div>\n<style scoped>\n    .dataframe tbody tr th:only-of-type {\n        vertical-align: middle;\n    }\n\n    .dataframe tbody tr th {\n        vertical-align: top;\n    }\n\n    .dataframe thead th {\n        text-align: right;\n    }\n</style>\n<table border=\"1\" class=\"dataframe\">\n  <thead>\n    <tr style=\"text-align: right;\">\n      <th></th>\n      <th>Year of event</th>\n      <th>Event dates</th>\n      <th>Event name</th>\n      <th>Event distance/length</th>\n      <th>Event number of finishers</th>\n      <th>Athlete performance</th>\n      <th>Athlete club</th>\n      <th>Athlete country</th>\n      <th>Athlete year of birth</th>\n      <th>Athlete gender</th>\n      <th>Athlete age category</th>\n      <th>Athlete average speed</th>\n      <th>Athlete ID</th>\n      <th>distance_km</th>\n    </tr>\n  </thead>\n  <tbody>\n    <tr>\n      <th>11</th>\n      <td>2018</td>\n      <td>06.01.2018</td>\n      <td>Selva Costera (CHI)</td>\n      <td>50km</td>\n      <td>22</td>\n      <td>7:09:58 h</td>\n      <td>Rocoto Team</td>\n      <td>CHI</td>\n      <td>NaN</td>\n      <td>M</td>\n      <td>NaN</td>\n      <td>6.977</td>\n      <td>11</td>\n      <td>50.0</td>\n    </tr>\n    <tr>\n      <th>19</th>\n      <td>2018</td>\n      <td>06.01.2018</td>\n      <td>Selva Costera (CHI)</td>\n      <td>50km</td>\n      <td>22</td>\n      <td>8:13:16 h</td>\n      <td>Santiago Mountain Runn...</td>\n      <td>CHI</td>\n      <td>NaN</td>\n      <td>M</td>\n      <td>NaN</td>\n      <td>6.082</td>\n      <td>19</td>\n      <td>50.0</td>\n    </tr>\n    <tr>\n      <th>20</th>\n      <td>2018</td>\n      <td>06.01.2018</td>\n      <td>Selva Costera (CHI)</td>\n      <td>50km</td>\n      <td>22</td>\n      <td>8:13:28 h</td>\n      <td>MEF Ularunners</td>\n      <td>CHI</td>\n      <td>NaN</td>\n      <td>M</td>\n      <td>NaN</td>\n      <td>6.079</td>\n      <td>20</td>\n      <td>50.0</td>\n    </tr>\n    <tr>\n      <th>246</th>\n      <td>2018</td>\n      <td>02.01.2018</td>\n      <td>Sandman 50 (AUS)</td>\n      <td>50km</td>\n      <td>15</td>\n      <td>4:59:11 h</td>\n      <td>NaN</td>\n      <td>AUS</td>\n      <td>NaN</td>\n      <td>M</td>\n      <td>NaN</td>\n      <td>10.027</td>\n      <td>246</td>\n      <td>50.0</td>\n    </tr>\n    <tr>\n      <th>247</th>\n      <td>2018</td>\n      <td>02.01.2018</td>\n      <td>Sandman 50 (AUS)</td>\n      <td>50km</td>\n      <td>15</td>\n      <td>5:03:10 h</td>\n      <td>NaN</td>\n      <td>AUS</td>\n      <td>NaN</td>\n      <td>M</td>\n      <td>NaN</td>\n      <td>9.896</td>\n      <td>247</td>\n      <td>50.0</td>\n    </tr>\n    <tr>\n      <th>...</th>\n      <td>...</td>\n      <td>...</td>\n      <td>...</td>\n      <td>...</td>\n      <td>...</td>\n      <td>...</td>\n      <td>...</td>\n      <td>...</td>\n      <td>...</td>\n      <td>...</td>\n      <td>...</td>\n      <td>...</td>\n      <td>...</td>\n      <td>...</td>\n    </tr>\n    <tr>\n      <th>7461079</th>\n      <td>1995</td>\n      <td>07.01.1995</td>\n      <td>Centenary Lakes 6 Hour Track Run - 50km Split ...</td>\n      <td>50km</td>\n      <td>15</td>\n      <td>5:40:24 h</td>\n      <td>*QLD</td>\n      <td>AUS</td>\n      <td>NaN</td>\n      <td>M</td>\n      <td>NaN</td>\n      <td>8813.0</td>\n      <td>1641166</td>\n      <td>50.0</td>\n    </tr>\n    <tr>\n      <th>7461081</th>\n      <td>1995</td>\n      <td>07.01.1995</td>\n      <td>Centenary Lakes 6 Hour Track Run - 50km Split ...</td>\n      <td>50km</td>\n      <td>15</td>\n      <td>5:42:46 h</td>\n      <td>*QLD</td>\n      <td>AUS</td>\n      <td>NaN</td>\n      <td>M</td>\n      <td>NaN</td>\n      <td>8752.0</td>\n      <td>1093063</td>\n      <td>50.0</td>\n    </tr>\n    <tr>\n      <th>7461086</th>\n      <td>1995</td>\n      <td>07.01.1995</td>\n      <td>Centenary Lakes 6 Hour Track Run - 50km Split ...</td>\n      <td>50km</td>\n      <td>15</td>\n      <td>5:49:58 h</td>\n      <td>*Old</td>\n      <td>AUS</td>\n      <td>NaN</td>\n      <td>F</td>\n      <td>NaN</td>\n      <td>8572.0</td>\n      <td>1641111</td>\n      <td>50.0</td>\n    </tr>\n    <tr>\n      <th>7461190</th>\n      <td>1995</td>\n      <td>00.00.1995</td>\n      <td>La SainteLyon 65 km (FRA)</td>\n      <td>65km</td>\n      <td>2</td>\n      <td>4:33:20 h</td>\n      <td>NaN</td>\n      <td>FRA</td>\n      <td>NaN</td>\n      <td>M</td>\n      <td>NaN</td>\n      <td>14268.0</td>\n      <td>1151060</td>\n      <td>65.0</td>\n    </tr>\n    <tr>\n      <th>7461191</th>\n      <td>1995</td>\n      <td>00.00.1995</td>\n      <td>La SainteLyon 65 km (FRA)</td>\n      <td>65km</td>\n      <td>2</td>\n      <td>6:05:15 h</td>\n      <td>NaN</td>\n      <td>FRA</td>\n      <td>NaN</td>\n      <td>F</td>\n      <td>NaN</td>\n      <td>10678.0</td>\n      <td>1073520</td>\n      <td>65.0</td>\n    </tr>\n  </tbody>\n</table>\n<p>546227 rows × 14 columns</p>\n</div>"
     },
     "execution_count": 40,
     "metadata": {},
     "output_type": "execute_result"
    }
   ],
   "source": [
    "dfDistance[dfDistance['Athlete age category'].isna()==1]"
   ],
   "metadata": {
    "collapsed": false,
    "ExecuteTime": {
     "end_time": "2024-03-23T19:58:16.096654Z",
     "start_time": "2024-03-23T19:58:15.829343Z"
    }
   },
   "id": "4da43d3d284f0b56",
   "execution_count": 40
  },
  {
   "cell_type": "markdown",
   "source": [
    "Descriptive Statistics\n",
    "Measure of Location"
   ],
   "metadata": {
    "collapsed": false
   },
   "id": "6403005ea9845be1"
  },
  {
   "cell_type": "code",
   "outputs": [
    {
     "name": "stdout",
     "output_type": "stream",
     "text": [
      "Number of events in this dataset calculation: 6933114\n"
     ]
    }
   ],
   "source": [
    "print('Number of events in this dataset calculation: ' + str(dfDistance['distance_km'].count()))"
   ],
   "metadata": {
    "collapsed": false,
    "ExecuteTime": {
     "end_time": "2024-03-23T19:58:16.128644Z",
     "start_time": "2024-03-23T19:58:16.097638Z"
    }
   },
   "id": "f9ee7ffe22bf7a3d",
   "execution_count": 41
  },
  {
   "cell_type": "code",
   "outputs": [
    {
     "name": "stdout",
     "output_type": "stream",
     "text": [
      "Average distance of all the marathons in this dataset calculation = 77.74005868617085\n"
     ]
    }
   ],
   "source": [
    "print('Average distance of all the marathons in this dataset calculation = ' + str(dfDistance['distance_km'].sum()/dfDistance['distance_km'].count()))"
   ],
   "metadata": {
    "collapsed": false,
    "ExecuteTime": {
     "end_time": "2024-03-23T19:58:16.160158Z",
     "start_time": "2024-03-23T19:58:16.130643Z"
    }
   },
   "id": "a0d8aa622987b4df",
   "execution_count": 42
  },
  {
   "cell_type": "code",
   "outputs": [
    {
     "name": "stdout",
     "output_type": "stream",
     "text": [
      "Median distance of all the marathons in this dataset calculation = 66.0\n"
     ]
    }
   ],
   "source": [
    "print('Median distance of all the marathons in this dataset calculation = ' + str(dfDistance['distance_km'].median()))"
   ],
   "metadata": {
    "collapsed": false,
    "ExecuteTime": {
     "end_time": "2024-03-23T19:58:16.224155Z",
     "start_time": "2024-03-23T19:58:16.162156Z"
    }
   },
   "id": "f5d22c215eb01685",
   "execution_count": 43
  },
  {
   "cell_type": "code",
   "outputs": [
    {
     "name": "stdout",
     "output_type": "stream",
     "text": [
      "Mode of all the marathons in this dataset calculation = \n",
      "0    50.0\n",
      "Name: distance_km, dtype: float64\n"
     ]
    }
   ],
   "source": [
    "print('Mode of all the marathons in this dataset calculation = ')\n",
    "print(dfDistance['distance_km'].mode())"
   ],
   "metadata": {
    "collapsed": false,
    "ExecuteTime": {
     "end_time": "2024-03-23T19:58:16.302764Z",
     "start_time": "2024-03-23T19:58:16.228177Z"
    }
   },
   "id": "81f5a1f60b9bc50f",
   "execution_count": 44
  },
  {
   "cell_type": "code",
   "outputs": [
    {
     "name": "stdout",
     "output_type": "stream",
     "text": [
      "1st Quartile of all the marathons in this dataset calculation = 50.0\n"
     ]
    }
   ],
   "source": [
    "print('1st Quartile of all the marathons in this dataset calculation = ' + str(dfDistance['distance_km'].quantile(0.25)))"
   ],
   "metadata": {
    "collapsed": false,
    "ExecuteTime": {
     "end_time": "2024-03-23T19:58:16.365746Z",
     "start_time": "2024-03-23T19:58:16.304764Z"
    }
   },
   "id": "ce1548df7a34dfb1",
   "execution_count": 45
  },
  {
   "cell_type": "code",
   "outputs": [
    {
     "name": "stdout",
     "output_type": "stream",
     "text": [
      "2nd Quartile of all the marathons in this dataset calculation = 66.0\n"
     ]
    }
   ],
   "source": [
    "print('2nd Quartile of all the marathons in this dataset calculation = ' + str(dfDistance['distance_km'].quantile(0.50)))"
   ],
   "metadata": {
    "collapsed": false,
    "ExecuteTime": {
     "end_time": "2024-03-23T19:58:16.429248Z",
     "start_time": "2024-03-23T19:58:16.367208Z"
    }
   },
   "id": "c4042fc97802d864",
   "execution_count": 46
  },
  {
   "cell_type": "code",
   "outputs": [
    {
     "name": "stdout",
     "output_type": "stream",
     "text": [
      "3nd Quartile of all the marathons in this dataset calculation = 96.0\n"
     ]
    }
   ],
   "source": [
    "print('3nd Quartile of all the marathons in this dataset calculation = ' + str(dfDistance['distance_km'].quantile(0.75)))"
   ],
   "metadata": {
    "collapsed": false,
    "ExecuteTime": {
     "end_time": "2024-03-23T19:58:16.508131Z",
     "start_time": "2024-03-23T19:58:16.435249Z"
    }
   },
   "id": "f33820dadf2f667b",
   "execution_count": 47
  },
  {
   "cell_type": "code",
   "outputs": [
    {
     "data": {
      "text/plain": "count    6933114.000000\nmean          77.740059\nstd           56.778680\nmin           24.500000\n25%           50.000000\n50%           66.000000\n75%           96.000000\nmax         5719.594360\nName: distance_km, dtype: object"
     },
     "execution_count": 48,
     "metadata": {},
     "output_type": "execute_result"
    }
   ],
   "source": [
    "dfDistance['distance_km'].describe().apply(lambda x: format(x, 'f'))"
   ],
   "metadata": {
    "collapsed": false,
    "ExecuteTime": {
     "end_time": "2024-03-23T19:58:16.651688Z",
     "start_time": "2024-03-23T19:58:16.510132Z"
    }
   },
   "id": "c5c1ce5b4130d731",
   "execution_count": 48
  },
  {
   "cell_type": "code",
   "outputs": [
    {
     "name": "stdout",
     "output_type": "stream",
     "text": [
      "Shortest distance in list of the marathons in this dataset calculation = 24.5\n"
     ]
    }
   ],
   "source": [
    "print('Shortest distance in list of the marathons in this dataset calculation = ' + str(dfDistance['distance_km'].min()))"
   ],
   "metadata": {
    "collapsed": false,
    "ExecuteTime": {
     "end_time": "2024-03-23T19:58:16.667689Z",
     "start_time": "2024-03-23T19:58:16.653688Z"
    }
   },
   "id": "c8629ec4de20bb36",
   "execution_count": 49
  },
  {
   "cell_type": "code",
   "outputs": [
    {
     "name": "stdout",
     "output_type": "stream",
     "text": [
      "Longest distance in list of the marathons in this dataset calculation = 5719.59436\n"
     ]
    }
   ],
   "source": [
    "print('Longest distance in list of the marathons in this dataset calculation = ' + str(dfDistance['distance_km'].max()))"
   ],
   "metadata": {
    "collapsed": false,
    "ExecuteTime": {
     "end_time": "2024-03-23T19:58:16.683691Z",
     "start_time": "2024-03-23T19:58:16.669691Z"
    }
   },
   "id": "eb3e48e638edcb62",
   "execution_count": 50
  },
  {
   "cell_type": "code",
   "outputs": [
    {
     "name": "stdout",
     "output_type": "stream",
     "text": [
      "Longest distance in list of the marathons in this dataset calculation = \n",
      "0          50.000\n",
      "1          50.000\n",
      "2          50.000\n",
      "3          50.000\n",
      "4          50.000\n",
      "            ...  \n",
      "7461185    80.467\n",
      "7461186    61.300\n",
      "7461187    61.300\n",
      "7461190    65.000\n",
      "7461191    65.000\n",
      "Name: distance_km, Length: 6933114, dtype: float64\n"
     ]
    }
   ],
   "source": [
    "print('Longest distance in list of the marathons in this dataset calculation = ')\n",
    "print(dfDistance['distance_km'])"
   ],
   "metadata": {
    "collapsed": false,
    "ExecuteTime": {
     "end_time": "2024-03-23T19:58:16.714689Z",
     "start_time": "2024-03-23T19:58:16.685691Z"
    }
   },
   "id": "933bec459a7f744f",
   "execution_count": 51
  },
  {
   "cell_type": "code",
   "outputs": [
    {
     "ename": "KeyError",
     "evalue": "'distance_km'",
     "output_type": "error",
     "traceback": [
      "\u001B[1;31m---------------------------------------------------------------------------\u001B[0m",
      "\u001B[1;31mKeyError\u001B[0m                                  Traceback (most recent call last)",
      "File \u001B[1;32m~\\.conda\\envs\\Ultra-marathon-running\\lib\\site-packages\\pandas\\core\\indexes\\base.py:3653\u001B[0m, in \u001B[0;36mIndex.get_loc\u001B[1;34m(self, key)\u001B[0m\n\u001B[0;32m   3652\u001B[0m \u001B[38;5;28;01mtry\u001B[39;00m:\n\u001B[1;32m-> 3653\u001B[0m     \u001B[38;5;28;01mreturn\u001B[39;00m \u001B[38;5;28;43mself\u001B[39;49m\u001B[38;5;241;43m.\u001B[39;49m\u001B[43m_engine\u001B[49m\u001B[38;5;241;43m.\u001B[39;49m\u001B[43mget_loc\u001B[49m\u001B[43m(\u001B[49m\u001B[43mcasted_key\u001B[49m\u001B[43m)\u001B[49m\n\u001B[0;32m   3654\u001B[0m \u001B[38;5;28;01mexcept\u001B[39;00m \u001B[38;5;167;01mKeyError\u001B[39;00m \u001B[38;5;28;01mas\u001B[39;00m err:\n",
      "File \u001B[1;32m~\\.conda\\envs\\Ultra-marathon-running\\lib\\site-packages\\pandas\\_libs\\index.pyx:147\u001B[0m, in \u001B[0;36mpandas._libs.index.IndexEngine.get_loc\u001B[1;34m()\u001B[0m\n",
      "File \u001B[1;32m~\\.conda\\envs\\Ultra-marathon-running\\lib\\site-packages\\pandas\\_libs\\index.pyx:176\u001B[0m, in \u001B[0;36mpandas._libs.index.IndexEngine.get_loc\u001B[1;34m()\u001B[0m\n",
      "File \u001B[1;32mpandas\\_libs\\hashtable_class_helper.pxi:7080\u001B[0m, in \u001B[0;36mpandas._libs.hashtable.PyObjectHashTable.get_item\u001B[1;34m()\u001B[0m\n",
      "File \u001B[1;32mpandas\\_libs\\hashtable_class_helper.pxi:7088\u001B[0m, in \u001B[0;36mpandas._libs.hashtable.PyObjectHashTable.get_item\u001B[1;34m()\u001B[0m\n",
      "\u001B[1;31mKeyError\u001B[0m: 'distance_km'",
      "\nThe above exception was the direct cause of the following exception:\n",
      "\u001B[1;31mKeyError\u001B[0m                                  Traceback (most recent call last)",
      "Cell \u001B[1;32mIn[52], line 1\u001B[0m\n\u001B[1;32m----> 1\u001B[0m geometric_mean \u001B[38;5;241m=\u001B[39m gmean(\u001B[43mdf\u001B[49m\u001B[38;5;241;43m.\u001B[39;49m\u001B[43mloc\u001B[49m\u001B[43m[\u001B[49m\u001B[43m:\u001B[49m\u001B[43m,\u001B[49m\u001B[38;5;124;43m\"\u001B[39;49m\u001B[38;5;124;43mdistance_km\u001B[39;49m\u001B[38;5;124;43m\"\u001B[39;49m\u001B[43m]\u001B[49m)\n\u001B[0;32m      3\u001B[0m \u001B[38;5;28mprint\u001B[39m(\u001B[38;5;124m\"\u001B[39m\u001B[38;5;124mThe Geometric Mean is: \u001B[39m\u001B[38;5;124m\"\u001B[39m \u001B[38;5;241m+\u001B[39m \u001B[38;5;28mstr\u001B[39m(geometric_mean))\n",
      "File \u001B[1;32m~\\.conda\\envs\\Ultra-marathon-running\\lib\\site-packages\\pandas\\core\\indexing.py:1097\u001B[0m, in \u001B[0;36m_LocationIndexer.__getitem__\u001B[1;34m(self, key)\u001B[0m\n\u001B[0;32m   1095\u001B[0m     \u001B[38;5;28;01mif\u001B[39;00m \u001B[38;5;28mself\u001B[39m\u001B[38;5;241m.\u001B[39m_is_scalar_access(key):\n\u001B[0;32m   1096\u001B[0m         \u001B[38;5;28;01mreturn\u001B[39;00m \u001B[38;5;28mself\u001B[39m\u001B[38;5;241m.\u001B[39mobj\u001B[38;5;241m.\u001B[39m_get_value(\u001B[38;5;241m*\u001B[39mkey, takeable\u001B[38;5;241m=\u001B[39m\u001B[38;5;28mself\u001B[39m\u001B[38;5;241m.\u001B[39m_takeable)\n\u001B[1;32m-> 1097\u001B[0m     \u001B[38;5;28;01mreturn\u001B[39;00m \u001B[38;5;28;43mself\u001B[39;49m\u001B[38;5;241;43m.\u001B[39;49m\u001B[43m_getitem_tuple\u001B[49m\u001B[43m(\u001B[49m\u001B[43mkey\u001B[49m\u001B[43m)\u001B[49m\n\u001B[0;32m   1098\u001B[0m \u001B[38;5;28;01melse\u001B[39;00m:\n\u001B[0;32m   1099\u001B[0m     \u001B[38;5;66;03m# we by definition only have the 0th axis\u001B[39;00m\n\u001B[0;32m   1100\u001B[0m     axis \u001B[38;5;241m=\u001B[39m \u001B[38;5;28mself\u001B[39m\u001B[38;5;241m.\u001B[39maxis \u001B[38;5;129;01mor\u001B[39;00m \u001B[38;5;241m0\u001B[39m\n",
      "File \u001B[1;32m~\\.conda\\envs\\Ultra-marathon-running\\lib\\site-packages\\pandas\\core\\indexing.py:1280\u001B[0m, in \u001B[0;36m_LocIndexer._getitem_tuple\u001B[1;34m(self, tup)\u001B[0m\n\u001B[0;32m   1278\u001B[0m \u001B[38;5;28;01mwith\u001B[39;00m suppress(IndexingError):\n\u001B[0;32m   1279\u001B[0m     tup \u001B[38;5;241m=\u001B[39m \u001B[38;5;28mself\u001B[39m\u001B[38;5;241m.\u001B[39m_expand_ellipsis(tup)\n\u001B[1;32m-> 1280\u001B[0m     \u001B[38;5;28;01mreturn\u001B[39;00m \u001B[38;5;28;43mself\u001B[39;49m\u001B[38;5;241;43m.\u001B[39;49m\u001B[43m_getitem_lowerdim\u001B[49m\u001B[43m(\u001B[49m\u001B[43mtup\u001B[49m\u001B[43m)\u001B[49m\n\u001B[0;32m   1282\u001B[0m \u001B[38;5;66;03m# no multi-index, so validate all of the indexers\u001B[39;00m\n\u001B[0;32m   1283\u001B[0m tup \u001B[38;5;241m=\u001B[39m \u001B[38;5;28mself\u001B[39m\u001B[38;5;241m.\u001B[39m_validate_tuple_indexer(tup)\n",
      "File \u001B[1;32m~\\.conda\\envs\\Ultra-marathon-running\\lib\\site-packages\\pandas\\core\\indexing.py:1000\u001B[0m, in \u001B[0;36m_LocationIndexer._getitem_lowerdim\u001B[1;34m(self, tup)\u001B[0m\n\u001B[0;32m    996\u001B[0m \u001B[38;5;28;01mfor\u001B[39;00m i, key \u001B[38;5;129;01min\u001B[39;00m \u001B[38;5;28menumerate\u001B[39m(tup):\n\u001B[0;32m    997\u001B[0m     \u001B[38;5;28;01mif\u001B[39;00m is_label_like(key):\n\u001B[0;32m    998\u001B[0m         \u001B[38;5;66;03m# We don't need to check for tuples here because those are\u001B[39;00m\n\u001B[0;32m    999\u001B[0m         \u001B[38;5;66;03m#  caught by the _is_nested_tuple_indexer check above.\u001B[39;00m\n\u001B[1;32m-> 1000\u001B[0m         section \u001B[38;5;241m=\u001B[39m \u001B[38;5;28;43mself\u001B[39;49m\u001B[38;5;241;43m.\u001B[39;49m\u001B[43m_getitem_axis\u001B[49m\u001B[43m(\u001B[49m\u001B[43mkey\u001B[49m\u001B[43m,\u001B[49m\u001B[43m \u001B[49m\u001B[43maxis\u001B[49m\u001B[38;5;241;43m=\u001B[39;49m\u001B[43mi\u001B[49m\u001B[43m)\u001B[49m\n\u001B[0;32m   1002\u001B[0m         \u001B[38;5;66;03m# We should never have a scalar section here, because\u001B[39;00m\n\u001B[0;32m   1003\u001B[0m         \u001B[38;5;66;03m#  _getitem_lowerdim is only called after a check for\u001B[39;00m\n\u001B[0;32m   1004\u001B[0m         \u001B[38;5;66;03m#  is_scalar_access, which that would be.\u001B[39;00m\n\u001B[0;32m   1005\u001B[0m         \u001B[38;5;28;01mif\u001B[39;00m section\u001B[38;5;241m.\u001B[39mndim \u001B[38;5;241m==\u001B[39m \u001B[38;5;28mself\u001B[39m\u001B[38;5;241m.\u001B[39mndim:\n\u001B[0;32m   1006\u001B[0m             \u001B[38;5;66;03m# we're in the middle of slicing through a MultiIndex\u001B[39;00m\n\u001B[0;32m   1007\u001B[0m             \u001B[38;5;66;03m# revise the key wrt to `section` by inserting an _NS\u001B[39;00m\n",
      "File \u001B[1;32m~\\.conda\\envs\\Ultra-marathon-running\\lib\\site-packages\\pandas\\core\\indexing.py:1343\u001B[0m, in \u001B[0;36m_LocIndexer._getitem_axis\u001B[1;34m(self, key, axis)\u001B[0m\n\u001B[0;32m   1341\u001B[0m \u001B[38;5;66;03m# fall thru to straight lookup\u001B[39;00m\n\u001B[0;32m   1342\u001B[0m \u001B[38;5;28mself\u001B[39m\u001B[38;5;241m.\u001B[39m_validate_key(key, axis)\n\u001B[1;32m-> 1343\u001B[0m \u001B[38;5;28;01mreturn\u001B[39;00m \u001B[38;5;28;43mself\u001B[39;49m\u001B[38;5;241;43m.\u001B[39;49m\u001B[43m_get_label\u001B[49m\u001B[43m(\u001B[49m\u001B[43mkey\u001B[49m\u001B[43m,\u001B[49m\u001B[43m \u001B[49m\u001B[43maxis\u001B[49m\u001B[38;5;241;43m=\u001B[39;49m\u001B[43maxis\u001B[49m\u001B[43m)\u001B[49m\n",
      "File \u001B[1;32m~\\.conda\\envs\\Ultra-marathon-running\\lib\\site-packages\\pandas\\core\\indexing.py:1293\u001B[0m, in \u001B[0;36m_LocIndexer._get_label\u001B[1;34m(self, label, axis)\u001B[0m\n\u001B[0;32m   1291\u001B[0m \u001B[38;5;28;01mdef\u001B[39;00m \u001B[38;5;21m_get_label\u001B[39m(\u001B[38;5;28mself\u001B[39m, label, axis: AxisInt):\n\u001B[0;32m   1292\u001B[0m     \u001B[38;5;66;03m# GH#5567 this will fail if the label is not present in the axis.\u001B[39;00m\n\u001B[1;32m-> 1293\u001B[0m     \u001B[38;5;28;01mreturn\u001B[39;00m \u001B[38;5;28;43mself\u001B[39;49m\u001B[38;5;241;43m.\u001B[39;49m\u001B[43mobj\u001B[49m\u001B[38;5;241;43m.\u001B[39;49m\u001B[43mxs\u001B[49m\u001B[43m(\u001B[49m\u001B[43mlabel\u001B[49m\u001B[43m,\u001B[49m\u001B[43m \u001B[49m\u001B[43maxis\u001B[49m\u001B[38;5;241;43m=\u001B[39;49m\u001B[43maxis\u001B[49m\u001B[43m)\u001B[49m\n",
      "File \u001B[1;32m~\\.conda\\envs\\Ultra-marathon-running\\lib\\site-packages\\pandas\\core\\generic.py:4082\u001B[0m, in \u001B[0;36mNDFrame.xs\u001B[1;34m(self, key, axis, level, drop_level)\u001B[0m\n\u001B[0;32m   4080\u001B[0m \u001B[38;5;28;01mif\u001B[39;00m axis \u001B[38;5;241m==\u001B[39m \u001B[38;5;241m1\u001B[39m:\n\u001B[0;32m   4081\u001B[0m     \u001B[38;5;28;01mif\u001B[39;00m drop_level:\n\u001B[1;32m-> 4082\u001B[0m         \u001B[38;5;28;01mreturn\u001B[39;00m \u001B[38;5;28;43mself\u001B[39;49m\u001B[43m[\u001B[49m\u001B[43mkey\u001B[49m\u001B[43m]\u001B[49m\n\u001B[0;32m   4083\u001B[0m     index \u001B[38;5;241m=\u001B[39m \u001B[38;5;28mself\u001B[39m\u001B[38;5;241m.\u001B[39mcolumns\n\u001B[0;32m   4084\u001B[0m \u001B[38;5;28;01melse\u001B[39;00m:\n",
      "File \u001B[1;32m~\\.conda\\envs\\Ultra-marathon-running\\lib\\site-packages\\pandas\\core\\frame.py:3761\u001B[0m, in \u001B[0;36mDataFrame.__getitem__\u001B[1;34m(self, key)\u001B[0m\n\u001B[0;32m   3759\u001B[0m \u001B[38;5;28;01mif\u001B[39;00m \u001B[38;5;28mself\u001B[39m\u001B[38;5;241m.\u001B[39mcolumns\u001B[38;5;241m.\u001B[39mnlevels \u001B[38;5;241m>\u001B[39m \u001B[38;5;241m1\u001B[39m:\n\u001B[0;32m   3760\u001B[0m     \u001B[38;5;28;01mreturn\u001B[39;00m \u001B[38;5;28mself\u001B[39m\u001B[38;5;241m.\u001B[39m_getitem_multilevel(key)\n\u001B[1;32m-> 3761\u001B[0m indexer \u001B[38;5;241m=\u001B[39m \u001B[38;5;28;43mself\u001B[39;49m\u001B[38;5;241;43m.\u001B[39;49m\u001B[43mcolumns\u001B[49m\u001B[38;5;241;43m.\u001B[39;49m\u001B[43mget_loc\u001B[49m\u001B[43m(\u001B[49m\u001B[43mkey\u001B[49m\u001B[43m)\u001B[49m\n\u001B[0;32m   3762\u001B[0m \u001B[38;5;28;01mif\u001B[39;00m is_integer(indexer):\n\u001B[0;32m   3763\u001B[0m     indexer \u001B[38;5;241m=\u001B[39m [indexer]\n",
      "File \u001B[1;32m~\\.conda\\envs\\Ultra-marathon-running\\lib\\site-packages\\pandas\\core\\indexes\\base.py:3655\u001B[0m, in \u001B[0;36mIndex.get_loc\u001B[1;34m(self, key)\u001B[0m\n\u001B[0;32m   3653\u001B[0m     \u001B[38;5;28;01mreturn\u001B[39;00m \u001B[38;5;28mself\u001B[39m\u001B[38;5;241m.\u001B[39m_engine\u001B[38;5;241m.\u001B[39mget_loc(casted_key)\n\u001B[0;32m   3654\u001B[0m \u001B[38;5;28;01mexcept\u001B[39;00m \u001B[38;5;167;01mKeyError\u001B[39;00m \u001B[38;5;28;01mas\u001B[39;00m err:\n\u001B[1;32m-> 3655\u001B[0m     \u001B[38;5;28;01mraise\u001B[39;00m \u001B[38;5;167;01mKeyError\u001B[39;00m(key) \u001B[38;5;28;01mfrom\u001B[39;00m \u001B[38;5;21;01merr\u001B[39;00m\n\u001B[0;32m   3656\u001B[0m \u001B[38;5;28;01mexcept\u001B[39;00m \u001B[38;5;167;01mTypeError\u001B[39;00m:\n\u001B[0;32m   3657\u001B[0m     \u001B[38;5;66;03m# If we have a listlike key, _check_indexing_error will raise\u001B[39;00m\n\u001B[0;32m   3658\u001B[0m     \u001B[38;5;66;03m#  InvalidIndexError. Otherwise we fall through and re-raise\u001B[39;00m\n\u001B[0;32m   3659\u001B[0m     \u001B[38;5;66;03m#  the TypeError.\u001B[39;00m\n\u001B[0;32m   3660\u001B[0m     \u001B[38;5;28mself\u001B[39m\u001B[38;5;241m.\u001B[39m_check_indexing_error(key)\n",
      "\u001B[1;31mKeyError\u001B[0m: 'distance_km'"
     ]
    }
   ],
   "source": [
    "geometric_mean = gmean(df.loc[:,\"distance_km\"])\n",
    "\n",
    "print(\"The Geometric Mean is: \" + str(geometric_mean)) "
   ],
   "metadata": {
    "collapsed": false,
    "ExecuteTime": {
     "end_time": "2024-03-23T19:58:20.468746Z",
     "start_time": "2024-03-23T19:58:16.716689Z"
    }
   },
   "id": "3aae0cf1e56f062c",
   "execution_count": 52
  }
 ],
 "metadata": {
  "kernelspec": {
   "display_name": "Python 3",
   "language": "python",
   "name": "python3"
  },
  "language_info": {
   "codemirror_mode": {
    "name": "ipython",
    "version": 2
   },
   "file_extension": ".py",
   "mimetype": "text/x-python",
   "name": "python",
   "nbconvert_exporter": "python",
   "pygments_lexer": "ipython2",
   "version": "2.7.6"
  }
 },
 "nbformat": 4,
 "nbformat_minor": 5
}
